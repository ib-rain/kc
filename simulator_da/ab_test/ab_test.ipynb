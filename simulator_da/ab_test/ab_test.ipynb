{
 "cells": [
  {
   "cell_type": "code",
   "execution_count": 1,
   "id": "41878519-50c9-42ab-beaf-398d4e5b2e3d",
   "metadata": {},
   "outputs": [],
   "source": [
    "import numpy as np\n",
    "from read_db.CH import Getch\n",
    "import pandas as pd\n",
    "from scipy import stats\n",
    "import matplotlib.pyplot as plt\n",
    "import seaborn as sns\n",
    "from random import seed\n",
    "\n",
    "sns.set(rc={'figure.figsize': (16, 10)}, style='whitegrid')"
   ]
  },
  {
   "cell_type": "code",
   "execution_count": 2,
   "id": "2dafa274-45d6-42e8-bbbd-c18743fed3fc",
   "metadata": {},
   "outputs": [],
   "source": [
    "begin_date_str = '2022-03-15'\n",
    "end_date_str = '2022-03-21'\n",
    "groups_tuple = (2,1)\n",
    "\n",
    "q = f\"\"\"SELECT  exp_group,\n",
    "        user_id,\n",
    "        sum(action = 'like') as likes,\n",
    "        sum(action = 'view') as views,\n",
    "        likes/views as ctr\n",
    "FROM simulator_20220320.feed_actions \n",
    "WHERE toDate(time) between '{begin_date_str}' and '{end_date_str}'\n",
    "    and exp_group in {groups_tuple}\n",
    "GROUP BY exp_group, user_id\n",
    "\"\"\"\n",
    "#The BETWEEN operator is inclusive: begin and end values are included."
   ]
  },
  {
   "cell_type": "code",
   "execution_count": 3,
   "id": "04349248-7e57-4f89-8593-3f95d465ff66",
   "metadata": {},
   "outputs": [
    {
     "data": {
      "text/html": [
       "<div>\n",
       "<style scoped>\n",
       "    .dataframe tbody tr th:only-of-type {\n",
       "        vertical-align: middle;\n",
       "    }\n",
       "\n",
       "    .dataframe tbody tr th {\n",
       "        vertical-align: top;\n",
       "    }\n",
       "\n",
       "    .dataframe thead th {\n",
       "        text-align: right;\n",
       "    }\n",
       "</style>\n",
       "<table border=\"1\" class=\"dataframe\">\n",
       "  <thead>\n",
       "    <tr style=\"text-align: right;\">\n",
       "      <th></th>\n",
       "      <th>exp_group</th>\n",
       "      <th>user_id</th>\n",
       "      <th>likes</th>\n",
       "      <th>views</th>\n",
       "      <th>ctr</th>\n",
       "    </tr>\n",
       "  </thead>\n",
       "  <tbody>\n",
       "    <tr>\n",
       "      <th>0</th>\n",
       "      <td>1</td>\n",
       "      <td>109963</td>\n",
       "      <td>3</td>\n",
       "      <td>15</td>\n",
       "      <td>0.200000</td>\n",
       "    </tr>\n",
       "    <tr>\n",
       "      <th>1</th>\n",
       "      <td>1</td>\n",
       "      <td>26117</td>\n",
       "      <td>32</td>\n",
       "      <td>141</td>\n",
       "      <td>0.226950</td>\n",
       "    </tr>\n",
       "    <tr>\n",
       "      <th>2</th>\n",
       "      <td>1</td>\n",
       "      <td>138232</td>\n",
       "      <td>18</td>\n",
       "      <td>73</td>\n",
       "      <td>0.246575</td>\n",
       "    </tr>\n",
       "    <tr>\n",
       "      <th>3</th>\n",
       "      <td>1</td>\n",
       "      <td>26295</td>\n",
       "      <td>33</td>\n",
       "      <td>122</td>\n",
       "      <td>0.270492</td>\n",
       "    </tr>\n",
       "    <tr>\n",
       "      <th>4</th>\n",
       "      <td>1</td>\n",
       "      <td>18392</td>\n",
       "      <td>7</td>\n",
       "      <td>32</td>\n",
       "      <td>0.218750</td>\n",
       "    </tr>\n",
       "    <tr>\n",
       "      <th>...</th>\n",
       "      <td>...</td>\n",
       "      <td>...</td>\n",
       "      <td>...</td>\n",
       "      <td>...</td>\n",
       "      <td>...</td>\n",
       "    </tr>\n",
       "    <tr>\n",
       "      <th>20026</th>\n",
       "      <td>1</td>\n",
       "      <td>132567</td>\n",
       "      <td>45</td>\n",
       "      <td>296</td>\n",
       "      <td>0.152027</td>\n",
       "    </tr>\n",
       "    <tr>\n",
       "      <th>20027</th>\n",
       "      <td>1</td>\n",
       "      <td>30872</td>\n",
       "      <td>11</td>\n",
       "      <td>59</td>\n",
       "      <td>0.186441</td>\n",
       "    </tr>\n",
       "    <tr>\n",
       "      <th>20028</th>\n",
       "      <td>2</td>\n",
       "      <td>25383</td>\n",
       "      <td>42</td>\n",
       "      <td>127</td>\n",
       "      <td>0.330709</td>\n",
       "    </tr>\n",
       "    <tr>\n",
       "      <th>20029</th>\n",
       "      <td>2</td>\n",
       "      <td>139020</td>\n",
       "      <td>24</td>\n",
       "      <td>114</td>\n",
       "      <td>0.210526</td>\n",
       "    </tr>\n",
       "    <tr>\n",
       "      <th>20030</th>\n",
       "      <td>2</td>\n",
       "      <td>17310</td>\n",
       "      <td>9</td>\n",
       "      <td>82</td>\n",
       "      <td>0.109756</td>\n",
       "    </tr>\n",
       "  </tbody>\n",
       "</table>\n",
       "<p>20031 rows × 5 columns</p>\n",
       "</div>"
      ],
      "text/plain": [
       "       exp_group  user_id  likes  views       ctr\n",
       "0              1   109963      3     15  0.200000\n",
       "1              1    26117     32    141  0.226950\n",
       "2              1   138232     18     73  0.246575\n",
       "3              1    26295     33    122  0.270492\n",
       "4              1    18392      7     32  0.218750\n",
       "...          ...      ...    ...    ...       ...\n",
       "20026          1   132567     45    296  0.152027\n",
       "20027          1    30872     11     59  0.186441\n",
       "20028          2    25383     42    127  0.330709\n",
       "20029          2   139020     24    114  0.210526\n",
       "20030          2    17310      9     82  0.109756\n",
       "\n",
       "[20031 rows x 5 columns]"
      ]
     },
     "execution_count": 3,
     "metadata": {},
     "output_type": "execute_result"
    }
   ],
   "source": [
    "df = Getch(q).df\n",
    "df"
   ]
  },
  {
   "cell_type": "code",
   "execution_count": 4,
   "id": "8ee7f808-a921-476f-8eb4-eb07bfb1359e",
   "metadata": {},
   "outputs": [
    {
     "data": {
      "text/plain": [
       "((9952, 4), (10079, 4))"
      ]
     },
     "execution_count": 4,
     "metadata": {},
     "output_type": "execute_result"
    }
   ],
   "source": [
    "df2 = df.query('exp_group == 2').drop('exp_group', axis = 1)\n",
    "df1 = df.query('exp_group == 1').drop('exp_group', axis = 1)\n",
    "df2.shape, df1.shape"
   ]
  },
  {
   "cell_type": "markdown",
   "id": "365612fd-418b-4635-ae48-4f6c4533653e",
   "metadata": {},
   "source": [
    "## Cравнить CTR в двух группах:\n",
    "\n",
    "### 0) глазами\n"
   ]
  },
  {
   "cell_type": "code",
   "execution_count": 5,
   "id": "1212151b-40aa-4fe2-a91d-8c54e19947e1",
   "metadata": {},
   "outputs": [
    {
     "data": {
      "text/plain": [
       "<AxesSubplot:xlabel='ctr', ylabel='Count'>"
      ]
     },
     "execution_count": 5,
     "metadata": {},
     "output_type": "execute_result"
    },
    {
     "data": {
      "image/png": "[encoded data removed]",
      "text/plain": [
       "<Figure size 1152x720 with 1 Axes>"
      ]
     },
     "metadata": {},
     "output_type": "display_data"
    }
   ],
   "source": [
    "plt.xticks(np.arange(0.0, 1, 0.05))\n",
    "sns.histplot(data=df, x='ctr', hue='exp_group', palette=['r','b'], binwidth=0.01) #bins=np.linspace(0.0, 0.8, 80))"
   ]
  },
  {
   "cell_type": "markdown",
   "id": "f4e95db0-ca86-4eb5-a386-bc2028ebc507",
   "metadata": {},
   "source": [
    "Распределение CTR в контрольной группе (1) несколько похоже на нормальное (унимодально, довольно симметрично); в экспериментальной (2) оно изменилось так,\\\n",
    "что большая часть пользователей стала лайкать меньше постов (левый горб), однако некоторая часть стала лайкать больше (\"горбики\" справа).\n",
    "\n",
    "Какая часть больше?"
   ]
  },
  {
   "cell_type": "code",
   "execution_count": 6,
   "id": "2dedabe3-979c-4244-87bf-6065e09caead",
   "metadata": {},
   "outputs": [],
   "source": [
    "def get_ctr_thresholds_parts_diffs(df, threshold1, threshold2):\n",
    "    return len(df[df.ctr <= threshold1]) / len(df) - len(df[df.ctr >= threshold2]) / len(df)"
   ]
  },
  {
   "cell_type": "code",
   "execution_count": 7,
   "id": "888f5cf0-7aef-42af-ad3b-d799b901ffd5",
   "metadata": {},
   "outputs": [
    {
     "name": "stdout",
     "output_type": "stream",
     "text": [
      "10.54%\n"
     ]
    }
   ],
   "source": [
    "#Значения отсечек взяты из гистограммы как \"дальняя от 0.2 граница первого бина, у которого количество элементов 2 группы больше (синий бин выше)\"\n",
    "th1 = 0.14\n",
    "th2 = 0.27\n",
    "print(f'{get_ctr_thresholds_parts_diffs(df2, th1, th2)*100:.2f}%')"
   ]
  },
  {
   "cell_type": "markdown",
   "id": "96cfb884-2a83-4bc9-acce-3a03e855cbc6",
   "metadata": {},
   "source": [
    "Ставших лайкать меньше оказалось больше (pun not intended)."
   ]
  },
  {
   "cell_type": "markdown",
   "id": "14b71f1c-4e14-49f1-84c5-e9a308a25af6",
   "metadata": {},
   "source": [
    "### 1) t-тест"
   ]
  },
  {
   "cell_type": "code",
   "execution_count": 8,
   "id": "94f1c45b-0919-472f-825e-43916ac49dce",
   "metadata": {},
   "outputs": [
    {
     "data": {
      "text/plain": [
       "Ttest_indResult(statistic=0.7094392041270485, pvalue=0.4780623130874935)"
      ]
     },
     "execution_count": 8,
     "metadata": {},
     "output_type": "execute_result"
    }
   ],
   "source": [
    "stats.ttest_ind(a=df1.ctr, b=df2.ctr, equal_var=False)"
   ]
  },
  {
   "cell_type": "code",
   "execution_count": 9,
   "id": "bd537959-e1db-4154-8020-c1f27dd2384b",
   "metadata": {},
   "outputs": [
    {
     "data": {
      "text/plain": [
       "((0.21560459841296287, 0.0070828247094791436),\n",
       " (0.21441927347479375, 0.02078786783139333))"
      ]
     },
     "execution_count": 9,
     "metadata": {},
     "output_type": "execute_result"
    }
   ],
   "source": [
    "(df1.ctr.mean(), df1.ctr.var()), (df2.ctr.mean(), df2.ctr.var())"
   ]
  },
  {
   "cell_type": "code",
   "execution_count": 10,
   "id": "66a1afde-b86c-442f-91aa-63ca4a6d4bc7",
   "metadata": {},
   "outputs": [
    {
     "data": {
      "text/plain": [
       "False"
      ]
     },
     "execution_count": 10,
     "metadata": {},
     "output_type": "execute_result"
    }
   ],
   "source": [
    "statistic = (df1.ctr.mean() - df2.ctr.mean()) /  np.sqrt(df1.ctr.var()/len(df1) + df2.ctr.var()/len(df2))\n",
    "statistic == 0.7094392041270486"
   ]
  },
  {
   "cell_type": "code",
   "execution_count": 11,
   "id": "8afe8281-ab05-4f64-b128-f0cfcba9eb7e",
   "metadata": {},
   "outputs": [
    {
     "data": {
      "text/plain": [
       "0.47806022470167875"
      ]
     },
     "execution_count": 11,
     "metadata": {},
     "output_type": "execute_result"
    }
   ],
   "source": [
    "pval = 1 - (stats.t.cdf(statistic, df=len(df1)+len(df2)-2) - stats.t.cdf(-statistic, df=len(df1)+len(df2)-2))\n",
    "pval"
   ]
  },
  {
   "cell_type": "code",
   "execution_count": 12,
   "id": "ec4fbdb5-295f-48fe-a81e-6e2151134073",
   "metadata": {},
   "outputs": [
    {
     "data": {
      "text/plain": [
       "-2.0883858147247025e-06"
      ]
     },
     "execution_count": 12,
     "metadata": {},
     "output_type": "execute_result"
    }
   ],
   "source": [
    "pval - 0.4780623130874935"
   ]
  },
  {
   "cell_type": "markdown",
   "id": "3c29f588-7a0a-4523-9dd7-2db76a9f6404",
   "metadata": {},
   "source": [
    "### 2) Пуассоновский бутстреп"
   ]
  },
  {
   "cell_type": "code",
   "execution_count": 13,
   "id": "c1659219-ac72-48dd-bf53-bd68efc44a8d",
   "metadata": {},
   "outputs": [],
   "source": [
    "def bootstrap(likes1, views1, likes2, views2, n_bootstrap=2000):\n",
    "\n",
    "    poisson_bootstraps1 = stats.poisson(1).rvs(\n",
    "        (n_bootstrap, len(likes1))).astype(np.int64)\n",
    "\n",
    "    poisson_bootstraps2 = stats.poisson(1).rvs(\n",
    "            (n_bootstrap, len(likes2))).astype(np.int64)\n",
    "    \n",
    "    globalCTR1 = (poisson_bootstraps1*likes1).sum(axis=1)/(poisson_bootstraps1*views1).sum(axis=1)\n",
    "    \n",
    "    globalCTR2 = (poisson_bootstraps2*likes2).sum(axis=1)/(poisson_bootstraps2*views2).sum(axis=1)\n",
    "\n",
    "    return globalCTR1, globalCTR2\n",
    "\n",
    "\n",
    "def bootstrap_df(df, n_bootstrap=2000):\n",
    "    seed(len(df))    \n",
    "    poisson_bootstraps = stats.poisson(1).rvs((n_bootstrap, len(df))).astype(np.int64)\n",
    "    global_CTR = (poisson_bootstraps * df.likes.to_numpy()).sum(axis=1) / (poisson_bootstraps * df.views.to_numpy()).sum(axis=1)\n",
    "    \n",
    "    return global_CTR"
   ]
  },
  {
   "cell_type": "code",
   "execution_count": 14,
   "id": "beb82afe-50b1-41d6-801f-5cbce0f6dbca",
   "metadata": {},
   "outputs": [],
   "source": [
    "ctr1 = bootstrap_df(df1)\n",
    "ctr2 = bootstrap_df(df2)"
   ]
  },
  {
   "cell_type": "code",
   "execution_count": 15,
   "id": "49b6d299-afac-47a3-a73a-479d33c814a8",
   "metadata": {},
   "outputs": [
    {
     "data": {
      "text/plain": [
       "<AxesSubplot:ylabel='Count'>"
      ]
     },
     "execution_count": 15,
     "metadata": {},
     "output_type": "execute_result"
    },
    {
     "data": {
      "image/png": "[encoded data removed]",
      "text/plain": [
       "<Figure size 1152x720 with 1 Axes>"
      ]
     },
     "metadata": {},
     "output_type": "display_data"
    }
   ],
   "source": [
    "sns.histplot(ctr1, color='r')\n",
    "sns.histplot(ctr2, color='b')"
   ]
  },
  {
   "cell_type": "code",
   "execution_count": 16,
   "id": "f329ee62-9323-46d5-aade-ff725a43f83b",
   "metadata": {},
   "outputs": [
    {
     "data": {
      "text/plain": [
       "<AxesSubplot:ylabel='Count'>"
      ]
     },
     "execution_count": 16,
     "metadata": {},
     "output_type": "execute_result"
    },
    {
     "data": {
      "image/png": "[encoded data removed]",
      "text/plain": [
       "<Figure size 1152x720 with 1 Axes>"
      ]
     },
     "metadata": {},
     "output_type": "display_data"
    }
   ],
   "source": [
    "sns.histplot(ctr2 - ctr1)"
   ]
  },
  {
   "cell_type": "markdown",
   "id": "db2e8ef2-f2bd-4f21-8dba-26af17cb1b36",
   "metadata": {},
   "source": [
    "Разница между глобальными CTR не включает 0, а это значит, что они отличаются."
   ]
  },
  {
   "cell_type": "markdown",
   "id": "b3d911f4-1d9c-45ff-9db1-2f9ef70e4e9e",
   "metadata": {},
   "source": [
    "### 3) тест Манна-Уитни"
   ]
  },
  {
   "cell_type": "code",
   "execution_count": 17,
   "id": "5db61dc0-7b57-46b7-8d4e-0c329db58642",
   "metadata": {},
   "outputs": [
    {
     "data": {
      "text/plain": [
       "MannwhitneyuResult(statistic=56601260.5, pvalue=6.0376484617779035e-56)"
      ]
     },
     "execution_count": 17,
     "metadata": {},
     "output_type": "execute_result"
    }
   ],
   "source": [
    "stats.mannwhitneyu(x=df1.ctr, y=df2.ctr, alternative='two-sided')"
   ]
  },
  {
   "cell_type": "markdown",
   "id": "8a04d342-607c-4930-8405-3cc271cc0263",
   "metadata": {},
   "source": [
    "### 4) t-тест на сглаженном ctr (α=5)\n"
   ]
  },
  {
   "cell_type": "code",
   "execution_count": 18,
   "id": "b7a7e3c5-100b-4e28-a7f9-3dc31cfe9cc8",
   "metadata": {},
   "outputs": [],
   "source": [
    "def get_smothed_ctr(user_likes, user_views, global_ctr, alpha):\n",
    "    smothed_ctr = (user_likes + alpha * global_ctr) / (user_views + alpha)\n",
    "    return smothed_ctr\n",
    "\n",
    "\n",
    "def get_smoothed_ctr_df(df, alpha=5):\n",
    "    global_ctr = df.likes.sum() / df.views.sum()\n",
    "    smoothed_ctr = (df.likes + alpha * global_ctr) / (df.views + alpha)\n",
    "    return smoothed_ctr"
   ]
  },
  {
   "cell_type": "code",
   "execution_count": 19,
   "id": "fd942e71-84c3-486b-9742-e8027ff6bc45",
   "metadata": {},
   "outputs": [
    {
     "data": {
      "text/plain": [
       "(10079, 9952)"
      ]
     },
     "execution_count": 19,
     "metadata": {},
     "output_type": "execute_result"
    }
   ],
   "source": [
    "smoothed_ctr1 = get_smoothed_ctr_df(df1)\n",
    "smoothed_ctr2 = get_smoothed_ctr_df(df2)\n",
    "len(smoothed_ctr1), len(smoothed_ctr2)"
   ]
  },
  {
   "cell_type": "code",
   "execution_count": 20,
   "id": "aa03840e-27eb-4e96-850e-63edafa680d2",
   "metadata": {},
   "outputs": [
    {
     "data": {
      "text/plain": [
       "<AxesSubplot:ylabel='Count'>"
      ]
     },
     "execution_count": 20,
     "metadata": {},
     "output_type": "execute_result"
    },
    {
     "data": {
      "image/png": "[encoded data removed]",
      "text/plain": [
       "<Figure size 1152x720 with 1 Axes>"
      ]
     },
     "metadata": {},
     "output_type": "display_data"
    }
   ],
   "source": [
    "# sns.distplot(smoothed_ctr1, kde=False)\n",
    "# sns.distplot(smoothed_ctr2, kde=False)\n",
    "\n",
    "bins = np.linspace(0.0, 0.7)\n",
    "sns.histplot(smoothed_ctr1, bins=bins, color='r')\n",
    "sns.histplot(smoothed_ctr2, bins=bins, color='b')"
   ]
  },
  {
   "cell_type": "code",
   "execution_count": 21,
   "id": "4c8b24ed-6a98-441c-b1d8-70ef76fa8837",
   "metadata": {},
   "outputs": [
    {
     "data": {
      "text/plain": [
       "Ttest_indResult(statistic=2.2841320431616983, pvalue=0.0223769815558559)"
      ]
     },
     "execution_count": 21,
     "metadata": {},
     "output_type": "execute_result"
    }
   ],
   "source": [
    "stats.ttest_ind(a=smoothed_ctr1, b=smoothed_ctr2, equal_var=False)"
   ]
  },
  {
   "cell_type": "code",
   "execution_count": 22,
   "id": "d5f5a39b-3ce9-497e-a38e-2d99211835a3",
   "metadata": {},
   "outputs": [
    {
     "data": {
      "text/plain": [
       "(0.21402549608884142, 0.21073955503259234)"
      ]
     },
     "execution_count": 22,
     "metadata": {},
     "output_type": "execute_result"
    }
   ],
   "source": [
    "smoothed_ctr1.mean(), smoothed_ctr2.mean()"
   ]
  },
  {
   "cell_type": "code",
   "execution_count": 23,
   "id": "d0e88013-9d8a-4677-9a1a-5b5e7914087f",
   "metadata": {},
   "outputs": [],
   "source": [
    "bucket_q = f\"\"\"SELECT   exp_group,\n",
    "                        bucket,\n",
    "                        sum(likes) / sum(views) as bucket_ctr\n",
    "FROM\n",
    "(\n",
    "    SELECT  exp_group,\n",
    "            xxHash64(user_id)%50 as bucket,\n",
    "            user_id,\n",
    "            sum(action = 'like') as likes,\n",
    "            sum(action = 'view') as views,\n",
    "            likes/views as ctr\n",
    "    FROM simulator_20220320.feed_actions \n",
    "    WHERE toDate(time) between '{begin_date_str}' and '{end_date_str}'\n",
    "        and exp_group in {groups_tuple}\n",
    "    GROUP BY exp_group, bucket, user_id\n",
    ")\n",
    "GROUP BY exp_group, bucket\n",
    "\"\"\""
   ]
  },
  {
   "cell_type": "code",
   "execution_count": 24,
   "id": "f9aba9fd-8315-4ecc-826f-d99ced614c66",
   "metadata": {},
   "outputs": [
    {
     "data": {
      "text/html": [
       "<div>\n",
       "<style scoped>\n",
       "    .dataframe tbody tr th:only-of-type {\n",
       "        vertical-align: middle;\n",
       "    }\n",
       "\n",
       "    .dataframe tbody tr th {\n",
       "        vertical-align: top;\n",
       "    }\n",
       "\n",
       "    .dataframe thead th {\n",
       "        text-align: right;\n",
       "    }\n",
       "</style>\n",
       "<table border=\"1\" class=\"dataframe\">\n",
       "  <thead>\n",
       "    <tr style=\"text-align: right;\">\n",
       "      <th></th>\n",
       "      <th>exp_group</th>\n",
       "      <th>bucket</th>\n",
       "      <th>bucket_ctr</th>\n",
       "    </tr>\n",
       "  </thead>\n",
       "  <tbody>\n",
       "    <tr>\n",
       "      <th>0</th>\n",
       "      <td>1</td>\n",
       "      <td>0</td>\n",
       "      <td>0.196481</td>\n",
       "    </tr>\n",
       "    <tr>\n",
       "      <th>1</th>\n",
       "      <td>2</td>\n",
       "      <td>0</td>\n",
       "      <td>0.194262</td>\n",
       "    </tr>\n",
       "    <tr>\n",
       "      <th>2</th>\n",
       "      <td>1</td>\n",
       "      <td>1</td>\n",
       "      <td>0.211887</td>\n",
       "    </tr>\n",
       "    <tr>\n",
       "      <th>3</th>\n",
       "      <td>2</td>\n",
       "      <td>1</td>\n",
       "      <td>0.215328</td>\n",
       "    </tr>\n",
       "    <tr>\n",
       "      <th>4</th>\n",
       "      <td>1</td>\n",
       "      <td>2</td>\n",
       "      <td>0.206271</td>\n",
       "    </tr>\n",
       "    <tr>\n",
       "      <th>...</th>\n",
       "      <td>...</td>\n",
       "      <td>...</td>\n",
       "      <td>...</td>\n",
       "    </tr>\n",
       "    <tr>\n",
       "      <th>95</th>\n",
       "      <td>2</td>\n",
       "      <td>47</td>\n",
       "      <td>0.195880</td>\n",
       "    </tr>\n",
       "    <tr>\n",
       "      <th>96</th>\n",
       "      <td>1</td>\n",
       "      <td>48</td>\n",
       "      <td>0.212787</td>\n",
       "    </tr>\n",
       "    <tr>\n",
       "      <th>97</th>\n",
       "      <td>2</td>\n",
       "      <td>48</td>\n",
       "      <td>0.194502</td>\n",
       "    </tr>\n",
       "    <tr>\n",
       "      <th>98</th>\n",
       "      <td>1</td>\n",
       "      <td>49</td>\n",
       "      <td>0.203169</td>\n",
       "    </tr>\n",
       "    <tr>\n",
       "      <th>99</th>\n",
       "      <td>2</td>\n",
       "      <td>49</td>\n",
       "      <td>0.196539</td>\n",
       "    </tr>\n",
       "  </tbody>\n",
       "</table>\n",
       "<p>100 rows × 3 columns</p>\n",
       "</div>"
      ],
      "text/plain": [
       "    exp_group  bucket  bucket_ctr\n",
       "0           1       0    0.196481\n",
       "1           2       0    0.194262\n",
       "2           1       1    0.211887\n",
       "3           2       1    0.215328\n",
       "4           1       2    0.206271\n",
       "..        ...     ...         ...\n",
       "95          2      47    0.195880\n",
       "96          1      48    0.212787\n",
       "97          2      48    0.194502\n",
       "98          1      49    0.203169\n",
       "99          2      49    0.196539\n",
       "\n",
       "[100 rows x 3 columns]"
      ]
     },
     "execution_count": 24,
     "metadata": {},
     "output_type": "execute_result"
    }
   ],
   "source": [
    "bucket_df = Getch(bucket_q).df\n",
    "bucket_df"
   ]
  },
  {
   "cell_type": "code",
   "execution_count": 25,
   "id": "3f242289-8560-46f7-b641-4564bb4a36b2",
   "metadata": {},
   "outputs": [
    {
     "data": {
      "text/plain": [
       "((50,), (50,))"
      ]
     },
     "execution_count": 25,
     "metadata": {},
     "output_type": "execute_result"
    }
   ],
   "source": [
    "bucket_ctr1 = bucket_df[bucket_df.exp_group == 1].bucket_ctr\n",
    "bucket_ctr2 = bucket_df[bucket_df.exp_group == 2].bucket_ctr\n",
    "bucket_ctr1.shape, bucket_ctr2.shape"
   ]
  },
  {
   "cell_type": "code",
   "execution_count": 26,
   "id": "831e79ad-d103-4206-8cac-16f0247b56e4",
   "metadata": {},
   "outputs": [
    {
     "data": {
      "text/plain": [
       "<AxesSubplot:xlabel='bucket_ctr', ylabel='Count'>"
      ]
     },
     "execution_count": 26,
     "metadata": {},
     "output_type": "execute_result"
    },
    {
     "data": {
      "image/png": "[encoded data removed]",
      "text/plain": [
       "<Figure size 1152x720 with 1 Axes>"
      ]
     },
     "metadata": {},
     "output_type": "display_data"
    }
   ],
   "source": [
    "bins = np.linspace(0.17, 0.23)\n",
    "sns.histplot(bucket_ctr1, bins=bins, color='r')\n",
    "sns.histplot(bucket_ctr2, bins=bins, color='b')"
   ]
  },
  {
   "cell_type": "markdown",
   "id": "009502e6-c171-4e6d-8992-9fdd1ec41039",
   "metadata": {},
   "source": [
    "### 5) t-тест поверх бакетного преобразования\n"
   ]
  },
  {
   "cell_type": "code",
   "execution_count": 27,
   "id": "de0440ad-d4c6-439d-8588-139c9080be3e",
   "metadata": {},
   "outputs": [
    {
     "data": {
      "text/plain": [
       "Ttest_indResult(statistic=5.668234732053979, pvalue=3.4455951649945907e-07)"
      ]
     },
     "execution_count": 27,
     "metadata": {},
     "output_type": "execute_result"
    }
   ],
   "source": [
    "stats.ttest_ind(bucket_ctr1, bucket_ctr2, equal_var=False)"
   ]
  },
  {
   "cell_type": "code",
   "execution_count": 28,
   "id": "d8d6969d-8ddb-43d5-b1fc-82d8cc6d11ff",
   "metadata": {},
   "outputs": [
    {
     "data": {
      "text/plain": [
       "(0.20812170724336013, 0.19825944666552928)"
      ]
     },
     "execution_count": 28,
     "metadata": {},
     "output_type": "execute_result"
    }
   ],
   "source": [
    "bucket_ctr1.mean(), bucket_ctr2.mean()"
   ]
  },
  {
   "cell_type": "markdown",
   "id": "fb410a59-923e-402a-a2ca-1c1044fba0e4",
   "metadata": {},
   "source": [
    "### 6) тест Манна-Уитни поверх бакетного преобразования\n",
    "\n"
   ]
  },
  {
   "cell_type": "code",
   "execution_count": 29,
   "id": "b931046e-0bcd-4cf0-b0a1-d243a18256db",
   "metadata": {},
   "outputs": [
    {
     "data": {
      "text/plain": [
       "MannwhitneyuResult(statistic=1995.0, pvalue=2.859963936492646e-07)"
      ]
     },
     "execution_count": 29,
     "metadata": {},
     "output_type": "execute_result"
    }
   ],
   "source": [
    "stats.mannwhitneyu(bucket_ctr1, bucket_ctr2, alternative='two-sided')"
   ]
  },
  {
   "cell_type": "markdown",
   "id": "0a37bb27-6cec-4449-a05e-bf9023794731",
   "metadata": {
    "tags": []
   },
   "source": [
    "# Результаты (краткие):\n",
    "### 0) глазами\n",
    "\n",
    "Распределения различаются: формы очень разные (группа 1 одногорбая, 2 - двугорбая), есть только один столбик равной высоты для обоих групп (у 0.00), \"на глаз\" можно предположить, что среднее окажется равным. \n",
    "\n",
    "### 1) t-тест\n",
    "\n",
    "$pvalue=0.47806231308748337 > 0.05$\n",
    "\n",
    "Не получено доказательств, позволяющих утверждать, что средние значения CTR в группах 1 и 2 отличаются.\n",
    "\n",
    "\n",
    "### 2) Пуассоновский бутстреп\n",
    "\n",
    "Разница между распределениями не включает 0, значит, они различаются.\n",
    "\n",
    "### 3) тест Манна-Уитни\n",
    "\n",
    "$pvalue=6.0376484617779035e-56 < 0.05$\n",
    "\n",
    "Группы стохастически неравны: $P(X>Y) \\neq P(Y>X)$ для случайных элементов $X, Y$. \n",
    "\n",
    "### 4) t-тест на сглаженном CTR (α=5)\n",
    "\n",
    "$pvalue=0.0223769815558559 < 0.05$\n",
    "\n",
    "Получены доказательства, позволяющие утверждать, что средние значения CTR в группах 1 и 2 отличаются.\n",
    "\n",
    "\n",
    "### 5) t-тест поверх бакетного преобразования\n",
    "\n",
    "$pvalue=3.4455951649945907e-07 < 0.05$\n",
    "\n",
    "Получены доказательства, позволяющие утверждать, что средние значения CTR в группах 1 и 2 отличаются.\n",
    "\n",
    "### 6) тест Манна-Уитни поверх бакетного преобразования\n",
    "\n",
    "$pvalue=2.859963936492646e-07 < 0.05$\n",
    "\n",
    "Группы стохастически неравны: $P(X>Y) \\neq P(Y>X)$ для случайных элементов $X, Y$. \n",
    "\n",
    "## Почему тесты сработали так как сработали?\n",
    "(Опишите потенциальную ситуацию, когда такое изменение могло произойти. Тут нет идеального ответа, подумайте.)\n",
    "\n",
    "### Ситуации, в которых нет противоречий:\n",
    "1) Глаза (0) и пуассоновский бутстреп (2): выборки отличаются, во втором случае можно даже посмотреть распределение разницы (в первом это сделать без потерь не получится из-за разного размера выборок, разве только начать наугад набирать подвыборки... что приведёт нас во второй случай).\n",
    "\n",
    "2) t-тесты на сглаженном CTR (4) и поверх бакетного преобразования (5) дали один и тот же результат: доказательства того, что средние значения CTR в группах 1 и 2 отличаются.\n",
    "\n",
    "3) Тесты Манна-Уитни над оригинальной выборкой (3) и поверх её бакетного преобразования (6) дал один и тот же результат:\\\n",
    "Посмею предположить, что возможной интерпретацией нулевой гипотезы теста Манна-Уитни является ответ на вопрос \"похожи ли выборки: похожи ли их формы и/или близки ли их средние и/или медианы\". В этих случаях они непохожи, как минимум по форме и из-за этого очень сложно вытащить случайные $X,Y: P(X>Y) = P(Y>X)$.\n",
    "\n",
    "### Противоречие:\n",
    "t-тесты для оригинального CTR (1) и для сглаженного (4) и/или поверх бакетного преобразования (5):\\\n",
    "Предположу, что t-test (1) не отвергает равенство средних потому, что выборочные средние чрезвычайно близки, поэтому их разница (числитель статистики) чрезвычайно мал.\\\n",
    "В случаях (4) и (5) отличия выборочных средних гораздо больше $\\to$ статистика больше $\\to$ p-value меньше $\\to$ легче отклонить Н0.\n",
    "\n",
    "#### Update.\n",
    "Согласно [материалам Никиты Маршалкина](https://vkteam.medium.com/practitioners-guide-to-statistical-tests-ed2d580ef04f#d2d3) большую роль в уменьшении силы t-теста играет скошенность распределения:\\\n",
    "*As you can see, higher skewness drops the power of the t-test significantly. Furthermore, for very skewed distributions, t-test p-values clearly don’t follow uniform distribution under H0. In the region of small values, p-values overestimate FPR (the plot lies beyond diagonal in this region). It becomes a “conservative” estimate of FPR. It is fine to use this test, as we can still be sure that FPR <= p-value, but the power of the test is low.\n",
    "The main reason for this is the strong violation of the normality assumption for highly skewed distribution. If the views distribution is heavily skewed, clicks distribution will be skewed as well. The more it is skewed, the more samples (users) are required to restore the sample’s mean normality.\\\n",
    "...\\\n",
    "Therefore, if your data is heavily skewed, consider using the MW test instead of a t-test. But when the skewness is low, a t-test might be a better alternative. If you’re working with big data, the computational complexity of the MW test might be challenging to deal with.*\n"
   ]
  },
  {
   "cell_type": "code",
   "execution_count": 30,
   "id": "094887f2-1353-49b0-b4b5-f8b4828e0157",
   "metadata": {},
   "outputs": [
    {
     "name": "stdout",
     "output_type": "stream",
     "text": [
      "1.0177755544972016 0.8346301249835312\n",
      "0.8946564217576878 0.7244860728969691\n",
      "-0.13242953106852376 0.5684650933485372\n"
     ]
    },
    {
     "data": {
      "text/plain": [
       "(-0.02650821550030397, 0.016151935642578913)"
      ]
     },
     "execution_count": 30,
     "metadata": {},
     "output_type": "execute_result"
    }
   ],
   "source": [
    "for c,t in ((df1.ctr, df2.ctr), (smoothed_ctr1, smoothed_ctr2), (bucket_ctr1, bucket_ctr2)):\n",
    "    print(c.skew(), t.skew())\n",
    "    \n",
    "stats.skew(ctr1), stats.skew(ctr2)"
   ]
  },
  {
   "cell_type": "markdown",
   "id": "9eb393bb-461f-43b2-8392-0bd4d3b1d9d1",
   "metadata": {},
   "source": [
    "Согласно rule of thumb [отсюда](https://community.gooddata.com/metrics-and-maql-kb-articles-43/normality-testing-skewness-and-kurtosis-241) CTR бакетных преобразований близки к низкой скошенности (\"approximately symmetric data\" $-$ абсолютное значение скошенности меньше 0.5), сглаженные являются довольно скошенными (от 0.5 до 1.0), исходный тест довольно скошен, исходный контроль очень скошен (больше 1.0).\n",
    "\n",
    "Последнее странно, так как в сравнении с тестом исходный контроль кажется менее скошенным.\n",
    "\n",
    "(Скошенность бутстрапированных CTR очень мала.)"
   ]
  },
  {
   "cell_type": "markdown",
   "id": "deff9ec2-1f43-47ed-81f7-1b456852e636",
   "metadata": {},
   "source": [
    "## Напишите рекомендацию, будем ли мы раскатывать новый алгоритм на всех новых пользователей или все-таки не стоит.\n",
    "\n",
    "Я бы не стал: разницы либо нет, либо она не в пользу алгоритма $-$ в результате эксперимента \"лайкающих меньше стало больше\"."
   ]
  }
 ],
 "metadata": {
  "kernelspec": {
   "display_name": "Python 3 (ipykernel)",
   "language": "python",
   "name": "python3"
  },
  "language_info": {
   "codemirror_mode": {
    "name": "ipython",
    "version": 3
   },
   "file_extension": ".py",
   "mimetype": "text/x-python",
   "name": "python",
   "nbconvert_exporter": "python",
   "pygments_lexer": "ipython3",
   "version": "3.8.10"
  }
 },
 "nbformat": 4,
 "nbformat_minor": 5
}
