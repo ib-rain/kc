{
 "cells": [
  {
   "cell_type": "code",
   "execution_count": 1,
   "id": "8d597ef8-89d3-4f45-9e92-70d2464ddc5e",
   "metadata": {},
   "outputs": [],
   "source": [
    "import numpy as np\n",
    "from read_db.CH import Getch\n",
    "import pandas as pd\n",
    "from scipy import stats"
   ]
  },
  {
   "cell_type": "code",
   "execution_count": 2,
   "id": "d475565f-20c9-4266-96ee-1574497de4fa",
   "metadata": {},
   "outputs": [],
   "source": [
    "begin_date_str = '2022-03-15'\n",
    "end_date_str = '2022-03-21'\n",
    "groups_tuple = (0,3,1,2)\n",
    "\n",
    "q = f\"\"\"SELECT  exp_group,\n",
    "        user_id,\n",
    "        sum(action = 'like') as likes,\n",
    "        sum(action = 'view') as views,\n",
    "        likes/views as ctr\n",
    "FROM simulator_20220320.feed_actions \n",
    "WHERE toDate(time) between '{begin_date_str}' and '{end_date_str}'\n",
    "    and exp_group in {groups_tuple}\n",
    "GROUP BY exp_group, user_id\n",
    "\"\"\""
   ]
  },
  {
   "cell_type": "code",
   "execution_count": 3,
   "id": "4220b421-d0f7-4e76-b1aa-334c74ea07d4",
   "metadata": {},
   "outputs": [
    {
     "data": {
      "text/html": [
       "<div>\n",
       "<style scoped>\n",
       "    .dataframe tbody tr th:only-of-type {\n",
       "        vertical-align: middle;\n",
       "    }\n",
       "\n",
       "    .dataframe tbody tr th {\n",
       "        vertical-align: top;\n",
       "    }\n",
       "\n",
       "    .dataframe thead th {\n",
       "        text-align: right;\n",
       "    }\n",
       "</style>\n",
       "<table border=\"1\" class=\"dataframe\">\n",
       "  <thead>\n",
       "    <tr style=\"text-align: right;\">\n",
       "      <th></th>\n",
       "      <th>exp_group</th>\n",
       "      <th>user_id</th>\n",
       "      <th>likes</th>\n",
       "      <th>views</th>\n",
       "      <th>ctr</th>\n",
       "    </tr>\n",
       "  </thead>\n",
       "  <tbody>\n",
       "    <tr>\n",
       "      <th>0</th>\n",
       "      <td>3</td>\n",
       "      <td>115383</td>\n",
       "      <td>9</td>\n",
       "      <td>30</td>\n",
       "      <td>0.300000</td>\n",
       "    </tr>\n",
       "    <tr>\n",
       "      <th>1</th>\n",
       "      <td>1</td>\n",
       "      <td>18392</td>\n",
       "      <td>7</td>\n",
       "      <td>32</td>\n",
       "      <td>0.218750</td>\n",
       "    </tr>\n",
       "    <tr>\n",
       "      <th>2</th>\n",
       "      <td>3</td>\n",
       "      <td>123580</td>\n",
       "      <td>13</td>\n",
       "      <td>48</td>\n",
       "      <td>0.270833</td>\n",
       "    </tr>\n",
       "    <tr>\n",
       "      <th>3</th>\n",
       "      <td>2</td>\n",
       "      <td>131473</td>\n",
       "      <td>14</td>\n",
       "      <td>134</td>\n",
       "      <td>0.104478</td>\n",
       "    </tr>\n",
       "    <tr>\n",
       "      <th>4</th>\n",
       "      <td>2</td>\n",
       "      <td>32420</td>\n",
       "      <td>26</td>\n",
       "      <td>128</td>\n",
       "      <td>0.203125</td>\n",
       "    </tr>\n",
       "    <tr>\n",
       "      <th>...</th>\n",
       "      <td>...</td>\n",
       "      <td>...</td>\n",
       "      <td>...</td>\n",
       "      <td>...</td>\n",
       "      <td>...</td>\n",
       "    </tr>\n",
       "    <tr>\n",
       "      <th>40074</th>\n",
       "      <td>0</td>\n",
       "      <td>27030</td>\n",
       "      <td>8</td>\n",
       "      <td>39</td>\n",
       "      <td>0.205128</td>\n",
       "    </tr>\n",
       "    <tr>\n",
       "      <th>40075</th>\n",
       "      <td>3</td>\n",
       "      <td>122758</td>\n",
       "      <td>30</td>\n",
       "      <td>198</td>\n",
       "      <td>0.151515</td>\n",
       "    </tr>\n",
       "    <tr>\n",
       "      <th>40076</th>\n",
       "      <td>1</td>\n",
       "      <td>132567</td>\n",
       "      <td>45</td>\n",
       "      <td>296</td>\n",
       "      <td>0.152027</td>\n",
       "    </tr>\n",
       "    <tr>\n",
       "      <th>40077</th>\n",
       "      <td>3</td>\n",
       "      <td>122190</td>\n",
       "      <td>19</td>\n",
       "      <td>65</td>\n",
       "      <td>0.292308</td>\n",
       "    </tr>\n",
       "    <tr>\n",
       "      <th>40078</th>\n",
       "      <td>2</td>\n",
       "      <td>17310</td>\n",
       "      <td>9</td>\n",
       "      <td>82</td>\n",
       "      <td>0.109756</td>\n",
       "    </tr>\n",
       "  </tbody>\n",
       "</table>\n",
       "<p>40079 rows × 5 columns</p>\n",
       "</div>"
      ],
      "text/plain": [
       "       exp_group  user_id  likes  views       ctr\n",
       "0              3   115383      9     30  0.300000\n",
       "1              1    18392      7     32  0.218750\n",
       "2              3   123580     13     48  0.270833\n",
       "3              2   131473     14    134  0.104478\n",
       "4              2    32420     26    128  0.203125\n",
       "...          ...      ...    ...    ...       ...\n",
       "40074          0    27030      8     39  0.205128\n",
       "40075          3   122758     30    198  0.151515\n",
       "40076          1   132567     45    296  0.152027\n",
       "40077          3   122190     19     65  0.292308\n",
       "40078          2    17310      9     82  0.109756\n",
       "\n",
       "[40079 rows x 5 columns]"
      ]
     },
     "execution_count": 3,
     "metadata": {},
     "output_type": "execute_result"
    }
   ],
   "source": [
    "df = Getch(q).df\n",
    "df"
   ]
  },
  {
   "cell_type": "code",
   "execution_count": 4,
   "id": "e33ef4f3-c843-448a-92ff-761f49365342",
   "metadata": {},
   "outputs": [],
   "source": [
    "df0,df1,df2,df3 = [x for _,x in df.groupby(['exp_group'])]\n",
    "dfs = (df0,df1,df2,df3)"
   ]
  },
  {
   "cell_type": "code",
   "execution_count": 5,
   "id": "cc0ae329-f926-405c-b454-fe67938fe36e",
   "metadata": {},
   "outputs": [
    {
     "name": "stdout",
     "output_type": "stream",
     "text": [
      "[9999, 10079, 9952, 10049] 40079 True\n"
     ]
    }
   ],
   "source": [
    "a = [len(dfr) for dfr in dfs]\n",
    "print(a, sum(a), sum(a) == len(df))"
   ]
  },
  {
   "cell_type": "code",
   "execution_count": 6,
   "id": "d9c4d3fa-ece2-44f6-946c-8145b990e3e4",
   "metadata": {},
   "outputs": [],
   "source": [
    "def add_linearized_likes_to_df(df_control, df_target):\n",
    "    CTR_control = df_control.likes.sum() / df_control.views.sum()\n",
    "    df_control['linearized_likes'] = df_control.likes - CTR_control * df_control.views\n",
    "    df_target['linearized_likes'] = df_target.likes - CTR_control * df_target.views"
   ]
  },
  {
   "cell_type": "code",
   "execution_count": 7,
   "id": "c0e488dc-6bf5-478f-9b7b-b5d16d31e33c",
   "metadata": {},
   "outputs": [],
   "source": [
    "# Assuming that control,target pairs are: (0,3) and (1,2)\n",
    "add_linearized_likes_to_df(df0, df3)\n",
    "add_linearized_likes_to_df(df1, df2)"
   ]
  },
  {
   "cell_type": "code",
   "execution_count": 8,
   "id": "54c56620-d261-41c3-a28e-a7ab7af32e57",
   "metadata": {},
   "outputs": [],
   "source": [
    "def print_ttests_diffs(df_control, df_target, alpha=0.05):\n",
    "    ttest_ctr = stats.ttest_ind(a=df_control.ctr, b=df_target.ctr, equal_var=False)\n",
    "    ttest_lin = stats.ttest_ind(a=df_control.linearized_likes, b=df_target.linearized_likes, equal_var=False)\n",
    "    \n",
    "    diff = ttest_ctr.pvalue - ttest_lin.pvalue\n",
    "    ratio = ttest_ctr.pvalue / ttest_lin.pvalue\n",
    "    print(f\"\"\"CTR:               {ttest_ctr}, {ttest_ctr.pvalue < alpha}\\nLinearized likes:  {ttest_lin}, {ttest_lin.pvalue < alpha}\\np-val got smaller: {diff > 0}\\np-vals difference: {diff}\\np-vals ratio:      {ratio:e}\\n\"\"\")"
   ]
  },
  {
   "cell_type": "code",
   "execution_count": 9,
   "id": "1ff86b9c-1667-43f8-bafc-ad754c01d2b2",
   "metadata": {},
   "outputs": [
    {
     "name": "stdout",
     "output_type": "stream",
     "text": [
      "CTR:               Ttest_indResult(statistic=-13.896870721904069, pvalue=1.055849414662529e-43), True\n",
      "Linearized likes:  Ttest_indResult(statistic=-15.214995460903827, pvalue=5.4914249479690016e-52), True\n",
      "p-val got smaller: True\n",
      "p-vals difference: 1.0558494091711042e-43\n",
      "p-vals ratio:      1.922724e+08\n",
      "\n",
      "CTR:               Ttest_indResult(statistic=0.7094392041270485, pvalue=0.4780623130874935), False\n",
      "Linearized likes:  Ttest_indResult(statistic=6.122579994775974, pvalue=9.439432187037644e-10), True\n",
      "p-val got smaller: True\n",
      "p-vals difference: 0.47806231214355027\n",
      "p-vals ratio:      5.064524e+08\n",
      "\n"
     ]
    }
   ],
   "source": [
    "print_ttests_diffs(df0, df3)\n",
    "print_ttests_diffs(df1, df2)"
   ]
  },
  {
   "cell_type": "markdown",
   "id": "ebef83ac-5b37-4b5f-a81c-9e3d3944d32f",
   "metadata": {},
   "source": [
    "Для групп (0,3) качественного изменения не произошло ($True \\to True$), количественное оказалось малым ($1.05585e-43$), а относительное большим ($1.9227e+08$).\n",
    "\n",
    "Для групп (1,2) качественное изменение произошло ($False \\to True$), количественное оказалось большим ($0.47806$), относительное тоже ($5.0645e+08$).\n",
    "\n",
    "Как и было заявлено, линеаризация не сделала хуже (в первом случае качественно так же, количественно почти так же; во втором качественно и количественно лучше)."
   ]
  }
 ],
 "metadata": {
  "kernelspec": {
   "display_name": "Python 3 (ipykernel)",
   "language": "python",
   "name": "python3"
  },
  "language_info": {
   "codemirror_mode": {
    "name": "ipython",
    "version": 3
   },
   "file_extension": ".py",
   "mimetype": "text/x-python",
   "name": "python",
   "nbconvert_exporter": "python",
   "pygments_lexer": "ipython3",
   "version": "3.8.10"
  }
 },
 "nbformat": 4,
 "nbformat_minor": 5
}
