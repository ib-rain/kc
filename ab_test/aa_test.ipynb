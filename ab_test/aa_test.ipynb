{
 "cells": [
  {
   "cell_type": "code",
   "execution_count": 1,
   "id": "0312e1ac-7b9f-4602-a6d3-1b7cdef326f5",
   "metadata": {},
   "outputs": [],
   "source": [
    "import numpy as np\n",
    "import matplotlib.pyplot as plt\n",
    "import seaborn as sns\n",
    "from read_db.CH import Getch\n",
    "import pandas as pd\n",
    "from scipy import stats\n",
    "from random import seed\n",
    "\n",
    "sns.set(rc={'figure.figsize': (16, 10)}, style='whitegrid')"
   ]
  },
  {
   "cell_type": "code",
   "execution_count": 2,
   "id": "ae306388-a17d-4ecc-8a2e-3b90571718db",
   "metadata": {},
   "outputs": [],
   "source": [
    "begin_date_str = '2022-03-08'\n",
    "end_date_str = '2022-03-14'\n",
    "groups_tuple = (2,3)\n",
    "    \n",
    "q = f\"\"\"SELECT  exp_group,\n",
    "                user_id,\n",
    "                sum(action = 'like') as likes,\n",
    "                sum(action = 'view') as views,\n",
    "                likes/views as ctr\n",
    "FROM simulator_20220320.feed_actions \n",
    "WHERE toDate(time) between '{begin_date_str}' and '{end_date_str}'\n",
    "    and exp_group in {groups_tuple}\n",
    "GROUP BY exp_group, user_id\n",
    "\"\"\""
   ]
  },
  {
   "cell_type": "code",
   "execution_count": 3,
   "id": "5093f8f4-920b-46ad-a9f2-41d55ad8ef7b",
   "metadata": {},
   "outputs": [],
   "source": [
    "df = Getch(q).df"
   ]
  },
  {
   "cell_type": "code",
   "execution_count": 4,
   "id": "e5aff99d-506f-44e4-bb5c-88f5f9669d4b",
   "metadata": {},
   "outputs": [
    {
     "data": {
      "text/html": [
       "<div>\n",
       "<style scoped>\n",
       "    .dataframe tbody tr th:only-of-type {\n",
       "        vertical-align: middle;\n",
       "    }\n",
       "\n",
       "    .dataframe tbody tr th {\n",
       "        vertical-align: top;\n",
       "    }\n",
       "\n",
       "    .dataframe thead th {\n",
       "        text-align: right;\n",
       "    }\n",
       "</style>\n",
       "<table border=\"1\" class=\"dataframe\">\n",
       "  <thead>\n",
       "    <tr style=\"text-align: right;\">\n",
       "      <th></th>\n",
       "      <th>exp_group</th>\n",
       "      <th>user_id</th>\n",
       "      <th>likes</th>\n",
       "      <th>views</th>\n",
       "      <th>ctr</th>\n",
       "    </tr>\n",
       "  </thead>\n",
       "  <tbody>\n",
       "    <tr>\n",
       "      <th>0</th>\n",
       "      <td>3</td>\n",
       "      <td>115383</td>\n",
       "      <td>11</td>\n",
       "      <td>36</td>\n",
       "      <td>0.305556</td>\n",
       "    </tr>\n",
       "    <tr>\n",
       "      <th>1</th>\n",
       "      <td>3</td>\n",
       "      <td>123580</td>\n",
       "      <td>15</td>\n",
       "      <td>92</td>\n",
       "      <td>0.163043</td>\n",
       "    </tr>\n",
       "    <tr>\n",
       "      <th>2</th>\n",
       "      <td>2</td>\n",
       "      <td>131473</td>\n",
       "      <td>26</td>\n",
       "      <td>148</td>\n",
       "      <td>0.175676</td>\n",
       "    </tr>\n",
       "    <tr>\n",
       "      <th>3</th>\n",
       "      <td>2</td>\n",
       "      <td>23985</td>\n",
       "      <td>12</td>\n",
       "      <td>66</td>\n",
       "      <td>0.181818</td>\n",
       "    </tr>\n",
       "    <tr>\n",
       "      <th>4</th>\n",
       "      <td>2</td>\n",
       "      <td>24523</td>\n",
       "      <td>17</td>\n",
       "      <td>120</td>\n",
       "      <td>0.141667</td>\n",
       "    </tr>\n",
       "    <tr>\n",
       "      <th>...</th>\n",
       "      <td>...</td>\n",
       "      <td>...</td>\n",
       "      <td>...</td>\n",
       "      <td>...</td>\n",
       "      <td>...</td>\n",
       "    </tr>\n",
       "    <tr>\n",
       "      <th>17044</th>\n",
       "      <td>3</td>\n",
       "      <td>122008</td>\n",
       "      <td>4</td>\n",
       "      <td>31</td>\n",
       "      <td>0.129032</td>\n",
       "    </tr>\n",
       "    <tr>\n",
       "      <th>17045</th>\n",
       "      <td>2</td>\n",
       "      <td>25383</td>\n",
       "      <td>16</td>\n",
       "      <td>57</td>\n",
       "      <td>0.280702</td>\n",
       "    </tr>\n",
       "    <tr>\n",
       "      <th>17046</th>\n",
       "      <td>3</td>\n",
       "      <td>122190</td>\n",
       "      <td>25</td>\n",
       "      <td>74</td>\n",
       "      <td>0.337838</td>\n",
       "    </tr>\n",
       "    <tr>\n",
       "      <th>17047</th>\n",
       "      <td>2</td>\n",
       "      <td>108927</td>\n",
       "      <td>8</td>\n",
       "      <td>33</td>\n",
       "      <td>0.242424</td>\n",
       "    </tr>\n",
       "    <tr>\n",
       "      <th>17048</th>\n",
       "      <td>2</td>\n",
       "      <td>17310</td>\n",
       "      <td>2</td>\n",
       "      <td>14</td>\n",
       "      <td>0.142857</td>\n",
       "    </tr>\n",
       "  </tbody>\n",
       "</table>\n",
       "<p>17049 rows × 5 columns</p>\n",
       "</div>"
      ],
      "text/plain": [
       "       exp_group  user_id  likes  views       ctr\n",
       "0              3   115383     11     36  0.305556\n",
       "1              3   123580     15     92  0.163043\n",
       "2              2   131473     26    148  0.175676\n",
       "3              2    23985     12     66  0.181818\n",
       "4              2    24523     17    120  0.141667\n",
       "...          ...      ...    ...    ...       ...\n",
       "17044          3   122008      4     31  0.129032\n",
       "17045          2    25383     16     57  0.280702\n",
       "17046          3   122190     25     74  0.337838\n",
       "17047          2   108927      8     33  0.242424\n",
       "17048          2    17310      2     14  0.142857\n",
       "\n",
       "[17049 rows x 5 columns]"
      ]
     },
     "execution_count": 4,
     "metadata": {},
     "output_type": "execute_result"
    }
   ],
   "source": [
    "df"
   ]
  },
  {
   "cell_type": "code",
   "execution_count": 5,
   "id": "860b86bb-277d-44ae-bd68-8f3c01bc1b72",
   "metadata": {},
   "outputs": [],
   "source": [
    "df2 = df.query('exp_group == 2').drop('exp_group', axis = 1)\n",
    "df3 = df.query('exp_group == 3').drop('exp_group', axis = 1)"
   ]
  },
  {
   "cell_type": "code",
   "execution_count": 6,
   "id": "b1c7398a-1201-4c84-b7d3-b7bc7ae61007",
   "metadata": {},
   "outputs": [
    {
     "data": {
      "text/plain": [
       "(8480, 8569)"
      ]
     },
     "execution_count": 6,
     "metadata": {},
     "output_type": "execute_result"
    }
   ],
   "source": [
    "len(df2), len(df3)"
   ]
  },
  {
   "cell_type": "code",
   "execution_count": 7,
   "id": "4e9f27d5-956f-471e-842d-5e5e5682b7cc",
   "metadata": {},
   "outputs": [],
   "source": [
    "def ttest_2_samples_from_dfs_n_times(df1, df2, n_test, sample_size):\n",
    "    seed = len(df1) + len(df2) * n_test\n",
    "    res = []\n",
    "    for i in range(n_test):\n",
    "        res.append(stats.ttest_ind(a=df1.sample(n=sample_size, replace=True).ctr, b=df2.sample(n=sample_size, replace=True).ctr, equal_var=False).pvalue)\n",
    "    return pd.DataFrame(res, columns=['pvalue'])"
   ]
  },
  {
   "cell_type": "code",
   "execution_count": 8,
   "id": "d3bedf69-ec59-495e-bcc5-a6a901a91572",
   "metadata": {},
   "outputs": [],
   "source": [
    "test_res = ttest_2_samples_from_dfs_n_times(df2, df3, n_test=10000, sample_size=500)"
   ]
  },
  {
   "cell_type": "markdown",
   "id": "b97deaa7-0931-468a-bb81-57666ec15bb3",
   "metadata": {},
   "source": [
    "1. Построить гистограмму распределения получившихся 10000 p-values."
   ]
  },
  {
   "cell_type": "code",
   "execution_count": 9,
   "id": "04099e61-2631-4794-be2f-bd16a522a170",
   "metadata": {},
   "outputs": [
    {
     "data": {
      "text/plain": [
       "<AxesSubplot:ylabel='Count'>"
      ]
     },
     "execution_count": 9,
     "metadata": {},
     "output_type": "execute_result"
    },
    {
     "data": {
      "image/png": "[encoded data removed]",
      "text/plain": [
       "<Figure size 1152x720 with 1 Axes>"
      ]
     },
     "metadata": {},
     "output_type": "display_data"
    }
   ],
   "source": [
    "sns.histplot(test_res, bins=20, stat='count')"
   ]
  },
  {
   "cell_type": "markdown",
   "id": "b76ac6d1-b04d-48f0-93d3-5441a3e398d4",
   "metadata": {},
   "source": [
    "2. Посчитать, какой процент p values оказался меньше либо равен 0.05"
   ]
  },
  {
   "cell_type": "code",
   "execution_count": 10,
   "id": "203a500d-0b31-4d8e-b822-1b946fbee835",
   "metadata": {},
   "outputs": [
    {
     "data": {
      "text/plain": [
       "0.051"
      ]
     },
     "execution_count": 10,
     "metadata": {},
     "output_type": "execute_result"
    }
   ],
   "source": [
    "less_percentage = (test_res[test_res.pvalue <= 0.05].count() / test_res.count()).pvalue\n",
    "less_percentage"
   ]
  },
  {
   "cell_type": "code",
   "execution_count": 11,
   "id": "b9bb2e53-7b1d-4ba8-a0e6-12dd17c0b4db",
   "metadata": {},
   "outputs": [
    {
     "name": "stdout",
     "output_type": "stream",
     "text": [
      "Difference from 0.05 is 0.0010, which is 2.00%\n"
     ]
    }
   ],
   "source": [
    "print(f'Difference from 0.05 is {less_percentage - 0.05:.4f}, which is {((less_percentage - 0.05) / 0.05) * 100 :.2f}%')"
   ]
  },
  {
   "cell_type": "markdown",
   "id": "beb7d753-869f-45e1-be12-31966633ccf4",
   "metadata": {},
   "source": [
    "3. Написать вывод по проведенному АА-тесту, корректно ли работает наша система сплитования.\n",
    "\n",
    "По результатам этого эксперимента мы утверждаем, что система сплитования работает корректно: процент ложных срабатываний очень близок к целевому показателю 0.05."
   ]
  }
 ],
 "metadata": {
  "kernelspec": {
   "display_name": "Python 3 (ipykernel)",
   "language": "python",
   "name": "python3"
  },
  "language_info": {
   "codemirror_mode": {
    "name": "ipython",
    "version": 3
   },
   "file_extension": ".py",
   "mimetype": "text/x-python",
   "name": "python",
   "nbconvert_exporter": "python",
   "pygments_lexer": "ipython3",
   "version": "3.8.10"
  }
 },
 "nbformat": 4,
 "nbformat_minor": 5
}
