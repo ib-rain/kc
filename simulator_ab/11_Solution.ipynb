{
 "cells": [
  {
   "cell_type": "code",
   "execution_count": 1,
   "id": "88f4e6b5-b5a5-4a57-8dda-6529b04c4105",
   "metadata": {},
   "outputs": [],
   "source": [
    "from _shared import *\n",
    "from tqdm.notebook import tqdm\n",
    "from hashlib import md5\n",
    "from copy import deepcopy"
   ]
  },
  {
   "cell_type": "markdown",
   "id": "967d31d3-d003-4faa-9b49-22c2131cb960",
   "metadata": {},
   "source": [
    "## Задача 1. Функция распределения экспериментов по бакетам"
   ]
  },
  {
   "cell_type": "code",
   "execution_count": 2,
   "id": "0547b256-fb6b-48c1-856e-83b0fb10cac8",
   "metadata": {},
   "outputs": [],
   "source": [
    "from copy import deepcopy\n",
    "\n",
    "def add_experiment(experiment, buckets):\n",
    "    \"\"\"\n",
    "    Проверяет можно ли добавить эксперимент, добавляет если можно.\n",
    "\n",
    "    Распределять эксперименты нужно так, чтобы умещалось как можно больше экспериментов.\n",
    "\n",
    "    :param experiment (dict): параметры эксперимента, который нужно запустить.\n",
    "        Ключи словаря:\n",
    "            - id - идентификатор эксперимента.\n",
    "            - buckets_count - необходимое количество бакетов.\n",
    "            - conflicts - список идентификаторов экспериментов, которые нельзя проводить\n",
    "                одновременно на одних и тех же пользователях.\n",
    "    :param buckets (list[list[int]]): список бакетов, в каждом бакете перечислены\n",
    "            идентификаторы экспериментов, которые в нём проводятся.\n",
    "\n",
    "    :return (success, buckets):\n",
    "        success (boolean) - можно ли добавить эксперимент, True - можно, иначе - False\n",
    "        buckets (list[list[int]]) - обновлённый список бакетов с добавленным экспериментом,\n",
    "            если эксперимент добавить можно.\n",
    "    \"\"\"\n",
    "    buckets_count = experiment['buckets_count']\n",
    "    \n",
    "    if buckets_count > len(buckets):\n",
    "        return (False, buckets)\n",
    "    \n",
    "    if not experiment['conflicts']:\n",
    "        conflicts = ['_', ]\n",
    "    else:\n",
    "        conflicts = experiment['conflicts']\n",
    "        \n",
    "    buckets_new = deepcopy(buckets)\n",
    "    c_set = set(conflicts)\n",
    "    \n",
    "    #for c in conflicts:\n",
    "    #    for i in range(len(buckets_new)):\n",
    "\n",
    "    for i in range(len(buckets_new)):\n",
    "        if not c_set.intersection(buckets_new[i]) and (buckets_count > 0):\n",
    "            buckets_new[i].append(experiment['id'])\n",
    "            buckets_count -= 1\n",
    "\n",
    "    if buckets_count != 0:\n",
    "        return (False, buckets)\n",
    "    \n",
    "    return (True, buckets_new)"
   ]
  },
  {
   "cell_type": "code",
   "execution_count": 3,
   "id": "8d81072d-ba04-4b32-b5c4-2a55d7857fb6",
   "metadata": {},
   "outputs": [],
   "source": [
    "total_buckets_count = 4\n",
    "buckets = [[] for _ in range(total_buckets_count)]"
   ]
  },
  {
   "cell_type": "code",
   "execution_count": 4,
   "id": "ae3413bb-77cb-4089-8330-fb955cba762e",
   "metadata": {},
   "outputs": [
    {
     "data": {
      "text/plain": [
       "(False, [[], [], [], []])"
      ]
     },
     "execution_count": 4,
     "metadata": {},
     "output_type": "execute_result"
    }
   ],
   "source": [
    "success, buckets = add_experiment({'id': 0, 'buckets_count': 5, 'conflicts': []}, buckets)\n",
    "# для эксперимента необходимо больше бакетов, чем доступно (5 > 4)\n",
    "# success, buckets = False, [[], [], [], []]\n",
    "success, buckets"
   ]
  },
  {
   "cell_type": "code",
   "execution_count": 5,
   "id": "2e769c47-4bc7-42c6-bffe-d492f348b20e",
   "metadata": {},
   "outputs": [
    {
     "data": {
      "text/plain": [
       "(True, [[1], [1], [1], [1]])"
      ]
     },
     "execution_count": 5,
     "metadata": {},
     "output_type": "execute_result"
    }
   ],
   "source": [
    "success, buckets = add_experiment({'id': 1, 'buckets_count': 4, 'conflicts': []}, buckets)\n",
    "# success, buckets = True, [[1], [1], [1], [1]]\n",
    "success, buckets"
   ]
  },
  {
   "cell_type": "code",
   "execution_count": 6,
   "id": "523bff0e-b62f-418d-8278-0b1a7d5faae0",
   "metadata": {},
   "outputs": [
    {
     "data": {
      "text/plain": [
       "(True, [[1, 2], [1, 2], [1], [1]])"
      ]
     },
     "execution_count": 6,
     "metadata": {},
     "output_type": "execute_result"
    }
   ],
   "source": [
    "success, buckets = add_experiment({'id': 2, 'buckets_count': 2, 'conflicts': [3]}, buckets)\n",
    "# эксперимент с id=2 может быть в любых двух бакетах их четырёх\n",
    "# success, buckets = True, [[1, 2], [1], [1, 2], [1]]\n",
    "success, buckets"
   ]
  },
  {
   "cell_type": "code",
   "execution_count": 7,
   "id": "eb935b1f-2246-4bd2-ab17-8f6b851dcee0",
   "metadata": {},
   "outputs": [
    {
     "data": {
      "text/plain": [
       "(True, [[1, 2], [1, 2], [1, 3], [1, 3]])"
      ]
     },
     "execution_count": 7,
     "metadata": {},
     "output_type": "execute_result"
    }
   ],
   "source": [
    "success, buckets = add_experiment({'id': 3, 'buckets_count': 2, 'conflicts': [2]}, buckets)\n",
    "# можем добавить в бакеты, где не запущен экперимент с id=2\n",
    "# success, buckets = True, [[1, 2], [1, 3], [1, 2], [1, 3]]\n",
    "success, buckets"
   ]
  },
  {
   "cell_type": "code",
   "execution_count": 8,
   "id": "655002f6-d81c-4768-9ea4-3eaf5e42fff2",
   "metadata": {},
   "outputs": [
    {
     "data": {
      "text/plain": [
       "(False, [[1, 2], [1, 2], [1, 3], [1, 3]])"
      ]
     },
     "execution_count": 8,
     "metadata": {},
     "output_type": "execute_result"
    }
   ],
   "source": [
    "success, buckets = add_experiment({'id': 4, 'buckets_count': 1, 'conflicts': [1]}, buckets)\n",
    "# не можем добавить, так как во всех бакетах запущен эксперимент, с которым конфликт\n",
    "# success, buckets = False, [[1, 2], [1, 3], [1, 2], [1, 3]]\n",
    "success, buckets"
   ]
  },
  {
   "cell_type": "code",
   "execution_count": 9,
   "id": "c67a4783-f9d5-4053-a69c-08a3e10909b4",
   "metadata": {},
   "outputs": [],
   "source": [
    "tests = [\n",
    "    {\n",
    "        'buckets_count': 4,\n",
    "        'experiments': [\n",
    "            {'id': 1, 'buckets_count': 2, 'conflicts': []},\n",
    "            {'id': 2, 'buckets_count': 2, 'conflicts': []},\n",
    "            {'id': 3, 'buckets_count': 2, 'conflicts': []},\n",
    "            {'id': 4, 'buckets_count': 5, 'conflicts': []}\n",
    "        ]\n",
    "    },\n",
    "    {\n",
    "        'buckets_count': 4,\n",
    "        'experiments': [\n",
    "            {'id': 1, 'buckets_count': 2, 'conflicts': [2, 4]},\n",
    "            {'id': 2, 'buckets_count': 2, 'conflicts': [1]},\n",
    "            {'id': 3, 'buckets_count': 2, 'conflicts': []},\n",
    "            {'id': 4, 'buckets_count': 4, 'conflicts': [1]}\n",
    "        ]\n",
    "    },\n",
    "    {\n",
    "        'buckets_count': 4,\n",
    "        'experiments': [\n",
    "            {'id': 1, 'buckets_count': 2, 'conflicts': [3]},\n",
    "            {'id': 2, 'buckets_count': 2, 'conflicts': [3]},\n",
    "            {'id': 3, 'buckets_count': 2, 'conflicts': [1, 2]}\n",
    "        ]\n",
    "    },\n",
    "    {\n",
    "        'buckets_count': 4,\n",
    "        'experiments': [\n",
    "            {'id': 1, 'buckets_count': 2, 'conflicts': [4, 5]},\n",
    "            {'id': 2, 'buckets_count': 2, 'conflicts': [4, 5]},\n",
    "            {'id': 3, 'buckets_count': 2, 'conflicts': [4, 5]},\n",
    "            {'id': 4, 'buckets_count': 2, 'conflicts': [1, 2, 3]},\n",
    "            {'id': 5, 'buckets_count': 2, 'conflicts': [1, 2, 3]},\n",
    "            {'id': 6, 'buckets_count': 4, 'conflicts': [7]},\n",
    "            {'id': 7, 'buckets_count': 1, 'conflicts': [6]}\n",
    "        ]\n",
    "    },\n",
    "]"
   ]
  },
  {
   "cell_type": "code",
   "execution_count": 10,
   "id": "7d435149-7e11-4228-aae2-deb943730396",
   "metadata": {},
   "outputs": [
    {
     "name": "stdout",
     "output_type": "stream",
     "text": [
      "Experiment: {'id': 1, 'buckets_count': 2, 'conflicts': []}\n",
      "Pre-Buckets: [[], [], [], []]\n",
      "Success: True\n",
      "Post-Buckets:[[1], [1], [], []]\n",
      "\n",
      "Experiment: {'id': 2, 'buckets_count': 2, 'conflicts': []}\n",
      "Pre-Buckets: [[1], [1], [], []]\n",
      "Success: True\n",
      "Post-Buckets:[[1, 2], [1, 2], [], []]\n",
      "\n",
      "Experiment: {'id': 3, 'buckets_count': 2, 'conflicts': []}\n",
      "Pre-Buckets: [[1, 2], [1, 2], [], []]\n",
      "Success: True\n",
      "Post-Buckets:[[1, 2, 3], [1, 2, 3], [], []]\n",
      "\n",
      "Experiment: {'id': 4, 'buckets_count': 5, 'conflicts': []}\n",
      "Pre-Buckets: [[1, 2, 3], [1, 2, 3], [], []]\n",
      "Success: False\n",
      "Post-Buckets:[[1, 2, 3], [1, 2, 3], [], []]\n",
      "\n",
      "\n",
      "\n",
      "Experiment: {'id': 1, 'buckets_count': 2, 'conflicts': [2, 4]}\n",
      "Pre-Buckets: [[], [], [], []]\n",
      "Success: True\n",
      "Post-Buckets:[[1], [1], [], []]\n",
      "\n",
      "Experiment: {'id': 2, 'buckets_count': 2, 'conflicts': [1]}\n",
      "Pre-Buckets: [[1], [1], [], []]\n",
      "Success: True\n",
      "Post-Buckets:[[1], [1], [2], [2]]\n",
      "\n",
      "Experiment: {'id': 3, 'buckets_count': 2, 'conflicts': []}\n",
      "Pre-Buckets: [[1], [1], [2], [2]]\n",
      "Success: True\n",
      "Post-Buckets:[[1, 3], [1, 3], [2], [2]]\n",
      "\n",
      "Experiment: {'id': 4, 'buckets_count': 4, 'conflicts': [1]}\n",
      "Pre-Buckets: [[1, 3], [1, 3], [2], [2]]\n",
      "Success: False\n",
      "Post-Buckets:[[1, 3], [1, 3], [2], [2]]\n",
      "\n",
      "\n",
      "\n",
      "Experiment: {'id': 1, 'buckets_count': 2, 'conflicts': [3]}\n",
      "Pre-Buckets: [[], [], [], []]\n",
      "Success: True\n",
      "Post-Buckets:[[1], [1], [], []]\n",
      "\n",
      "Experiment: {'id': 2, 'buckets_count': 2, 'conflicts': [3]}\n",
      "Pre-Buckets: [[1], [1], [], []]\n",
      "Success: True\n",
      "Post-Buckets:[[1, 2], [1, 2], [], []]\n",
      "\n",
      "Experiment: {'id': 3, 'buckets_count': 2, 'conflicts': [1, 2]}\n",
      "Pre-Buckets: [[1, 2], [1, 2], [], []]\n",
      "Success: True\n",
      "Post-Buckets:[[1, 2], [1, 2], [3], [3]]\n",
      "\n",
      "\n",
      "\n",
      "Experiment: {'id': 1, 'buckets_count': 2, 'conflicts': [4, 5]}\n",
      "Pre-Buckets: [[], [], [], []]\n",
      "Success: True\n",
      "Post-Buckets:[[1], [1], [], []]\n",
      "\n",
      "Experiment: {'id': 2, 'buckets_count': 2, 'conflicts': [4, 5]}\n",
      "Pre-Buckets: [[1], [1], [], []]\n",
      "Success: True\n",
      "Post-Buckets:[[1, 2], [1, 2], [], []]\n",
      "\n",
      "Experiment: {'id': 3, 'buckets_count': 2, 'conflicts': [4, 5]}\n",
      "Pre-Buckets: [[1, 2], [1, 2], [], []]\n",
      "Success: True\n",
      "Post-Buckets:[[1, 2, 3], [1, 2, 3], [], []]\n",
      "\n",
      "Experiment: {'id': 4, 'buckets_count': 2, 'conflicts': [1, 2, 3]}\n",
      "Pre-Buckets: [[1, 2, 3], [1, 2, 3], [], []]\n",
      "Success: True\n",
      "Post-Buckets:[[1, 2, 3], [1, 2, 3], [4], [4]]\n",
      "\n",
      "Experiment: {'id': 5, 'buckets_count': 2, 'conflicts': [1, 2, 3]}\n",
      "Pre-Buckets: [[1, 2, 3], [1, 2, 3], [4], [4]]\n",
      "Success: True\n",
      "Post-Buckets:[[1, 2, 3], [1, 2, 3], [4, 5], [4, 5]]\n",
      "\n",
      "Experiment: {'id': 6, 'buckets_count': 4, 'conflicts': [7]}\n",
      "Pre-Buckets: [[1, 2, 3], [1, 2, 3], [4, 5], [4, 5]]\n",
      "Success: True\n",
      "Post-Buckets:[[1, 2, 3, 6], [1, 2, 3, 6], [4, 5, 6], [4, 5, 6]]\n",
      "\n",
      "Experiment: {'id': 7, 'buckets_count': 1, 'conflicts': [6]}\n",
      "Pre-Buckets: [[1, 2, 3, 6], [1, 2, 3, 6], [4, 5, 6], [4, 5, 6]]\n",
      "Success: False\n",
      "Post-Buckets:[[1, 2, 3, 6], [1, 2, 3, 6], [4, 5, 6], [4, 5, 6]]\n",
      "\n",
      "\n",
      "\n"
     ]
    }
   ],
   "source": [
    "for t in tests:\n",
    "    buckets = [[] for _ in range(t['buckets_count'])]\n",
    "    for exp in t['experiments']:\n",
    "        print('Experiment: {}\\nPre-Buckets: {}'.format(exp, buckets))\n",
    "        success, buckets = add_experiment(exp, buckets)\n",
    "        print('Success: {}\\nPost-Buckets:{}\\n'.format(success, buckets))\n",
    "    print('\\n')"
   ]
  },
  {
   "cell_type": "code",
   "execution_count": 11,
   "id": "04fa68ac-38b0-4e93-935a-33182374c861",
   "metadata": {},
   "outputs": [],
   "source": [
    "# Solution\n",
    "def add_experiment(experiment, buckets):\n",
    "    # список [bucket_id, количество совместных экспериментов] для бакетов без конфликтов\n",
    "    available_buckets_meta = []\n",
    "    for bucket_id, bucket in enumerate(buckets):\n",
    "        if set(experiment['conflicts']) & set(bucket):\n",
    "            continue\n",
    "        available_buckets_meta.append((bucket_id, len(bucket)))\n",
    "    if len(available_buckets_meta) < experiment['buckets_count']:\n",
    "        # доступных бакетов недостаточно\n",
    "        return False, buckets\n",
    "    # в первую очередь занимаем бакеты с большим количеством экспериментов\n",
    "    # чтобы оставить свободные бакеты для несовместных экспериментов\n",
    "    sorted_available_buckets_meta = sorted(available_buckets_meta, key=lambda x: -x[1])\n",
    "    for bucket_id, _ in sorted_available_buckets_meta[:experiment['buckets_count']]:\n",
    "        buckets[bucket_id].append(experiment['id'])\n",
    "    return True, buckets"
   ]
  },
  {
   "cell_type": "markdown",
   "id": "25a83fa9-5297-42a3-856b-48ae1ddb695d",
   "metadata": {},
   "source": [
    "## Задача 2. Функция распределения пользователей по бакетам и группам"
   ]
  },
  {
   "cell_type": "code",
   "execution_count": 12,
   "id": "1b407bb5-6eea-441b-8313-f67696489b81",
   "metadata": {},
   "outputs": [],
   "source": [
    "import hashlib\n",
    "\n",
    "\n",
    "def get_hash_modulo(value: str, salt: str, modulo: int):\n",
    "    \"\"\"Вычисляем остаток от деления: (hash(value + salt)) % modulo.\"\"\"\n",
    "    hash_value = int(hashlib.md5(str.encode(value + salt)).hexdigest(), 16)\n",
    "    return hash_value % modulo\n",
    "\n",
    "\n",
    "def process_user(user_id, buckets, experiments, bucket_salt):\n",
    "    \"\"\"\n",
    "    Определяет в какие эксперименты попадает пользователь.\n",
    "\n",
    "    Сначала нужно определить бакет пользователя.\n",
    "    Затем для каждого эксперимента в этом бакете выбрать пилотную или контрольную группу.\n",
    "\n",
    "    :param user_id (str): идентификатор пользователя\n",
    "    :param buckets (list[list[int]]): список бакетов, в каждом бакете перечислены\n",
    "            идентификаторы экспериментов, которые в нём проводятся.\n",
    "    :param experiments (list[dict]): список словарей с информацией об экспериментах.\n",
    "        Ключи словарей:\n",
    "        - id (int) - идентификатор эксперимента\n",
    "        - salt (str) - соль эксперимента для распределения пользователей на\n",
    "            контрольную/пилотную группы.\n",
    "    :param bucket_salt (str): соль для разбиения пользователей по бакетам.\n",
    "        При одной соли каждый пользователь должен всегда попадать в один и тот же бакет.\n",
    "        Если изменить соль, то распределение людей по бакетам должно измениться.\n",
    "    :return bucket_id, experiment_groups:\n",
    "        - bucket_id (int) - номер бакета (индекс элемента в buckets)\n",
    "        - experiment_groups (list[tuple]) - список пар: id эксперимента, группа.\n",
    "            Группы: 'A', 'B'.\n",
    "        Пример: (8, [(194, 'A'), (73, 'B')])\n",
    "    \"\"\"\n",
    "    bucket_id = 0\n",
    "    experiment_groups = [(), ()]\n",
    "    \n",
    "    for exp in experiments:\n",
    "        hm = get_hash_modulo(exp[)\n",
    "    \n",
    "    return (bucket_id, experiment_groups)"
   ]
  },
  {
   "cell_type": "code",
   "execution_count": 13,
   "id": "7331770c-548b-4c04-ad01-413b9fa6f1be",
   "metadata": {},
   "outputs": [],
   "source": [
    "user_id = '1001'\n",
    "experiments = [{'id': 0, 'salt': '0'}, {'id': 1, 'salt': '1'}]\n",
    "buckets = [[0, 1], [1], []]\n",
    "bucket_salt = 'a2N4'\n",
    "bucket_id, experiment_groups = process_user(user_id, buckets, experiments, bucket_salt)\n",
    "# В зависимости от значений bucket_salt и солей экспериментов, можно получить один из вариантов:\n",
    "# bucket_id, experiment_groups = 0, [(0, 'A'), (1, 'A')]\n",
    "# bucket_id, experiment_groups = 0, [(0, 'A'), (1, 'B')]\n",
    "# bucket_id, experiment_groups = 0, [(0, 'B'), (1, 'A')]\n",
    "# bucket_id, experiment_groups = 0, [(0, 'B'), (1, 'B')]\n",
    "# bucket_id, experiment_groups = 1, [(1, 'A')]\n",
    "# bucket_id, experiment_groups = 1, [(1, 'B')]\n",
    "# bucket_id, experiment_groups = 2, []"
   ]
  },
  {
   "cell_type": "code",
   "execution_count": null,
   "id": "bcd0eaff-207e-46ac-be6f-4c7239fd8f17",
   "metadata": {},
   "outputs": [],
   "source": []
  }
 ],
 "metadata": {
  "kernelspec": {
   "display_name": "Python 3 (ipykernel)",
   "language": "python",
   "name": "python3"
  },
  "language_info": {
   "codemirror_mode": {
    "name": "ipython",
    "version": 3
   },
   "file_extension": ".py",
   "mimetype": "text/x-python",
   "name": "python",
   "nbconvert_exporter": "python",
   "pygments_lexer": "ipython3",
   "version": "3.8.10"
  }
 },
 "nbformat": 4,
 "nbformat_minor": 5
}
