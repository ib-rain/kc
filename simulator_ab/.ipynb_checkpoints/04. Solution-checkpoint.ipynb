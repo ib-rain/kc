{
 "cells": [
  {
   "cell_type": "code",
   "execution_count": 9,
   "id": "2e784cf8-0071-475b-abdb-2c01c1a9dc71",
   "metadata": {},
   "outputs": [],
   "source": [
    "from _shared import *"
   ]
  },
  {
   "cell_type": "markdown",
   "id": "bfb8d34a-cd4f-44fb-b51e-1de88aa45677",
   "metadata": {},
   "source": [
    "### Задача 4. Численный эксперимент\n",
    "\n",
    "Мы рассмотрели несколько вариантов добавления эффекта.\n",
    "Есть ли смысл думать о способе добавления эффекта при оценке вероятности ошибки II рода\n",
    "или все способы дают одинаковый результат? Результаты могут быть разными.\n",
    "Чтобы в этом убедиться, проведём численный эксперимент.\n",
    "\n",
    "Допустим, в наш А/В-тест попадают все пользователи, совершавшие покупки до 28 марта.\n",
    "\n",
    " \n",
    "1. __Целевая метрика__ — средняя выручка с клиента за время эксперимента.\n",
    "1. Целевую метрику считаем __на неделе с 21 по 28 марта__.\n",
    "1. __Уровень значимости__ — 0.05.\n",
    "1. __Критерий__ — тест Стьюдента.\n",
    "1. __Размер групп__ — 1000.\n",
    "1. __Ожидаемый эффект__ — средняя выручка увеличится на 10%.\n",
    "\n",
    "Нужно оценить вероятности ошибок II рода для трёх вариантов добавления эффекта:\n",
    "\n",
    "1. Добавление константы ко всем значениям;\n",
    "2. Умножение на константу всех значений;\n",
    "3. Добавление константы к 2.5% значений.\n",
    "\n",
    "Для решения используйте данные из файла `2022-04-01T12_df_sales.csv`.\n",
    "\n",
    "В качестве ответа введите номера способов добавления эффекта в порядке увеличения оценки вероятности ошибки II рода. Например, если при добавлении константы ко всем значениям оценка вероятности ошибки минимальна, при добавлении константы к 2.5% значений максимальна, то ответ будет: 123.\n",
    "\n"
   ]
  },
  {
   "cell_type": "code",
   "execution_count": 10,
   "id": "0fcc8f31-e348-44b3-be5a-69b6dd6770c1",
   "metadata": {},
   "outputs": [
    {
     "data": {
      "text/html": [
       "<div>\n",
       "<style scoped>\n",
       "    .dataframe tbody tr th:only-of-type {\n",
       "        vertical-align: middle;\n",
       "    }\n",
       "\n",
       "    .dataframe tbody tr th {\n",
       "        vertical-align: top;\n",
       "    }\n",
       "\n",
       "    .dataframe thead th {\n",
       "        text-align: right;\n",
       "    }\n",
       "</style>\n",
       "<table border=\"1\" class=\"dataframe\">\n",
       "  <thead>\n",
       "    <tr style=\"text-align: right;\">\n",
       "      <th></th>\n",
       "      <th>date</th>\n",
       "      <th>price</th>\n",
       "      <th>user_id</th>\n",
       "    </tr>\n",
       "  </thead>\n",
       "  <tbody>\n",
       "    <tr>\n",
       "      <th>164483</th>\n",
       "      <td>2022-03-21 10:00:26</td>\n",
       "      <td>1470</td>\n",
       "      <td>35093f</td>\n",
       "    </tr>\n",
       "    <tr>\n",
       "      <th>164484</th>\n",
       "      <td>2022-03-21 10:02:30</td>\n",
       "      <td>1440</td>\n",
       "      <td>d63544</td>\n",
       "    </tr>\n",
       "    <tr>\n",
       "      <th>164485</th>\n",
       "      <td>2022-03-21 10:05:15</td>\n",
       "      <td>540</td>\n",
       "      <td>62a836</td>\n",
       "    </tr>\n",
       "    <tr>\n",
       "      <th>164486</th>\n",
       "      <td>2022-03-21 10:06:45</td>\n",
       "      <td>600</td>\n",
       "      <td>1dcc25</td>\n",
       "    </tr>\n",
       "    <tr>\n",
       "      <th>164487</th>\n",
       "      <td>2022-03-21 10:06:45</td>\n",
       "      <td>630</td>\n",
       "      <td>e3644e</td>\n",
       "    </tr>\n",
       "  </tbody>\n",
       "</table>\n",
       "</div>"
      ],
      "text/plain": [
       "                      date  price user_id\n",
       "164483 2022-03-21 10:00:26   1470  35093f\n",
       "164484 2022-03-21 10:02:30   1440  d63544\n",
       "164485 2022-03-21 10:05:15    540  62a836\n",
       "164486 2022-03-21 10:06:45    600  1dcc25\n",
       "164487 2022-03-21 10:06:45    630  e3644e"
      ]
     },
     "execution_count": 10,
     "metadata": {},
     "output_type": "execute_result"
    }
   ],
   "source": [
    "df_sales = get_data_subset(\n",
    "    df=read_from_database('2022-04-01T12_df_sales.csv', [1]), \n",
    "    begin_date='2022-03-21',\n",
    "    end_date='2022-03-28',\n",
    "    user_ids=None,\n",
    "    columns=['date', 'price', 'user_id']\n",
    ")\n",
    "df_sales.head()"
   ]
  },
  {
   "cell_type": "code",
   "execution_count": null,
   "id": "0f15a2ec-437a-4a76-b4b0-2f387a73b63f",
   "metadata": {},
   "outputs": [],
   "source": []
  }
 ],
 "metadata": {
  "kernelspec": {
   "display_name": "Python 3 (ipykernel)",
   "language": "python",
   "name": "python3"
  },
  "language_info": {
   "codemirror_mode": {
    "name": "ipython",
    "version": 3
   },
   "file_extension": ".py",
   "mimetype": "text/x-python",
   "name": "python",
   "nbconvert_exporter": "python",
   "pygments_lexer": "ipython3",
   "version": "3.8.10"
  }
 },
 "nbformat": 4,
 "nbformat_minor": 5
}
