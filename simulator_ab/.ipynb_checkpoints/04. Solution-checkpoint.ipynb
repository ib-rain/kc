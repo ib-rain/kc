{
 "cells": [
  {
   "cell_type": "code",
   "execution_count": 1,
   "id": "2e784cf8-0071-475b-abdb-2c01c1a9dc71",
   "metadata": {},
   "outputs": [],
   "source": [
    "from _shared import *"
   ]
  },
  {
   "cell_type": "markdown",
   "id": "bfb8d34a-cd4f-44fb-b51e-1de88aa45677",
   "metadata": {},
   "source": [
    "### Задача 4. Численный эксперимент\n",
    "\n",
    "Мы рассмотрели несколько вариантов добавления эффекта.\n",
    "Есть ли смысл думать о способе добавления эффекта при оценке вероятности ошибки II рода\n",
    "или все способы дают одинаковый результат? Результаты могут быть разными.\n",
    "Чтобы в этом убедиться, проведём численный эксперимент.\n",
    "\n",
    "Допустим, в наш А/В-тест попадают все пользователи, совершавшие покупки до 28 марта.\n",
    "\n",
    " \n",
    "1. __Целевая метрика__ — средняя выручка с клиента за время эксперимента.\n",
    "1. Целевую метрику считаем __на неделе с 21 по 28 марта__.\n",
    "1. __Уровень значимости__ — 0.05.\n",
    "1. __Критерий__ — тест Стьюдента.\n",
    "1. __Размер групп__ — 1000.\n",
    "1. __Ожидаемый эффект__ — средняя выручка увеличится на 10%.\n",
    "\n",
    "Нужно оценить вероятности ошибок II рода для трёх вариантов добавления эффекта:\n",
    "\n",
    "1. Добавление константы ко всем значениям;\n",
    "2. Умножение на константу всех значений;\n",
    "3. Добавление константы к 2.5% значений.\n",
    "\n",
    "Для решения используйте данные из файла `2022-04-01T12_df_sales.csv`.\n",
    "\n",
    "В качестве ответа введите номера способов добавления эффекта в порядке увеличения оценки вероятности ошибки II рода. Например, если при добавлении константы ко всем значениям оценка вероятности ошибки минимальна, при добавлении константы к 2.5% значений максимальна, то ответ будет: 123.\n",
    "\n"
   ]
  },
  {
   "cell_type": "code",
   "execution_count": 2,
   "id": "65877a81-dcb3-4bcd-9a70-c5ce4d426a8c",
   "metadata": {},
   "outputs": [],
   "source": [
    "target_metric = 'price' #mean per user.\n",
    "\n",
    "begin_date = '2022-03-21'\n",
    "end_date = '2022-03-28'\n",
    "\n",
    "alpha = 0.05\n",
    "criterion = stats.ttest_ind\n",
    "group_size = 1000\n",
    "\n",
    "mde = 0.10\n",
    "\n",
    "filename = '2022-04-01T12_df_sales.csv'"
   ]
  },
  {
   "cell_type": "code",
   "execution_count": 3,
   "id": "c4652e08-c364-4dbd-8b24-0dcf04926143",
   "metadata": {},
   "outputs": [],
   "source": [
    "df_src = read_from_database(filename, [1])"
   ]
  },
  {
   "cell_type": "code",
   "execution_count": 4,
   "id": "0fcc8f31-e348-44b3-be5a-69b6dd6770c1",
   "metadata": {},
   "outputs": [
    {
     "data": {
      "text/html": [
       "<div>\n",
       "<style scoped>\n",
       "    .dataframe tbody tr th:only-of-type {\n",
       "        vertical-align: middle;\n",
       "    }\n",
       "\n",
       "    .dataframe tbody tr th {\n",
       "        vertical-align: top;\n",
       "    }\n",
       "\n",
       "    .dataframe thead th {\n",
       "        text-align: right;\n",
       "    }\n",
       "</style>\n",
       "<table border=\"1\" class=\"dataframe\">\n",
       "  <thead>\n",
       "    <tr style=\"text-align: right;\">\n",
       "      <th></th>\n",
       "      <th>date</th>\n",
       "      <th>price</th>\n",
       "      <th>user_id</th>\n",
       "    </tr>\n",
       "  </thead>\n",
       "  <tbody>\n",
       "    <tr>\n",
       "      <th>164483</th>\n",
       "      <td>2022-03-21 10:00:26</td>\n",
       "      <td>1470</td>\n",
       "      <td>35093f</td>\n",
       "    </tr>\n",
       "    <tr>\n",
       "      <th>164484</th>\n",
       "      <td>2022-03-21 10:02:30</td>\n",
       "      <td>1440</td>\n",
       "      <td>d63544</td>\n",
       "    </tr>\n",
       "    <tr>\n",
       "      <th>164485</th>\n",
       "      <td>2022-03-21 10:05:15</td>\n",
       "      <td>540</td>\n",
       "      <td>62a836</td>\n",
       "    </tr>\n",
       "    <tr>\n",
       "      <th>164486</th>\n",
       "      <td>2022-03-21 10:06:45</td>\n",
       "      <td>600</td>\n",
       "      <td>1dcc25</td>\n",
       "    </tr>\n",
       "    <tr>\n",
       "      <th>164487</th>\n",
       "      <td>2022-03-21 10:06:45</td>\n",
       "      <td>630</td>\n",
       "      <td>e3644e</td>\n",
       "    </tr>\n",
       "  </tbody>\n",
       "</table>\n",
       "</div>"
      ],
      "text/plain": [
       "                      date  price user_id\n",
       "164483 2022-03-21 10:00:26   1470  35093f\n",
       "164484 2022-03-21 10:02:30   1440  d63544\n",
       "164485 2022-03-21 10:05:15    540  62a836\n",
       "164486 2022-03-21 10:06:45    600  1dcc25\n",
       "164487 2022-03-21 10:06:45    630  e3644e"
      ]
     },
     "execution_count": 4,
     "metadata": {},
     "output_type": "execute_result"
    }
   ],
   "source": [
    "df_sales = get_data_subset(\n",
    "    df=df_src,\n",
    "    begin_date=begin_date,\n",
    "    end_date=end_date,\n",
    "    user_ids=None,\n",
    "    columns=['date', 'price', 'user_id']\n",
    ")\n",
    "df_sales.head()"
   ]
  },
  {
   "cell_type": "code",
   "execution_count": 5,
   "id": "bd4a77d0-091f-4a1c-a70e-34997c28b96e",
   "metadata": {},
   "outputs": [
    {
     "data": {
      "text/html": [
       "<div>\n",
       "<style scoped>\n",
       "    .dataframe tbody tr th:only-of-type {\n",
       "        vertical-align: middle;\n",
       "    }\n",
       "\n",
       "    .dataframe tbody tr th {\n",
       "        vertical-align: top;\n",
       "    }\n",
       "\n",
       "    .dataframe thead th {\n",
       "        text-align: right;\n",
       "    }\n",
       "</style>\n",
       "<table border=\"1\" class=\"dataframe\">\n",
       "  <thead>\n",
       "    <tr style=\"text-align: right;\">\n",
       "      <th></th>\n",
       "      <th>user_id</th>\n",
       "      <th>price</th>\n",
       "    </tr>\n",
       "  </thead>\n",
       "  <tbody>\n",
       "    <tr>\n",
       "      <th>0</th>\n",
       "      <td>000096</td>\n",
       "      <td>720.0</td>\n",
       "    </tr>\n",
       "    <tr>\n",
       "      <th>1</th>\n",
       "      <td>0000d4</td>\n",
       "      <td>720.0</td>\n",
       "    </tr>\n",
       "    <tr>\n",
       "      <th>2</th>\n",
       "      <td>0000de</td>\n",
       "      <td>660.0</td>\n",
       "    </tr>\n",
       "    <tr>\n",
       "      <th>3</th>\n",
       "      <td>0000e4</td>\n",
       "      <td>840.0</td>\n",
       "    </tr>\n",
       "    <tr>\n",
       "      <th>4</th>\n",
       "      <td>0001e2</td>\n",
       "      <td>1215.0</td>\n",
       "    </tr>\n",
       "  </tbody>\n",
       "</table>\n",
       "</div>"
      ],
      "text/plain": [
       "  user_id   price\n",
       "0  000096   720.0\n",
       "1  0000d4   720.0\n",
       "2  0000de   660.0\n",
       "3  0000e4   840.0\n",
       "4  0001e2  1215.0"
      ]
     },
     "execution_count": 5,
     "metadata": {},
     "output_type": "execute_result"
    }
   ],
   "source": [
    "df_sales = (\n",
    "    df_sales\n",
    "    .groupby('user_id')\n",
    "    ['price'].mean()\n",
    "    .reset_index()\n",
    ")\n",
    "df_sales.head()"
   ]
  },
  {
   "cell_type": "code",
   "execution_count": 6,
   "id": "14515dd3-4631-4c56-ace4-0903c99634e1",
   "metadata": {},
   "outputs": [
    {
     "data": {
      "text/html": [
       "<div>\n",
       "<style scoped>\n",
       "    .dataframe tbody tr th:only-of-type {\n",
       "        vertical-align: middle;\n",
       "    }\n",
       "\n",
       "    .dataframe tbody tr th {\n",
       "        vertical-align: top;\n",
       "    }\n",
       "\n",
       "    .dataframe thead th {\n",
       "        text-align: right;\n",
       "    }\n",
       "</style>\n",
       "<table border=\"1\" class=\"dataframe\">\n",
       "  <thead>\n",
       "    <tr style=\"text-align: right;\">\n",
       "      <th></th>\n",
       "      <th>user_id</th>\n",
       "    </tr>\n",
       "  </thead>\n",
       "  <tbody>\n",
       "    <tr>\n",
       "      <th>0</th>\n",
       "      <td>a043f3</td>\n",
       "    </tr>\n",
       "    <tr>\n",
       "      <th>1</th>\n",
       "      <td>c7c2ca</td>\n",
       "    </tr>\n",
       "    <tr>\n",
       "      <th>2</th>\n",
       "      <td>4c6d72</td>\n",
       "    </tr>\n",
       "    <tr>\n",
       "      <th>3</th>\n",
       "      <td>7c1f01</td>\n",
       "    </tr>\n",
       "    <tr>\n",
       "      <th>4</th>\n",
       "      <td>184f85</td>\n",
       "    </tr>\n",
       "    <tr>\n",
       "      <th>...</th>\n",
       "      <td>...</td>\n",
       "    </tr>\n",
       "    <tr>\n",
       "      <th>98579</th>\n",
       "      <td>447621</td>\n",
       "    </tr>\n",
       "    <tr>\n",
       "      <th>98580</th>\n",
       "      <td>a8a705</td>\n",
       "    </tr>\n",
       "    <tr>\n",
       "      <th>98581</th>\n",
       "      <td>a8a740</td>\n",
       "    </tr>\n",
       "    <tr>\n",
       "      <th>98582</th>\n",
       "      <td>a8a7da</td>\n",
       "    </tr>\n",
       "    <tr>\n",
       "      <th>98583</th>\n",
       "      <td>37ad4d</td>\n",
       "    </tr>\n",
       "  </tbody>\n",
       "</table>\n",
       "<p>98584 rows × 1 columns</p>\n",
       "</div>"
      ],
      "text/plain": [
       "      user_id\n",
       "0      a043f3\n",
       "1      c7c2ca\n",
       "2      4c6d72\n",
       "3      7c1f01\n",
       "4      184f85\n",
       "...       ...\n",
       "98579  447621\n",
       "98580  a8a705\n",
       "98581  a8a740\n",
       "98582  a8a7da\n",
       "98583  37ad4d\n",
       "\n",
       "[98584 rows x 1 columns]"
      ]
     },
     "execution_count": 6,
     "metadata": {},
     "output_type": "execute_result"
    }
   ],
   "source": [
    "users = (\n",
    "    get_data_subset(\n",
    "        df=df_src,\n",
    "        end_date=end_date,\n",
    "        user_ids=None,\n",
    "        columns=['user_id']\n",
    "    ).value_counts()\n",
    "    .reset_index()\n",
    "    .loc[:, ['user_id']]\n",
    ")\n",
    "\n",
    "users"
   ]
  },
  {
   "cell_type": "code",
   "execution_count": 7,
   "id": "0f15a2ec-437a-4a76-b4b0-2f387a73b63f",
   "metadata": {},
   "outputs": [
    {
     "data": {
      "text/plain": [
       "0.0       72927\n",
       "780.0      3469\n",
       "720.0      2285\n",
       "840.0      2138\n",
       "600.0      1973\n",
       "          ...  \n",
       "1695.0        1\n",
       "6870.0        1\n",
       "5700.0        1\n",
       "680.0         1\n",
       "5460.0        1\n",
       "Name: price, Length: 244, dtype: int64"
      ]
     },
     "execution_count": 7,
     "metadata": {},
     "output_type": "execute_result"
    }
   ],
   "source": [
    "df_exp = (\n",
    "    users\n",
    "    .merge(\n",
    "        right=df_sales,\n",
    "        on='user_id',\n",
    "        how='left'\n",
    "    ).fillna(0.0)\n",
    ")\n",
    "\n",
    "df_exp['price'].value_counts()"
   ]
  },
  {
   "cell_type": "code",
   "execution_count": 25,
   "id": "503ac310-e90c-411c-95ab-812a12c5452c",
   "metadata": {},
   "outputs": [],
   "source": [
    "rng = np.random.default_rng(132)\n",
    "# (rng.random(size=1_000_000) < 0.025).mean()\n",
    "\n",
    "\n",
    "def plot_pvalue_ecdf(pvalues, title=None):\n",
    "    fig, (ax1, ax2) = plt.subplots(1, 2, figsize=(14, 5))\n",
    "\n",
    "    if title:\n",
    "        plt.suptitle(title)\n",
    "\n",
    "    sns.histplot(pvalues, ax=ax1, bins=20, stat='density')\n",
    "    ax1.plot([0,1], [1,1], 'k--')\n",
    "    ax1.set(xlabel='p-value', ylabel='Density')\n",
    "\n",
    "    sns.ecdfplot(pvalues, ax=ax2)\n",
    "    ax2.plot([0,1], [0,1], 'k--')\n",
    "    ax2.set(xlabel='p-value', ylabel='Probability')\n",
    "    ax2.grid()\n",
    "\n",
    "\n",
    "# def get_error_rate(df, n, cols):\n",
    "#     pvalue_list = []\n",
    "#     users = df['user_id'].unique()\n",
    "    \n",
    "#     for _ in range(n):\n",
    "#         rng.shuffle(users)\n",
    "#         group_a, group_b = users[group_size:], users[:group_size]\n",
    "        \n",
    "#         sales_a = df.loc[df['user_id'].isin(group_a), cols[0]]\n",
    "#         sales_b = df.loc[df['user_id'].isin(group_b), cols[1]]\n",
    "\n",
    "#         pvalue_list.append(stats.ttest_ind(sales_a, sales_b).pvalue)\n",
    "        \n",
    "#     return np.array(pvalue_list)\n",
    "\n",
    "\n",
    "mde_price = df_exp['price'].mean() * mde\n",
    "mde_price_rnd = mde_price * group_size / (group_size * 0.025) #Focus mde_price in the few affected users (very not obvious).\n",
    "\n",
    "def get_error_rates(df, n, error_rates=None):\n",
    "    error_rates = {\n",
    "        'price': [],\n",
    "        '1_price_add': [],\n",
    "        '2_price_mul': [],\n",
    "        '3_price_rnd': []\n",
    "    }\n",
    "\n",
    "    users = df['user_id'].unique()\n",
    "    \n",
    "    for _ in range(n):\n",
    "        users_sub = np.random.choice(users, group_size * 2, replace=False)\n",
    "        group_a, group_b = users_sub[:group_size], users_sub[group_size:]\n",
    "        \n",
    "        df_sub = (\n",
    "            df\n",
    "            .loc[\n",
    "                df['user_id'].isin(users_sub),\n",
    "                ['user_id', 'price']\n",
    "            ].copy()\n",
    "        )\n",
    "        \n",
    "        sales_a = df_sub.loc[df_sub['user_id'].isin(group_a), 'price']\n",
    "        sales_b = df_sub.loc[df_sub['user_id'].isin(group_b), ['price']]\n",
    "            \n",
    "        sales_b['1_price_add'] = sales_b['price'] + mde_price\n",
    "        sales_b['2_price_mul'] = sales_b['price'] * (1.0 + mde)\n",
    "        sales_b['3_price_rnd'] = sales_b['price'] + (rng.random(size=sales_b.shape[0]) < 0.025) * mde_price_rnd\n",
    "\n",
    "        for k in error_rates.keys():\n",
    "            error_rates[k].append(stats.ttest_ind(sales_a, sales_b[k]).pvalue)\n",
    "        \n",
    "    return pd.DataFrame(error_rates)"
   ]
  },
  {
   "cell_type": "code",
   "execution_count": 28,
   "id": "cb2d7c26-fca7-4792-83a0-05a30fdaabf4",
   "metadata": {},
   "outputs": [
    {
     "data": {
      "text/html": [
       "<div>\n",
       "<style scoped>\n",
       "    .dataframe tbody tr th:only-of-type {\n",
       "        vertical-align: middle;\n",
       "    }\n",
       "\n",
       "    .dataframe tbody tr th {\n",
       "        vertical-align: top;\n",
       "    }\n",
       "\n",
       "    .dataframe thead th {\n",
       "        text-align: right;\n",
       "    }\n",
       "</style>\n",
       "<table border=\"1\" class=\"dataframe\">\n",
       "  <thead>\n",
       "    <tr style=\"text-align: right;\">\n",
       "      <th></th>\n",
       "      <th>price</th>\n",
       "      <th>1_price_add</th>\n",
       "      <th>2_price_mul</th>\n",
       "      <th>3_price_rnd</th>\n",
       "    </tr>\n",
       "  </thead>\n",
       "  <tbody>\n",
       "    <tr>\n",
       "      <th>0</th>\n",
       "      <td>0.127078</td>\n",
       "      <td>0.679489</td>\n",
       "      <td>0.613246</td>\n",
       "      <td>0.477458</td>\n",
       "    </tr>\n",
       "    <tr>\n",
       "      <th>1</th>\n",
       "      <td>0.620177</td>\n",
       "      <td>0.129809</td>\n",
       "      <td>0.131521</td>\n",
       "      <td>0.079564</td>\n",
       "    </tr>\n",
       "    <tr>\n",
       "      <th>2</th>\n",
       "      <td>0.399001</td>\n",
       "      <td>0.068038</td>\n",
       "      <td>0.059100</td>\n",
       "      <td>0.084292</td>\n",
       "    </tr>\n",
       "    <tr>\n",
       "      <th>3</th>\n",
       "      <td>0.622047</td>\n",
       "      <td>0.516525</td>\n",
       "      <td>0.604439</td>\n",
       "      <td>0.614773</td>\n",
       "    </tr>\n",
       "    <tr>\n",
       "      <th>4</th>\n",
       "      <td>0.470154</td>\n",
       "      <td>0.078502</td>\n",
       "      <td>0.081433</td>\n",
       "      <td>0.197173</td>\n",
       "    </tr>\n",
       "  </tbody>\n",
       "</table>\n",
       "</div>"
      ],
      "text/plain": [
       "      price  1_price_add  2_price_mul  3_price_rnd\n",
       "0  0.127078     0.679489     0.613246     0.477458\n",
       "1  0.620177     0.129809     0.131521     0.079564\n",
       "2  0.399001     0.068038     0.059100     0.084292\n",
       "3  0.622047     0.516525     0.604439     0.614773\n",
       "4  0.470154     0.078502     0.081433     0.197173"
      ]
     },
     "execution_count": 28,
     "metadata": {},
     "output_type": "execute_result"
    }
   ],
   "source": [
    "error_rates = get_error_rates(df_exp, 30_000, error_rates)\n",
    "error_rates.head()"
   ]
  },
  {
   "cell_type": "code",
   "execution_count": 29,
   "id": "1a7dc7d7-d6ca-4cce-904d-15818b2dbe47",
   "metadata": {},
   "outputs": [
    {
     "name": "stdout",
     "output_type": "stream",
     "text": [
      "Type II rates:\n",
      "price - 0.948\n",
      "1_price_add - 0.815\n",
      "2_price_mul - 0.829\n",
      "3_price_rnd - 0.821\n"
     ]
    },
    {
     "data": {
      "image/png": "[encoded data removed]",
      "text/plain": [
       "<Figure size 1008x360 with 2 Axes>"
      ]
     },
     "metadata": {
      "needs_background": "light"
     },
     "output_type": "display_data"
    },
    {
     "data": {
      "image/png": "[encoded data removed]",
      "text/plain": [
       "<Figure size 1008x360 with 2 Axes>"
      ]
     },
     "metadata": {
      "needs_background": "light"
     },
     "output_type": "display_data"
    },
    {
     "data": {
      "image/png": "[encoded data removed]",
      "text/plain": [
       "<Figure size 1008x360 with 2 Axes>"
      ]
     },
     "metadata": {
      "needs_background": "light"
     },
     "output_type": "display_data"
    },
    {
     "data": {
      "image/png": "[encoded data removed]",
      "text/plain": [
       "<Figure size 1008x360 with 2 Axes>"
      ]
     },
     "metadata": {
      "needs_background": "light"
     },
     "output_type": "display_data"
    }
   ],
   "source": [
    "print('Type II rates:')\n",
    "for col in error_rates.columns[:4]:\n",
    "    print('{} - {:.3f}'.format(col, (error_rates[col] > alpha).mean()))\n",
    "    plot_pvalue_ecdf(error_rates[col], 'p-value ECDF for [{}]'.format(col))"
   ]
  },
  {
   "cell_type": "code",
   "execution_count": 38,
   "id": "57dc28b7-11f9-435e-97cb-c424b2d86144",
   "metadata": {},
   "outputs": [
    {
     "data": {
      "text/plain": [
       "1_price_add    0.815133\n",
       "3_price_rnd    0.821200\n",
       "2_price_mul    0.829067\n",
       "price          0.948133\n",
       "dtype: float64"
      ]
     },
     "execution_count": 38,
     "metadata": {},
     "output_type": "execute_result"
    }
   ],
   "source": [
    "(error_rates > alpha).mean().sort_values()\n",
    "#Answer is (finally) \"132\"."
   ]
  },
  {
   "cell_type": "code",
   "execution_count": 17,
   "id": "5b4b036f-f8e3-4fa2-a5d7-e1a7687d97f0",
   "metadata": {},
   "outputs": [
    {
     "name": "stdout",
     "output_type": "stream",
     "text": [
      "one: part errors = 0.8144\n",
      "two: part errors = 0.8290\n",
      "three: part errors = 0.8257\n",
      "0.007040766651321905\n",
      "0.017206336131211183\n"
     ]
    }
   ],
   "source": [
    "# Solution\n",
    "import os\n",
    "from datetime import datetime\n",
    "import numpy as np\n",
    "import pandas as pd\n",
    "from scipy import stats\n",
    "# from tqdm.notebook import tqdm\n",
    "\n",
    "URL_BASE = 'https://raw.githubusercontent.com/ab-courses/simulator-ab-datasets/main/2022-04-01/'\n",
    "\n",
    "def read_database(file_name):\n",
    "    return pd.read_csv(os.path.join(URL_BASE, file_name))\n",
    "\n",
    "df_sales = read_database('2022-04-01T12_df_sales.csv')\n",
    "df_sales['date'] = pd.to_datetime(df_sales['date'])\n",
    "\n",
    "begin_date = datetime(2022, 3, 21)\n",
    "end_date = datetime(2022, 3, 28)\n",
    "df_users = df_sales[df_sales['date'] < end_date][['user_id']].drop_duplicates()\n",
    "df_metrics = (\n",
    "    df_sales\n",
    "    [(df_sales['date'] >= begin_date) & (df_sales['date'] < end_date)]\n",
    "    .groupby('user_id')[['price']].sum()\n",
    "    .reset_index()  \n",
    ")\n",
    "df = pd.merge(df_users, df_metrics, on='user_id', how='left').fillna(0)\n",
    "\n",
    "alpha = 0.05\n",
    "sample_size = 1000\n",
    "effect = 0.1\n",
    "\n",
    "pvalues = {'one': [], 'two': [], 'three': []}\n",
    "values = df['price'].values\n",
    "mean_ = values.mean()\n",
    "\n",
    "# for _ in tqdm(range(30000)):\n",
    "for _ in range(30000):\n",
    "    # выбираем случайные группы\n",
    "    a, b = np.random.choice(values, (2, sample_size,), False)\n",
    "    # добавляем эффект тремя способами\n",
    "    b_one = b + mean_ * effect\n",
    "    b_two = b * (1 + effect)\n",
    "    indexes = np.random.choice(np.arange(sample_size), int(sample_size * 0.025), False)\n",
    "    add_value = effect * mean_ * sample_size / len(indexes)\n",
    "    mask = np.zeros(sample_size)\n",
    "    mask[indexes] += 1\n",
    "    b_three = b + mask * add_value\n",
    "    # считаем и сохраняем p-value\n",
    "    for b_, key in ((b_one, 'one',), (b_two, 'two',), (b_three, 'three',),):\n",
    "        pvalues[key].append(stats.ttest_ind(a, b_).pvalue)\n",
    "\n",
    "# считаем точечные оценки вероятностей ошибки II рода\n",
    "for key, v in pvalues.items():\n",
    "    errors = (np.array(v) > alpha).astype(int)\n",
    "    part_errors = np.mean(errors)\n",
    "    print(f'{key}: part errors = {part_errors:0.4f}')\n",
    "\n",
    "# проверим, что отличия статистически значимые\n",
    "print(stats.ttest_ind(pvalues['one'], pvalues['three']).pvalue)\n",
    "print(stats.ttest_ind(pvalues['two'], pvalues['three']).pvalue)\n",
    "#Answer is \"132\"."
   ]
  },
  {
   "cell_type": "markdown",
   "id": "10edcca6-8915-4e87-8652-205da71a0857",
   "metadata": {},
   "source": [
    "### Задача 5. Функция оценки вероятности ошибок I/II рода"
   ]
  },
  {
   "cell_type": "code",
   "execution_count": null,
   "id": "8e10410e-f506-46a9-8e9b-7b4bf2565f27",
   "metadata": {},
   "outputs": [],
   "source": [
    "import numpy as np\n",
    "import pandas as pd\n",
    "from scipy import stats\n",
    "\n",
    "\n",
    "def estimate_errors(group_generator, effect_add_type, effect, alpha):\n",
    "    \"\"\"Оцениваем вероятности ошибок I и II рода.\n",
    "\n",
    "    :param group_generator: генератор значений метрик для двух групп.\n",
    "    :param effect_add_type (str): способ добавления эффекта для группы B.\n",
    "        - 'all_const' - увеличить всем значениям в группе B на константу (b_metric_values.mean() * effect / 100).\n",
    "        - 'all_percent' - увеличить всем значениям в группе B в (1 + effect / 100) раз.\n",
    "    :param effect (float): размер эффекта в процентах.\n",
    "        Пример, effect=3 означает, что ожидаем увеличение среднего на 3%.\n",
    "    :param alpha (float): уровень значимости.\n",
    "    :return pvalues_aa (list[float]), pvalues_ab (list[float]), first_type_error (float), second_type_error (float):\n",
    "        - pvalues_aa, pvalues_ab - списки со значениями pvalue\n",
    "        - first_type_error, second_type_error - оценки вероятностей ошибок I и II рода.\n",
    "    \"\"\"\n",
    "    # YOUR_CODE_HERE\n",
    "    pass\n",
    "\n",
    "def create_group_generator(metrics, sample_size, n_iter):\n",
    "    \"\"\"Генератор случайных групп.\n",
    "\n",
    "    :param metrics (pd.DataFame): таблица с метриками, columns=['user_id', 'metric'].\n",
    "    :param sample_size (int): размер групп (количество пользователей в группе).\n",
    "    :param n_iter (int): количество итераций генерирования случайных групп.\n",
    "    :return (np.array, np.array): два массива со значениями метрик в группах.\n",
    "    \"\"\"\n",
    "    user_ids = metrics['user_id'].unique()\n",
    "    for _ in range(n_iter):\n",
    "        a_user_ids, b_user_ids = np.random.choice(user_ids, (2, sample_size), False)\n",
    "        a_metric_values = metrics.loc[metrics['user_id'].isin(a_user_ids), 'metric'].values\n",
    "        b_metric_values = metrics.loc[metrics['user_id'].isin(b_user_ids), 'metric'].values\n",
    "        yield a_metric_values, b_metric_values\n",
    "\n",
    "metrics = pd.DataFrame({'user_id': [1, 2, 3, 4], 'metric': [5, 6, 8, 9.1] })\n",
    "sample_size = 2\n",
    "n_iter = 3\n",
    "group_generator = create_group_generator(metrics, sample_size, n_iter)\n",
    "\n",
    "for metrics_a_group, metrics_b_group in group_generator:\n",
    "    print(metrics_a_group, metrics_b_group)\n",
    "# >>> [8.  9.1] [5. 6.]\n",
    "# >>> [5.  9.1] [6. 8.]\n",
    "# >>> [5. 6.] [8.  9.1]\n"
   ]
  },
  {
   "cell_type": "code",
   "execution_count": null,
   "id": "9f0081ee-9262-4bc8-989e-36488ffbcb21",
   "metadata": {},
   "outputs": [],
   "source": [
    "sample_size, n_iter, effect, alpha = 100, 10, 6, 0.05\n",
    "\n",
    "group_generator = (\n",
    "    (np.arange(sample_size, dtype=float), np.arange(sample_size, dtype=float) + x,)\n",
    "    for x in range(n_iter)\n",
    ")\n",
    "effect_add_type = 'all_const'\n",
    "pvalues_aa, pvalues_ab, first_type_error, second_type_error = estimate_errors(\n",
    "    group_generator, effect_add_type, effect, alpha\n",
    ")\n",
    "# pvalues_aa = [1.0, 0.808, 0.626, 0.466, 0.331, 0.224, 0.145, 0.09, 0.053, 0.029]\n",
    "# pvalues_ab = [0.47, 0.327, 0.216, 0.135, 0.08, 0.045, 0.024, 0.012, 0.006, 0.003]\n",
    "# first_type_error = 0.1\n",
    "# second_type_error = 0.5\n",
    "\n",
    "group_generator = (\n",
    "    (np.arange(sample_size, dtype=float), np.arange(sample_size, dtype=float) + x,)\n",
    "    for x in range(n_iter)\n",
    ")\n",
    "effect_add_type = 'all_percent'\n",
    "pvalues_aa, pvalues_ab, first_type_error, second_type_error = estimate_errors(\n",
    "    group_generator, effect_add_type, effect, alpha\n",
    ")\n",
    "# pvalues_aa = [1.0, 0.808, 0.626, 0.466, 0.331, 0.224, 0.145, 0.09, 0.053, 0.029]\n",
    "# pvalues_ab = [0.483, 0.342, 0.23, 0.147, 0.09, 0.052, 0.028, 0.015, 0.007, 0.003]\n",
    "# first_type_error = 0.1\n",
    "# second_type_error = 0.6"
   ]
  },
  {
   "cell_type": "code",
   "execution_count": null,
   "id": "2a989940-a248-4019-aca5-54dc6ee6334b",
   "metadata": {},
   "outputs": [],
   "source": []
  }
 ],
 "metadata": {
  "kernelspec": {
   "display_name": "Python 3 (ipykernel)",
   "language": "python",
   "name": "python3"
  },
  "language_info": {
   "codemirror_mode": {
    "name": "ipython",
    "version": 3
   },
   "file_extension": ".py",
   "mimetype": "text/x-python",
   "name": "python",
   "nbconvert_exporter": "python",
   "pygments_lexer": "ipython3",
   "version": "3.8.10"
  }
 },
 "nbformat": 4,
 "nbformat_minor": 5
}
