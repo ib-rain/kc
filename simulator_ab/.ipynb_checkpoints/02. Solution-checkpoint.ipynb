{
 "cells": [
  {
   "cell_type": "code",
   "execution_count": 1,
   "id": "b4848121-816d-4fbe-b8f8-ed922b316e61",
   "metadata": {},
   "outputs": [],
   "source": [
    "import numpy as np\n",
    "import pandas as pd\n",
    "import matplotlib.pyplot as plt\n",
    "import scipy.stats as stats\n",
    "\n",
    "from datetime import datetime, timedelta"
   ]
  },
  {
   "cell_type": "code",
   "execution_count": 2,
   "id": "a1e83913-00de-4037-82fc-0b802c552fcf",
   "metadata": {},
   "outputs": [],
   "source": [
    "URL_BASE = 'https://raw.githubusercontent.com/ab-courses/simulator-ab-datasets/main/2022-04-01/{}'\n",
    "\n",
    "# def read_database(file_name):\n",
    "    #return pd.read_csv(os.path.join(URL_BASE, file_name))\n",
    "\n",
    "def read_from_database(file_name, parse_dates_list=[]):\n",
    "    return pd.read_csv(URL_BASE.format(file_name), parse_dates=parse_dates_list)\n",
    "\n",
    "\n",
    "plt.rcParams['legend.markerscale'] = 1.5     # the relative size of legend markers vs. original\n",
    "plt.rcParams['legend.handletextpad'] = 0.5\n",
    "plt.rcParams['legend.labelspacing'] = 0.4    # the vertical space between the legend entries in fraction of fontsize\n",
    "plt.rcParams['legend.borderpad'] = 0.5       # border whitespace in fontsize units\n",
    "plt.rcParams['font.size'] = 12\n",
    "plt.rcParams['font.serif'] = 'Times New Roman'\n",
    "plt.rcParams['axes.labelsize'] = 22\n",
    "plt.rcParams['axes.titlesize'] = 24\n",
    "plt.rcParams['figure.figsize'] = (10, 6)\n",
    "\n",
    "plt.rc('xtick', labelsize=18)\n",
    "plt.rc('ytick', labelsize=18)\n",
    "plt.rc('legend', fontsize=22)"
   ]
  },
  {
   "cell_type": "code",
   "execution_count": 3,
   "id": "d37427df-9777-412d-a793-1ed371293f58",
   "metadata": {},
   "outputs": [],
   "source": [
    "def get_data_subset(df, begin_date=None, end_date=None, user_ids=None, columns=None):\n",
    "    \"\"\"Возвращает подмножество данных.\n",
    "\n",
    "    :param df (pd.DataFrame): таблица с данными, обязательные столбцы: 'date', 'user_id'.\n",
    "    :param begin_date (datetime.datetime | None): дата начала интервала с данными.\n",
    "        Пример, df[df['date'] >= begin_date].\n",
    "        Если None, то фильтровать не нужно.\n",
    "    :param end_date (datetime.datetime | None): дата окончания интервала с данными.\n",
    "        Пример, df[df['date'] < end_date].\n",
    "        Если None, то фильтровать не нужно.\n",
    "    :param user_ids (list[str] | None): список user_id, по которым нужно предоставить данные.\n",
    "        Пример, df[df['user_id'].isin(user_ids)].\n",
    "        Если None, то фильтровать по user_id не нужно.\n",
    "    :param columns (list[str] | None): список названий столбцов, по которым нужно предоставить данные.\n",
    "        Пример, df[columns].\n",
    "        Если None, то фильтровать по columns не нужно.\n",
    "\n",
    "    :return df (pd.DataFrame): датафрейм с подмножеством данных.\n",
    "    \"\"\"\n",
    "    begin_date_, end_date_, user_ids_, columns_ = begin_date, end_date, user_ids, columns\n",
    "    \n",
    "    if not begin_date_:\n",
    "        begin_date_ = df['date'].min()\n",
    "    if not end_date_:\n",
    "        end_date_ = df['date'].max() + timedelta(days=1)\n",
    "    if not user_ids_:\n",
    "        user_ids_ = df['user_id'].unique()\n",
    "    if not columns_:\n",
    "        columns_ = df.columns.to_list()\n",
    "    \n",
    "    return (\n",
    "        df\n",
    "        .loc[\n",
    "            (df['date'] >= begin_date_)\n",
    "            & (df['date'] < end_date_)\n",
    "            & df['user_id'].isin(user_ids_),\n",
    "            columns_\n",
    "        ].copy()\n",
    "    )"
   ]
  },
  {
   "cell_type": "markdown",
   "id": "f389386e-08a6-4c09-b3bf-f38126898599",
   "metadata": {},
   "source": [
    "### Задача 1. Отличия до эксперимента\n",
    "\n",
    "Возьмите те же группы, что и в эксперименте с изменением дизайна сайта,\n",
    "и проверьте значимость отличий средней выручки с пользователя на неделе перед экспериментом\n",
    "(c 2022.03.16 по 2022.03.23).\n",
    "\n",
    "Для решения используйте данные из файлов `2022-04-01T12_df_sales.csv` и `experiment_users.csv`.\n",
    "\n",
    "В качестве ответа введите p-value, округлённое до 3-го знака после точки."
   ]
  },
  {
   "cell_type": "code",
   "execution_count": 4,
   "id": "01386cce-25b4-4842-854b-8da489e450bc",
   "metadata": {},
   "outputs": [
    {
     "data": {
      "text/html": [
       "<div>\n",
       "<style scoped>\n",
       "    .dataframe tbody tr th:only-of-type {\n",
       "        vertical-align: middle;\n",
       "    }\n",
       "\n",
       "    .dataframe tbody tr th {\n",
       "        vertical-align: top;\n",
       "    }\n",
       "\n",
       "    .dataframe thead th {\n",
       "        text-align: right;\n",
       "    }\n",
       "</style>\n",
       "<table border=\"1\" class=\"dataframe\">\n",
       "  <thead>\n",
       "    <tr style=\"text-align: right;\">\n",
       "      <th></th>\n",
       "      <th>sale_id</th>\n",
       "      <th>date</th>\n",
       "      <th>count_pizza</th>\n",
       "      <th>count_drink</th>\n",
       "      <th>price</th>\n",
       "      <th>user_id</th>\n",
       "    </tr>\n",
       "  </thead>\n",
       "  <tbody>\n",
       "    <tr>\n",
       "      <th>145816</th>\n",
       "      <td>1145817</td>\n",
       "      <td>2022-03-16 10:00:33</td>\n",
       "      <td>1</td>\n",
       "      <td>0</td>\n",
       "      <td>720</td>\n",
       "      <td>bbe8ef</td>\n",
       "    </tr>\n",
       "    <tr>\n",
       "      <th>145817</th>\n",
       "      <td>1145818</td>\n",
       "      <td>2022-03-16 10:01:36</td>\n",
       "      <td>2</td>\n",
       "      <td>0</td>\n",
       "      <td>1380</td>\n",
       "      <td>ad929d</td>\n",
       "    </tr>\n",
       "    <tr>\n",
       "      <th>145818</th>\n",
       "      <td>1145819</td>\n",
       "      <td>2022-03-16 10:08:09</td>\n",
       "      <td>3</td>\n",
       "      <td>1</td>\n",
       "      <td>2220</td>\n",
       "      <td>b45cfe</td>\n",
       "    </tr>\n",
       "    <tr>\n",
       "      <th>145819</th>\n",
       "      <td>1145820</td>\n",
       "      <td>2022-03-16 10:10:06</td>\n",
       "      <td>1</td>\n",
       "      <td>1</td>\n",
       "      <td>930</td>\n",
       "      <td>2bc6a7</td>\n",
       "    </tr>\n",
       "    <tr>\n",
       "      <th>145820</th>\n",
       "      <td>1145821</td>\n",
       "      <td>2022-03-16 10:10:16</td>\n",
       "      <td>4</td>\n",
       "      <td>0</td>\n",
       "      <td>2940</td>\n",
       "      <td>23ecaf</td>\n",
       "    </tr>\n",
       "  </tbody>\n",
       "</table>\n",
       "</div>"
      ],
      "text/plain": [
       "        sale_id                date  count_pizza  count_drink  price user_id\n",
       "145816  1145817 2022-03-16 10:00:33            1            0    720  bbe8ef\n",
       "145817  1145818 2022-03-16 10:01:36            2            0   1380  ad929d\n",
       "145818  1145819 2022-03-16 10:08:09            3            1   2220  b45cfe\n",
       "145819  1145820 2022-03-16 10:10:06            1            1    930  2bc6a7\n",
       "145820  1145821 2022-03-16 10:10:16            4            0   2940  23ecaf"
      ]
     },
     "execution_count": 4,
     "metadata": {},
     "output_type": "execute_result"
    }
   ],
   "source": [
    "df_sales = get_data_subset(\n",
    "    read_from_database('2022-04-01T12_df_sales.csv', [1]),\n",
    "    begin_date='2022-03-16',\n",
    "    end_date='2022-03-23'\n",
    ")\n",
    "\n",
    "df_sales.head()"
   ]
  },
  {
   "cell_type": "code",
   "execution_count": 5,
   "id": "9b9ce32d-c2f8-476c-88c2-23c7d7df85fe",
   "metadata": {},
   "outputs": [
    {
     "data": {
      "text/html": [
       "<div>\n",
       "<style scoped>\n",
       "    .dataframe tbody tr th:only-of-type {\n",
       "        vertical-align: middle;\n",
       "    }\n",
       "\n",
       "    .dataframe tbody tr th {\n",
       "        vertical-align: top;\n",
       "    }\n",
       "\n",
       "    .dataframe thead th {\n",
       "        text-align: right;\n",
       "    }\n",
       "</style>\n",
       "<table border=\"1\" class=\"dataframe\">\n",
       "  <thead>\n",
       "    <tr style=\"text-align: right;\">\n",
       "      <th></th>\n",
       "      <th>user_id</th>\n",
       "      <th>pilot</th>\n",
       "    </tr>\n",
       "  </thead>\n",
       "  <tbody>\n",
       "    <tr>\n",
       "      <th>0</th>\n",
       "      <td>0ffc65</td>\n",
       "      <td>0</td>\n",
       "    </tr>\n",
       "    <tr>\n",
       "      <th>1</th>\n",
       "      <td>b962b9</td>\n",
       "      <td>0</td>\n",
       "    </tr>\n",
       "    <tr>\n",
       "      <th>2</th>\n",
       "      <td>7ea63f</td>\n",
       "      <td>0</td>\n",
       "    </tr>\n",
       "    <tr>\n",
       "      <th>3</th>\n",
       "      <td>7f9a61</td>\n",
       "      <td>0</td>\n",
       "    </tr>\n",
       "    <tr>\n",
       "      <th>4</th>\n",
       "      <td>459e55</td>\n",
       "      <td>0</td>\n",
       "    </tr>\n",
       "  </tbody>\n",
       "</table>\n",
       "</div>"
      ],
      "text/plain": [
       "  user_id  pilot\n",
       "0  0ffc65      0\n",
       "1  b962b9      0\n",
       "2  7ea63f      0\n",
       "3  7f9a61      0\n",
       "4  459e55      0"
      ]
     },
     "execution_count": 5,
     "metadata": {},
     "output_type": "execute_result"
    }
   ],
   "source": [
    "experiment_users = read_from_database('experiment_users.csv')\n",
    "experiment_users.head()"
   ]
  },
  {
   "cell_type": "code",
   "execution_count": 6,
   "id": "59138ab5-1f38-4db3-af95-5d00455078f7",
   "metadata": {},
   "outputs": [
    {
     "data": {
      "text/html": [
       "<div>\n",
       "<style scoped>\n",
       "    .dataframe tbody tr th:only-of-type {\n",
       "        vertical-align: middle;\n",
       "    }\n",
       "\n",
       "    .dataframe tbody tr th {\n",
       "        vertical-align: top;\n",
       "    }\n",
       "\n",
       "    .dataframe thead th {\n",
       "        text-align: right;\n",
       "    }\n",
       "</style>\n",
       "<table border=\"1\" class=\"dataframe\">\n",
       "  <thead>\n",
       "    <tr style=\"text-align: right;\">\n",
       "      <th></th>\n",
       "      <th>user_id</th>\n",
       "      <th>pilot</th>\n",
       "      <th>revenue</th>\n",
       "    </tr>\n",
       "  </thead>\n",
       "  <tbody>\n",
       "    <tr>\n",
       "      <th>0</th>\n",
       "      <td>0ffc65</td>\n",
       "      <td>0</td>\n",
       "      <td>0.0</td>\n",
       "    </tr>\n",
       "    <tr>\n",
       "      <th>1</th>\n",
       "      <td>b962b9</td>\n",
       "      <td>0</td>\n",
       "      <td>0.0</td>\n",
       "    </tr>\n",
       "    <tr>\n",
       "      <th>2</th>\n",
       "      <td>7ea63f</td>\n",
       "      <td>0</td>\n",
       "      <td>0.0</td>\n",
       "    </tr>\n",
       "    <tr>\n",
       "      <th>3</th>\n",
       "      <td>7f9a61</td>\n",
       "      <td>0</td>\n",
       "      <td>0.0</td>\n",
       "    </tr>\n",
       "    <tr>\n",
       "      <th>4</th>\n",
       "      <td>459e55</td>\n",
       "      <td>0</td>\n",
       "      <td>2160.0</td>\n",
       "    </tr>\n",
       "  </tbody>\n",
       "</table>\n",
       "</div>"
      ],
      "text/plain": [
       "  user_id  pilot  revenue\n",
       "0  0ffc65      0      0.0\n",
       "1  b962b9      0      0.0\n",
       "2  7ea63f      0      0.0\n",
       "3  7f9a61      0      0.0\n",
       "4  459e55      0   2160.0"
      ]
     },
     "execution_count": 6,
     "metadata": {},
     "output_type": "execute_result"
    }
   ],
   "source": [
    "avg_user_revenue_src = (\n",
    "    df_sales\n",
    "    .groupby('user_id')\n",
    "    ['price'].sum()\n",
    "    .reset_index()\n",
    "    .rename(columns={'price': 'revenue'})\n",
    ")\n",
    "\n",
    "avg_user_revenue = (\n",
    "    experiment_users\n",
    "    .merge(\n",
    "        avg_user_revenue_src,\n",
    "        how='left',\n",
    "        on='user_id'\n",
    "    ).fillna(0.0)\n",
    "    .loc[:, ['user_id', 'pilot', 'revenue']]\n",
    ")\n",
    "\n",
    "avg_user_revenue.head()"
   ]
  },
  {
   "cell_type": "code",
   "execution_count": 7,
   "id": "da7ad0d3-d589-41cb-a2ce-0057bd297f93",
   "metadata": {},
   "outputs": [
    {
     "data": {
      "text/plain": [
       "0    11769\n",
       "1    11564\n",
       "Name: pilot, dtype: int64"
      ]
     },
     "execution_count": 7,
     "metadata": {},
     "output_type": "execute_result"
    }
   ],
   "source": [
    "avg_user_revenue['pilot'].value_counts()"
   ]
  },
  {
   "cell_type": "code",
   "execution_count": 8,
   "id": "7218b338-8c7c-430b-9f0c-7c661a6f8688",
   "metadata": {},
   "outputs": [
    {
     "data": {
      "text/plain": [
       "0.199"
      ]
     },
     "execution_count": 8,
     "metadata": {},
     "output_type": "execute_result"
    }
   ],
   "source": [
    "control = avg_user_revenue.loc[avg_user_revenue['pilot']==0, 'revenue']\n",
    "pilot = avg_user_revenue.loc[avg_user_revenue['pilot']==1, 'revenue']\n",
    "\n",
    "res_1 = round(stats.ttest_ind(control, pilot).pvalue, 3)\n",
    "res_1"
   ]
  },
  {
   "cell_type": "markdown",
   "id": "1d062217-eae0-49dd-b99b-df93d64a3845",
   "metadata": {},
   "source": [
    "### Задача 2. Среднее время между покупками\n",
    "\n",
    "При выполнении прошлого задания вы могли заметить, что в данных много нулей.\n",
    "Это значит, что большая часть пользователей, совершивших покупку во время эксперимента,\n",
    "не совершала покупок на неделе до эксперимента.\n",
    "\n",
    "Интересно, как часто наши клиенты делают покупки?\n",
    "\n",
    "Оцените среднее время между покупками. Возьмите всех клиентов, у которых 2 и более покупок.\n",
    "Вычислите время между покупками (для клиента с N покупками должно получиться N-1 значения времени).\n",
    "Объедините значения всех клиентов и вычислите среднее.\n",
    "\n",
    "Для решения используйте данные из файлов `2022-04-01T12_df_sales.csv`.\n",
    "\n",
    "В качестве ответа введите среднее количество дней между покупками, округлённое до целого значения."
   ]
  },
  {
   "cell_type": "code",
   "execution_count": 9,
   "id": "bad2ad37-558c-49ca-87b1-80a4e557ce60",
   "metadata": {},
   "outputs": [
    {
     "data": {
      "text/html": [
       "<div>\n",
       "<style scoped>\n",
       "    .dataframe tbody tr th:only-of-type {\n",
       "        vertical-align: middle;\n",
       "    }\n",
       "\n",
       "    .dataframe tbody tr th {\n",
       "        vertical-align: top;\n",
       "    }\n",
       "\n",
       "    .dataframe thead th {\n",
       "        text-align: right;\n",
       "    }\n",
       "</style>\n",
       "<table border=\"1\" class=\"dataframe\">\n",
       "  <thead>\n",
       "    <tr style=\"text-align: right;\">\n",
       "      <th></th>\n",
       "      <th>user_id</th>\n",
       "      <th>date</th>\n",
       "    </tr>\n",
       "  </thead>\n",
       "  <tbody>\n",
       "    <tr>\n",
       "      <th>0</th>\n",
       "      <td>1c1543</td>\n",
       "      <td>2022-02-04 10:00:24</td>\n",
       "    </tr>\n",
       "    <tr>\n",
       "      <th>1</th>\n",
       "      <td>a9a6e8</td>\n",
       "      <td>2022-02-04 10:02:28</td>\n",
       "    </tr>\n",
       "    <tr>\n",
       "      <th>2</th>\n",
       "      <td>23420a</td>\n",
       "      <td>2022-02-04 10:02:35</td>\n",
       "    </tr>\n",
       "    <tr>\n",
       "      <th>3</th>\n",
       "      <td>3e8ed5</td>\n",
       "      <td>2022-02-04 10:03:06</td>\n",
       "    </tr>\n",
       "    <tr>\n",
       "      <th>4</th>\n",
       "      <td>cbc468</td>\n",
       "      <td>2022-02-04 10:03:23</td>\n",
       "    </tr>\n",
       "  </tbody>\n",
       "</table>\n",
       "</div>"
      ],
      "text/plain": [
       "  user_id                date\n",
       "0  1c1543 2022-02-04 10:00:24\n",
       "1  a9a6e8 2022-02-04 10:02:28\n",
       "2  23420a 2022-02-04 10:02:35\n",
       "3  3e8ed5 2022-02-04 10:03:06\n",
       "4  cbc468 2022-02-04 10:03:23"
      ]
     },
     "execution_count": 9,
     "metadata": {},
     "output_type": "execute_result"
    }
   ],
   "source": [
    "df_sales = get_data_subset(\n",
    "    read_from_database('2022-04-01T12_df_sales.csv', [1]),\n",
    "    columns=['user_id', 'date']\n",
    ")\n",
    "df_sales.head()"
   ]
  },
  {
   "cell_type": "code",
   "execution_count": 10,
   "id": "e5d9bd18-57c2-4f42-a18e-286ad28e417b",
   "metadata": {},
   "outputs": [],
   "source": [
    "user_counts = (\n",
    "    df_sales\n",
    "    ['user_id'].value_counts()\n",
    "    # .value_counts()\n",
    ")\n",
    "\n",
    "relevant_users = user_counts[user_counts > 1].index.to_list()"
   ]
  },
  {
   "cell_type": "code",
   "execution_count": 11,
   "id": "64d1c176-35b9-48c2-b4bc-dd1cab340ee0",
   "metadata": {},
   "outputs": [
    {
     "data": {
      "text/html": [
       "<div>\n",
       "<style scoped>\n",
       "    .dataframe tbody tr th:only-of-type {\n",
       "        vertical-align: middle;\n",
       "    }\n",
       "\n",
       "    .dataframe tbody tr th {\n",
       "        vertical-align: top;\n",
       "    }\n",
       "\n",
       "    .dataframe thead th {\n",
       "        text-align: right;\n",
       "    }\n",
       "</style>\n",
       "<table border=\"1\" class=\"dataframe\">\n",
       "  <thead>\n",
       "    <tr style=\"text-align: right;\">\n",
       "      <th></th>\n",
       "      <th>user_id</th>\n",
       "      <th>date</th>\n",
       "    </tr>\n",
       "  </thead>\n",
       "  <tbody>\n",
       "    <tr>\n",
       "      <th>101925</th>\n",
       "      <td>000096</td>\n",
       "      <td>2022-03-04 11:15:55</td>\n",
       "    </tr>\n",
       "    <tr>\n",
       "      <th>168536</th>\n",
       "      <td>000096</td>\n",
       "      <td>2022-03-22 13:16:09</td>\n",
       "    </tr>\n",
       "    <tr>\n",
       "      <th>90423</th>\n",
       "      <td>0000d4</td>\n",
       "      <td>2022-02-28 16:32:09</td>\n",
       "    </tr>\n",
       "    <tr>\n",
       "      <th>186586</th>\n",
       "      <td>0000d4</td>\n",
       "      <td>2022-03-27 11:26:30</td>\n",
       "    </tr>\n",
       "    <tr>\n",
       "      <th>28831</th>\n",
       "      <td>0000de</td>\n",
       "      <td>2022-02-11 18:57:15</td>\n",
       "    </tr>\n",
       "  </tbody>\n",
       "</table>\n",
       "</div>"
      ],
      "text/plain": [
       "       user_id                date\n",
       "101925  000096 2022-03-04 11:15:55\n",
       "168536  000096 2022-03-22 13:16:09\n",
       "90423   0000d4 2022-02-28 16:32:09\n",
       "186586  0000d4 2022-03-27 11:26:30\n",
       "28831   0000de 2022-02-11 18:57:15"
      ]
     },
     "execution_count": 11,
     "metadata": {},
     "output_type": "execute_result"
    }
   ],
   "source": [
    "relevant_sales = (\n",
    "    get_data_subset(df_sales, user_ids=relevant_users)\n",
    "    .sort_values(\n",
    "        by=['user_id', 'date'],\n",
    "        ascending=[True, True]\n",
    "    )\n",
    ")\n",
    "relevant_sales.head()"
   ]
  },
  {
   "cell_type": "code",
   "execution_count": 12,
   "id": "28125f5d-5f52-4581-8637-1a272c720e16",
   "metadata": {},
   "outputs": [
    {
     "data": {
      "text/html": [
       "<div>\n",
       "<style scoped>\n",
       "    .dataframe tbody tr th:only-of-type {\n",
       "        vertical-align: middle;\n",
       "    }\n",
       "\n",
       "    .dataframe tbody tr th {\n",
       "        vertical-align: top;\n",
       "    }\n",
       "\n",
       "    .dataframe thead th {\n",
       "        text-align: right;\n",
       "    }\n",
       "</style>\n",
       "<table border=\"1\" class=\"dataframe\">\n",
       "  <thead>\n",
       "    <tr style=\"text-align: right;\">\n",
       "      <th></th>\n",
       "      <th>user_id</th>\n",
       "      <th>date</th>\n",
       "      <th>next_date</th>\n",
       "    </tr>\n",
       "  </thead>\n",
       "  <tbody>\n",
       "    <tr>\n",
       "      <th>101925</th>\n",
       "      <td>000096</td>\n",
       "      <td>2022-03-04 11:15:55</td>\n",
       "      <td>2022-03-22 13:16:09</td>\n",
       "    </tr>\n",
       "    <tr>\n",
       "      <th>90423</th>\n",
       "      <td>0000d4</td>\n",
       "      <td>2022-02-28 16:32:09</td>\n",
       "      <td>2022-03-27 11:26:30</td>\n",
       "    </tr>\n",
       "    <tr>\n",
       "      <th>28831</th>\n",
       "      <td>0000de</td>\n",
       "      <td>2022-02-11 18:57:15</td>\n",
       "      <td>2022-03-11 19:33:20</td>\n",
       "    </tr>\n",
       "    <tr>\n",
       "      <th>130584</th>\n",
       "      <td>0000de</td>\n",
       "      <td>2022-03-11 19:33:20</td>\n",
       "      <td>2022-03-25 17:01:47</td>\n",
       "    </tr>\n",
       "    <tr>\n",
       "      <th>89087</th>\n",
       "      <td>0000e4</td>\n",
       "      <td>2022-02-28 12:41:47</td>\n",
       "      <td>2022-03-27 14:54:35</td>\n",
       "    </tr>\n",
       "  </tbody>\n",
       "</table>\n",
       "</div>"
      ],
      "text/plain": [
       "       user_id                date           next_date\n",
       "101925  000096 2022-03-04 11:15:55 2022-03-22 13:16:09\n",
       "90423   0000d4 2022-02-28 16:32:09 2022-03-27 11:26:30\n",
       "28831   0000de 2022-02-11 18:57:15 2022-03-11 19:33:20\n",
       "130584  0000de 2022-03-11 19:33:20 2022-03-25 17:01:47\n",
       "89087   0000e4 2022-02-28 12:41:47 2022-03-27 14:54:35"
      ]
     },
     "execution_count": 12,
     "metadata": {},
     "output_type": "execute_result"
    }
   ],
   "source": [
    "relevant_sales['next_date'] = (\n",
    "    relevant_sales\n",
    "    .groupby('user_id')['date'].shift(-1) #Roll back once.\n",
    ")\n",
    "\n",
    "relevant_sales = relevant_sales.loc[~relevant_sales['next_date'].isna(), :]\n",
    "relevant_sales.head()"
   ]
  },
  {
   "cell_type": "code",
   "execution_count": 13,
   "id": "f4ac150c-aaaf-46b5-ac9c-55d40f0bd8d1",
   "metadata": {},
   "outputs": [
    {
     "data": {
      "text/plain": [
       "count    104069.000000\n",
       "mean         16.818899\n",
       "std           8.986901\n",
       "min           0.000000\n",
       "25%          11.000000\n",
       "50%          16.000000\n",
       "75%          22.000000\n",
       "max          55.000000\n",
       "Name: date_diff, dtype: float64"
      ]
     },
     "execution_count": 13,
     "metadata": {},
     "output_type": "execute_result"
    }
   ],
   "source": [
    "relevant_sales['date_diff'] = (\n",
    "    (relevant_sales['next_date']-relevant_sales['date'])\n",
    "    .astype('timedelta64[D]')\n",
    ")\n",
    "\n",
    "relevant_sales['date_diff'].describe()"
   ]
  },
  {
   "cell_type": "code",
   "execution_count": 14,
   "id": "4a5d718e-c8be-4769-9bff-3b0d263068f9",
   "metadata": {},
   "outputs": [
    {
     "data": {
      "text/plain": [
       "17"
      ]
     },
     "execution_count": 14,
     "metadata": {},
     "output_type": "execute_result"
    }
   ],
   "source": [
    "res_2 = round(relevant_sales['date_diff'].mean())\n",
    "res_2"
   ]
  },
  {
   "cell_type": "code",
   "execution_count": 15,
   "id": "0e51d8ef-7cf9-4342-b159-65fbee10ad26",
   "metadata": {},
   "outputs": [
    {
     "name": "stdout",
     "output_type": "stream",
     "text": [
      "answer: 17\n"
     ]
    }
   ],
   "source": [
    "## Suggested solution (what the actual hell...).\n",
    "# для каждого пользователя считаем количество покупок, дату первой и последней покупки\n",
    "df = df_sales.groupby('user_id')[['date']].agg(['count', 'min', 'max'])\n",
    "df.columns = [x[1] for x in df.columns]\n",
    "# оставляем пользователей с 2 и более покупок\n",
    "df = df[df['count'] >= 2]\n",
    "# количество секунд между первой и последней покупкой\n",
    "df['delta'] = (df['max'] - df['min']).dt.total_seconds()\n",
    "# суммарное время между покупками\n",
    "sum_delta = df['delta'].sum()\n",
    "# суммарное количество периодов между покупками\n",
    "count_periods = df['count'].sum() - len(df)\n",
    "# среднее = суммарное время / количество периодов\n",
    "answer = sum_delta / count_periods / 3600 / 24\n",
    "print('answer:', int(round(answer)))"
   ]
  },
  {
   "cell_type": "markdown",
   "id": "a9e19814-6870-40d4-8c81-76656934d10d",
   "metadata": {},
   "source": [
    "### Задача 3. Функция для проверки статистической значимости"
   ]
  },
  {
   "cell_type": "code",
   "execution_count": 16,
   "id": "7bacb29a-38da-4b8a-9ec4-f2141188064e",
   "metadata": {},
   "outputs": [],
   "source": [
    "import numpy as np\n",
    "from scipy import stats\n",
    "\n",
    "\n",
    "def get_ttest_pvalue(metrics_a_group, metrics_b_group):\n",
    "    \"\"\"\n",
    "    Применяет тест Стьюдента, возвращает pvalue.\n",
    "\n",
    "    :param metrics_a_group (np.array): массив значений метрик группы A\n",
    "    :param metrics_a_group (np.array): массив значений метрик группы B\n",
    "    :return (float): значение p-value\n",
    "    \"\"\"\n",
    "    return stats.ttest_ind(metrics_a_group, metrics_b_group).pvalue\n"
   ]
  },
  {
   "cell_type": "code",
   "execution_count": 17,
   "id": "5bb3087d-aab2-4d90-bd2d-a44c80fe538c",
   "metadata": {},
   "outputs": [
    {
     "data": {
      "text/plain": [
       "0.6122191629541949"
      ]
     },
     "execution_count": 17,
     "metadata": {},
     "output_type": "execute_result"
    }
   ],
   "source": [
    "metrics_a_group = np.array([964, 1123, 962, 1213, 914, 906, 951, 1033, 987, 1082])\n",
    "metrics_b_group = np.array([952, 1064, 1091, 1079, 1158, 921, 1161, 1064, 819, 1065])\n",
    "pvalue = get_ttest_pvalue(metrics_a_group, metrics_b_group)\n",
    "# pvalue = 0.6122191629541949\n",
    "pvalue"
   ]
  },
  {
   "cell_type": "code",
   "execution_count": null,
   "id": "33b12876-af15-4261-a45a-780b3303b69f",
   "metadata": {},
   "outputs": [],
   "source": []
  }
 ],
 "metadata": {
  "kernelspec": {
   "display_name": "Python 3 (ipykernel)",
   "language": "python",
   "name": "python3"
  },
  "language_info": {
   "codemirror_mode": {
    "name": "ipython",
    "version": 3
   },
   "file_extension": ".py",
   "mimetype": "text/x-python",
   "name": "python",
   "nbconvert_exporter": "python",
   "pygments_lexer": "ipython3",
   "version": "3.8.10"
  },
  "toc-autonumbering": false,
  "toc-showcode": false,
  "toc-showmarkdowntxt": false
 },
 "nbformat": 4,
 "nbformat_minor": 5
}
