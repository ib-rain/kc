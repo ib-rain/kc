{
 "cells": [
  {
   "cell_type": "code",
   "execution_count": 1,
   "id": "3dc10a25-c229-471a-88a1-a0db148743d0",
   "metadata": {},
   "outputs": [],
   "source": [
    "import numpy as np\n",
    "import pandas as pd\n",
    "from scipy import stats\n",
    "import matplotlib.pyplot as plt\n",
    "\n",
    "from datetime import datetime\n",
    "\n",
    "#import os"
   ]
  },
  {
   "cell_type": "code",
   "execution_count": 2,
   "id": "a95d8703-003a-428b-8402-3c66d52c3dbe",
   "metadata": {},
   "outputs": [],
   "source": [
    "URL_BASE = 'https://raw.githubusercontent.com/ab-courses/simulator-ab-datasets/main/2022-04-01/{}'\n",
    "\n",
    "# def read_database(file_name):\n",
    "    #return pd.read_csv(os.path.join(URL_BASE, file_name))\n",
    "\n",
    "def read_from_database(file_name, parse_dates_list=[]):\n",
    "    return pd.read_csv(URL_BASE.format(file_name), parse_dates=parse_dates_list)\n",
    "\n",
    "titlesize = 16\n",
    "labelsize = 16\n",
    "legendsize = 16\n",
    "xticksize = 16\n",
    "yticksize = xticksize\n",
    "\n",
    "plt.rcParams['legend.markerscale'] = 1.5     # the relative size of legend markers vs. original\n",
    "plt.rcParams['legend.handletextpad'] = 0.5\n",
    "plt.rcParams['legend.labelspacing'] = 0.4    # the vertical space between the legend entries in fraction of fontsize\n",
    "plt.rcParams['legend.borderpad'] = 0.5       # border whitespace in fontsize units\n",
    "plt.rcParams['font.size'] = 12\n",
    "plt.rcParams['font.serif'] = 'Times New Roman'\n",
    "plt.rcParams['axes.labelsize'] = labelsize\n",
    "plt.rcParams['axes.titlesize'] = titlesize\n",
    "plt.rcParams['figure.figsize'] = (10, 6)\n",
    "\n",
    "plt.rc('xtick', labelsize=xticksize)\n",
    "plt.rc('ytick', labelsize=yticksize)\n",
    "plt.rc('legend', fontsize=legendsize)"
   ]
  },
  {
   "cell_type": "markdown",
   "id": "8299e8f0-4b85-4eaf-95dc-0195c1b44ba9",
   "metadata": {
    "tags": []
   },
   "source": [
    "### Задача 1. Оценка вероятностей"
   ]
  },
  {
   "cell_type": "markdown",
   "id": "d4d0e351-4d86-4002-9d0e-b43153e425af",
   "metadata": {
    "tags": []
   },
   "source": [
    "40% заказов имеют стоимость больше 1000 рублей каждый.\n",
    "Допустим, новый заказ стоит больше 1000 рублей с вероятностью 0.4.\n",
    "Оцените вероятность того, что из 100 новых заказов 50 или более стоят дороже 1000 рублей.\n",
    "\n",
    "Ответ округлите с точность до 3 знака после точки.\n",
    "\n",
    "(В задаче используется биномиальное распределение:\n",
    "советуем изучить реализации этого распределения в пакетах: `numpy`, `scipy.stats`.)"
   ]
  },
  {
   "cell_type": "code",
   "execution_count": 3,
   "id": "bf47afc6-f80e-4a55-97fd-f33c08ad6c49",
   "metadata": {},
   "outputs": [],
   "source": [
    "n = 100\n",
    "k = 50\n",
    "p = 0.4 #Probability of success (order costing more than 1000 RUB)."
   ]
  },
  {
   "cell_type": "code",
   "execution_count": 4,
   "id": "f116d525-3893-4bef-b82a-6678d32b4280",
   "metadata": {},
   "outputs": [
    {
     "data": {
      "text/plain": [
       "(0.027, 0.027)"
      ]
     },
     "execution_count": 4,
     "metadata": {},
     "output_type": "execute_result"
    }
   ],
   "source": [
    "\"\"\"\n",
    "Разбор: Вариант 3.\n",
    "\n",
    "Вероятность получить 50 или больше заказов стоимостью больше 1000 рублей\n",
    "равна единице минус вероятность получить 49 или меньше заказов стоимость больше 1000 рублей.\n",
    "Последняя вероятность выражается через функцию распределения, которой мы и воспользуемся.\n",
    "\"\"\"\n",
    "\n",
    "p_49_or_less = stats.binom.cdf(k-1, n, p) #0-49\n",
    "p_50_or_more = 1 - p_49_or_less #50-100\n",
    "\n",
    "st_res = round(p_50_or_more, 3)\n",
    "\n",
    "st_res2 = round(stats.binom.sf(k-1, n, p), 3) #Survival function (1-cdf) variant.\n",
    "\n",
    "st_res, st_res2"
   ]
  },
  {
   "cell_type": "code",
   "execution_count": 5,
   "id": "022b0b51-d63f-40ef-8790-74b355092e4c",
   "metadata": {},
   "outputs": [
    {
     "data": {
      "text/plain": [
       "(0.027, 0.027)"
      ]
     },
     "execution_count": 5,
     "metadata": {},
     "output_type": "execute_result"
    }
   ],
   "source": [
    "\"\"\"\n",
    "Разбор: Вариант 1.\n",
    "\n",
    "Сгенерируем информацию о 100 заказах, каждый из которых с вероятностью 40% стоит больше 1000.\n",
    "Количество заказов со стоимостью больше 1000 - это биномиальная случайная величина с параметрами n=100, p=0.4.\n",
    "Повторим это много раз и численно оценим искомую вероятность.\n",
    "\"\"\"\n",
    "\n",
    "size = 1_000_000\n",
    "\n",
    "np_res = round((np.random.binomial(n, p, size) >= k).mean(), 3)\n",
    "np_res2 = round(1.0 - sum(np.random.binomial(n, p, size) < k) / size, 3)\n",
    "\n",
    "np_res, np_res2"
   ]
  },
  {
   "cell_type": "code",
   "execution_count": 6,
   "id": "1e3d41a7-7373-4539-88ab-9e0cfc800831",
   "metadata": {},
   "outputs": [
    {
     "data": {
      "text/plain": [
       "0.027"
      ]
     },
     "execution_count": 6,
     "metadata": {},
     "output_type": "execute_result"
    }
   ],
   "source": [
    "\"\"\"\n",
    "Разбор: Вариант 2.\n",
    "\n",
    "Посчитаем вероятности получить ровно K заказов со стоимостью больше 1000 для K от 50 до 100.\n",
    "Просуммируем полученные значения.\n",
    "\n",
    "(Довольно оскорбительно из-за цикла и накапливающейся в нём ошибки округления, но ОК.)\n",
    "\"\"\"\n",
    "\n",
    "res = 0.0\n",
    "\n",
    "for i in range(50, 101, 1):\n",
    "    res += stats.binom.pmf(i, n, p)\n",
    "    \n",
    "round(res, 3)"
   ]
  },
  {
   "cell_type": "markdown",
   "id": "898071ab-f6b6-4ee6-8118-1669f8a2954b",
   "metadata": {
    "tags": []
   },
   "source": [
    "### Задача 2. Популярные товары"
   ]
  },
  {
   "cell_type": "code",
   "execution_count": 7,
   "id": "b5418636-88dc-4643-ac3d-ef232c0b3c3f",
   "metadata": {},
   "outputs": [
    {
     "data": {
      "text/html": [
       "<div>\n",
       "<style scoped>\n",
       "    .dataframe tbody tr th:only-of-type {\n",
       "        vertical-align: middle;\n",
       "    }\n",
       "\n",
       "    .dataframe tbody tr th {\n",
       "        vertical-align: top;\n",
       "    }\n",
       "\n",
       "    .dataframe thead th {\n",
       "        text-align: right;\n",
       "    }\n",
       "</style>\n",
       "<table border=\"1\" class=\"dataframe\">\n",
       "  <thead>\n",
       "    <tr style=\"text-align: right;\">\n",
       "      <th></th>\n",
       "      <th>sale_id</th>\n",
       "      <th>good</th>\n",
       "      <th>price</th>\n",
       "      <th>date</th>\n",
       "      <th>user_id</th>\n",
       "    </tr>\n",
       "  </thead>\n",
       "  <tbody>\n",
       "    <tr>\n",
       "      <th>0</th>\n",
       "      <td>1000001</td>\n",
       "      <td>mexican pizza</td>\n",
       "      <td>720</td>\n",
       "      <td>2022-02-04 10:00:24</td>\n",
       "      <td>1c1543</td>\n",
       "    </tr>\n",
       "    <tr>\n",
       "      <th>1</th>\n",
       "      <td>1000002</td>\n",
       "      <td>chefs pizza</td>\n",
       "      <td>840</td>\n",
       "      <td>2022-02-04 10:02:28</td>\n",
       "      <td>a9a6e8</td>\n",
       "    </tr>\n",
       "    <tr>\n",
       "      <th>2</th>\n",
       "      <td>1000002</td>\n",
       "      <td>orange juice</td>\n",
       "      <td>90</td>\n",
       "      <td>2022-02-04 10:02:28</td>\n",
       "      <td>a9a6e8</td>\n",
       "    </tr>\n",
       "    <tr>\n",
       "      <th>3</th>\n",
       "      <td>1000003</td>\n",
       "      <td>cheese pizza</td>\n",
       "      <td>600</td>\n",
       "      <td>2022-02-04 10:02:35</td>\n",
       "      <td>23420a</td>\n",
       "    </tr>\n",
       "    <tr>\n",
       "      <th>4</th>\n",
       "      <td>1000003</td>\n",
       "      <td>italian pizza</td>\n",
       "      <td>720</td>\n",
       "      <td>2022-02-04 10:02:35</td>\n",
       "      <td>23420a</td>\n",
       "    </tr>\n",
       "  </tbody>\n",
       "</table>\n",
       "</div>"
      ],
      "text/plain": [
       "   sale_id           good  price                 date user_id\n",
       "0  1000001  mexican pizza    720  2022-02-04 10:00:24  1c1543\n",
       "1  1000002    chefs pizza    840  2022-02-04 10:02:28  a9a6e8\n",
       "2  1000002   orange juice     90  2022-02-04 10:02:28  a9a6e8\n",
       "3  1000003   cheese pizza    600  2022-02-04 10:02:35  23420a\n",
       "4  1000003  italian pizza    720  2022-02-04 10:02:35  23420a"
      ]
     },
     "execution_count": 7,
     "metadata": {},
     "output_type": "execute_result"
    }
   ],
   "source": [
    "\"\"\"\n",
    "Определите топ-3 товара по суммарной выручке.\n",
    "Для решения используйте данные из файла 2022-04-01/2022-04-01T12_df_sales_detail.csv.\n",
    "Описание данных можно посмотреть на платформе А/Б тестирования на вкладке Главная.\n",
    "\"\"\"\n",
    "\n",
    "#df = pd.read_csv('./data/2022-04-01T12_df_sales_detail.csv')\n",
    "df_popular = read_from_database('2022-04-01T12_df_sales_detail.csv')\n",
    "df_popular.head()"
   ]
  },
  {
   "cell_type": "code",
   "execution_count": 8,
   "id": "ba7a77c8-ce65-4fa3-b2db-2fb064ff1abc",
   "metadata": {},
   "outputs": [
    {
     "name": "stdout",
     "output_type": "stream",
     "text": [
      "<class 'pandas.core.frame.DataFrame'>\n",
      "RangeIndex: 416481 entries, 0 to 416480\n",
      "Data columns (total 5 columns):\n",
      " #   Column   Non-Null Count   Dtype \n",
      "---  ------   --------------   ----- \n",
      " 0   sale_id  416481 non-null  int64 \n",
      " 1   good     416481 non-null  object\n",
      " 2   price    416481 non-null  int64 \n",
      " 3   date     416481 non-null  object\n",
      " 4   user_id  416481 non-null  object\n",
      "dtypes: int64(2), object(3)\n",
      "memory usage: 15.9+ MB\n"
     ]
    }
   ],
   "source": [
    "df_popular.info()"
   ]
  },
  {
   "cell_type": "code",
   "execution_count": 9,
   "id": "32fb931e-4c60-4164-af8b-4e5fcb3b39ef",
   "metadata": {},
   "outputs": [
    {
     "data": {
      "text/html": [
       "<div>\n",
       "<style scoped>\n",
       "    .dataframe tbody tr th:only-of-type {\n",
       "        vertical-align: middle;\n",
       "    }\n",
       "\n",
       "    .dataframe tbody tr th {\n",
       "        vertical-align: top;\n",
       "    }\n",
       "\n",
       "    .dataframe thead th {\n",
       "        text-align: right;\n",
       "    }\n",
       "</style>\n",
       "<table border=\"1\" class=\"dataframe\">\n",
       "  <thead>\n",
       "    <tr style=\"text-align: right;\">\n",
       "      <th></th>\n",
       "      <th>sale_id</th>\n",
       "      <th>price</th>\n",
       "    </tr>\n",
       "  </thead>\n",
       "  <tbody>\n",
       "    <tr>\n",
       "      <th>count</th>\n",
       "      <td>4.164810e+05</td>\n",
       "      <td>416481.000000</td>\n",
       "    </tr>\n",
       "    <tr>\n",
       "      <th>mean</th>\n",
       "      <td>1.101871e+06</td>\n",
       "      <td>590.284815</td>\n",
       "    </tr>\n",
       "    <tr>\n",
       "      <th>std</th>\n",
       "      <td>5.882355e+04</td>\n",
       "      <td>256.404911</td>\n",
       "    </tr>\n",
       "    <tr>\n",
       "      <th>min</th>\n",
       "      <td>1.000001e+06</td>\n",
       "      <td>60.000000</td>\n",
       "    </tr>\n",
       "    <tr>\n",
       "      <th>25%</th>\n",
       "      <td>1.050803e+06</td>\n",
       "      <td>540.000000</td>\n",
       "    </tr>\n",
       "    <tr>\n",
       "      <th>50%</th>\n",
       "      <td>1.101900e+06</td>\n",
       "      <td>660.000000</td>\n",
       "    </tr>\n",
       "    <tr>\n",
       "      <th>75%</th>\n",
       "      <td>1.152683e+06</td>\n",
       "      <td>780.000000</td>\n",
       "    </tr>\n",
       "    <tr>\n",
       "      <th>max</th>\n",
       "      <td>1.203847e+06</td>\n",
       "      <td>840.000000</td>\n",
       "    </tr>\n",
       "  </tbody>\n",
       "</table>\n",
       "</div>"
      ],
      "text/plain": [
       "            sale_id          price\n",
       "count  4.164810e+05  416481.000000\n",
       "mean   1.101871e+06     590.284815\n",
       "std    5.882355e+04     256.404911\n",
       "min    1.000001e+06      60.000000\n",
       "25%    1.050803e+06     540.000000\n",
       "50%    1.101900e+06     660.000000\n",
       "75%    1.152683e+06     780.000000\n",
       "max    1.203847e+06     840.000000"
      ]
     },
     "execution_count": 9,
     "metadata": {},
     "output_type": "execute_result"
    }
   ],
   "source": [
    "df_popular.describe()"
   ]
  },
  {
   "cell_type": "code",
   "execution_count": 10,
   "id": "f7d4535e-a0a2-484e-9530-c2c35316bc72",
   "metadata": {},
   "outputs": [
    {
     "data": {
      "text/plain": [
       "good\n",
       "chefs pizza               24558240\n",
       "double pepperoni pizza    22558380\n",
       "chicken bbq pizza         17622540\n",
       "Name: price, dtype: int64"
      ]
     },
     "execution_count": 10,
     "metadata": {},
     "output_type": "execute_result"
    }
   ],
   "source": [
    "popular_goods = (\n",
    "    df_popular\n",
    "    .groupby('good')\n",
    "    ['price'].sum()\n",
    "    .sort_values(ascending=False)\n",
    "    .head(3)\n",
    "    #.index.to_list()\n",
    ")\n",
    "\n",
    "popular_goods"
   ]
  },
  {
   "cell_type": "markdown",
   "id": "7badbcc8-c166-4726-8359-c00ce486841d",
   "metadata": {
    "tags": []
   },
   "source": [
    "### Задача 3. Время от захода на сайт до покупки"
   ]
  },
  {
   "cell_type": "markdown",
   "id": "5a371a09-11be-4a1a-ae51-0cb74c8a5dc3",
   "metadata": {},
   "source": [
    "Оцените средний срок, который проходит от захода пользователя на сайт до совершения покупки.\n",
    "Будем считать, что заход на сайт относится к покупке, если он был совершён не ранее,\n",
    "чем за два часа до совершения покупки. Другими словами, для каждой покупки нужно посчитать время,\n",
    "которое проходит от покупки до первого захода на сайт того же пользователя в течение двух часов перед покупкой,\n",
    "и от полученных значений времени посчитать среднее.\n",
    "\n",
    "Для решения используйте данные из файлов `2022-04-01T12_df_sales.csv` и `2022-04-01T12_df_web_logs.csv`.\n",
    "\n",
    "Полученный результат переведите в минуты и округлите до целого значения."
   ]
  },
  {
   "cell_type": "code",
   "execution_count": 11,
   "id": "d72fae5d-c5b8-4937-b7d3-114b930eb48f",
   "metadata": {},
   "outputs": [],
   "source": [
    "df_sales = read_from_database('2022-04-01T12_df_sales.csv', [1])\n",
    "df_web_logs = read_from_database('2022-04-01T12_df_web_logs.csv', [2])\n",
    "\n",
    "# df_sales = df_sales.loc[(df_sales['user_id']=='f25239'), :]\n",
    "# df_web_logs = df_web_logs.loc[(df_web_logs['user_id']=='f25239'), :]"
   ]
  },
  {
   "cell_type": "code",
   "execution_count": 12,
   "id": "3f104e1f-58fa-4df5-8adb-3d3cfd8025ff",
   "metadata": {},
   "outputs": [
    {
     "data": {
      "text/html": [
       "<div>\n",
       "<style scoped>\n",
       "    .dataframe tbody tr th:only-of-type {\n",
       "        vertical-align: middle;\n",
       "    }\n",
       "\n",
       "    .dataframe tbody tr th {\n",
       "        vertical-align: top;\n",
       "    }\n",
       "\n",
       "    .dataframe thead th {\n",
       "        text-align: right;\n",
       "    }\n",
       "</style>\n",
       "<table border=\"1\" class=\"dataframe\">\n",
       "  <thead>\n",
       "    <tr style=\"text-align: right;\">\n",
       "      <th></th>\n",
       "      <th>sale_id</th>\n",
       "      <th>date</th>\n",
       "      <th>count_pizza</th>\n",
       "      <th>count_drink</th>\n",
       "      <th>price</th>\n",
       "      <th>user_id</th>\n",
       "    </tr>\n",
       "  </thead>\n",
       "  <tbody>\n",
       "    <tr>\n",
       "      <th>0</th>\n",
       "      <td>1000001</td>\n",
       "      <td>2022-02-04 10:00:24</td>\n",
       "      <td>1</td>\n",
       "      <td>0</td>\n",
       "      <td>720</td>\n",
       "      <td>1c1543</td>\n",
       "    </tr>\n",
       "    <tr>\n",
       "      <th>1</th>\n",
       "      <td>1000002</td>\n",
       "      <td>2022-02-04 10:02:28</td>\n",
       "      <td>1</td>\n",
       "      <td>1</td>\n",
       "      <td>930</td>\n",
       "      <td>a9a6e8</td>\n",
       "    </tr>\n",
       "    <tr>\n",
       "      <th>2</th>\n",
       "      <td>1000003</td>\n",
       "      <td>2022-02-04 10:02:35</td>\n",
       "      <td>3</td>\n",
       "      <td>1</td>\n",
       "      <td>1980</td>\n",
       "      <td>23420a</td>\n",
       "    </tr>\n",
       "    <tr>\n",
       "      <th>3</th>\n",
       "      <td>1000004</td>\n",
       "      <td>2022-02-04 10:03:06</td>\n",
       "      <td>1</td>\n",
       "      <td>1</td>\n",
       "      <td>750</td>\n",
       "      <td>3e8ed5</td>\n",
       "    </tr>\n",
       "    <tr>\n",
       "      <th>4</th>\n",
       "      <td>1000005</td>\n",
       "      <td>2022-02-04 10:03:23</td>\n",
       "      <td>1</td>\n",
       "      <td>1</td>\n",
       "      <td>870</td>\n",
       "      <td>cbc468</td>\n",
       "    </tr>\n",
       "  </tbody>\n",
       "</table>\n",
       "</div>"
      ],
      "text/plain": [
       "   sale_id                date  count_pizza  count_drink  price user_id\n",
       "0  1000001 2022-02-04 10:00:24            1            0    720  1c1543\n",
       "1  1000002 2022-02-04 10:02:28            1            1    930  a9a6e8\n",
       "2  1000003 2022-02-04 10:02:35            3            1   1980  23420a\n",
       "3  1000004 2022-02-04 10:03:06            1            1    750  3e8ed5\n",
       "4  1000005 2022-02-04 10:03:23            1            1    870  cbc468"
      ]
     },
     "execution_count": 12,
     "metadata": {},
     "output_type": "execute_result"
    }
   ],
   "source": [
    "df_sales.head()"
   ]
  },
  {
   "cell_type": "code",
   "execution_count": 13,
   "id": "5c824f91-b452-4b69-9627-fbd9680e5e50",
   "metadata": {},
   "outputs": [
    {
     "name": "stdout",
     "output_type": "stream",
     "text": [
      "<class 'pandas.core.frame.DataFrame'>\n",
      "RangeIndex: 203847 entries, 0 to 203846\n",
      "Data columns (total 6 columns):\n",
      " #   Column       Non-Null Count   Dtype         \n",
      "---  ------       --------------   -----         \n",
      " 0   sale_id      203847 non-null  int64         \n",
      " 1   date         203847 non-null  datetime64[ns]\n",
      " 2   count_pizza  203847 non-null  int64         \n",
      " 3   count_drink  203847 non-null  int64         \n",
      " 4   price        203847 non-null  int64         \n",
      " 5   user_id      203847 non-null  object        \n",
      "dtypes: datetime64[ns](1), int64(4), object(1)\n",
      "memory usage: 9.3+ MB\n"
     ]
    }
   ],
   "source": [
    "df_sales.info()"
   ]
  },
  {
   "cell_type": "code",
   "execution_count": 14,
   "id": "6e7a7695-0ce6-489c-96ad-6c2b30058dbd",
   "metadata": {},
   "outputs": [
    {
     "data": {
      "text/html": [
       "<div>\n",
       "<style scoped>\n",
       "    .dataframe tbody tr th:only-of-type {\n",
       "        vertical-align: middle;\n",
       "    }\n",
       "\n",
       "    .dataframe tbody tr th {\n",
       "        vertical-align: top;\n",
       "    }\n",
       "\n",
       "    .dataframe thead th {\n",
       "        text-align: right;\n",
       "    }\n",
       "</style>\n",
       "<table border=\"1\" class=\"dataframe\">\n",
       "  <thead>\n",
       "    <tr style=\"text-align: right;\">\n",
       "      <th></th>\n",
       "      <th>user_id</th>\n",
       "      <th>page</th>\n",
       "      <th>date</th>\n",
       "      <th>load_time</th>\n",
       "    </tr>\n",
       "  </thead>\n",
       "  <tbody>\n",
       "    <tr>\n",
       "      <th>0</th>\n",
       "      <td>f25239</td>\n",
       "      <td>m</td>\n",
       "      <td>2022-02-03 23:45:37</td>\n",
       "      <td>80.8</td>\n",
       "    </tr>\n",
       "    <tr>\n",
       "      <th>1</th>\n",
       "      <td>06d6df</td>\n",
       "      <td>m</td>\n",
       "      <td>2022-02-03 23:49:56</td>\n",
       "      <td>70.5</td>\n",
       "    </tr>\n",
       "    <tr>\n",
       "      <th>2</th>\n",
       "      <td>06d6df</td>\n",
       "      <td>m</td>\n",
       "      <td>2022-02-03 23:51:16</td>\n",
       "      <td>89.7</td>\n",
       "    </tr>\n",
       "    <tr>\n",
       "      <th>3</th>\n",
       "      <td>f25239</td>\n",
       "      <td>m</td>\n",
       "      <td>2022-02-03 23:51:43</td>\n",
       "      <td>74.4</td>\n",
       "    </tr>\n",
       "    <tr>\n",
       "      <th>4</th>\n",
       "      <td>697870</td>\n",
       "      <td>m</td>\n",
       "      <td>2022-02-03 23:53:12</td>\n",
       "      <td>66.8</td>\n",
       "    </tr>\n",
       "  </tbody>\n",
       "</table>\n",
       "</div>"
      ],
      "text/plain": [
       "  user_id page                date  load_time\n",
       "0  f25239    m 2022-02-03 23:45:37       80.8\n",
       "1  06d6df    m 2022-02-03 23:49:56       70.5\n",
       "2  06d6df    m 2022-02-03 23:51:16       89.7\n",
       "3  f25239    m 2022-02-03 23:51:43       74.4\n",
       "4  697870    m 2022-02-03 23:53:12       66.8"
      ]
     },
     "execution_count": 14,
     "metadata": {},
     "output_type": "execute_result"
    }
   ],
   "source": [
    "df_web_logs.head()"
   ]
  },
  {
   "cell_type": "code",
   "execution_count": 15,
   "id": "f1e64a25-00b5-4e39-bd59-0630fe5efe8a",
   "metadata": {},
   "outputs": [
    {
     "name": "stdout",
     "output_type": "stream",
     "text": [
      "<class 'pandas.core.frame.DataFrame'>\n",
      "RangeIndex: 1964507 entries, 0 to 1964506\n",
      "Data columns (total 4 columns):\n",
      " #   Column     Dtype         \n",
      "---  ------     -----         \n",
      " 0   user_id    object        \n",
      " 1   page       object        \n",
      " 2   date       datetime64[ns]\n",
      " 3   load_time  float64       \n",
      "dtypes: datetime64[ns](1), float64(1), object(2)\n",
      "memory usage: 60.0+ MB\n"
     ]
    }
   ],
   "source": [
    "df_web_logs.info()"
   ]
  },
  {
   "cell_type": "code",
   "execution_count": 16,
   "id": "a4cd9316-c7bc-4207-b903-df0601016eb9",
   "metadata": {},
   "outputs": [
    {
     "data": {
      "text/plain": [
       "user_id      0\n",
       "page         0\n",
       "date         0\n",
       "load_time    0\n",
       "dtype: int64"
      ]
     },
     "execution_count": 16,
     "metadata": {},
     "output_type": "execute_result"
    }
   ],
   "source": [
    "df_web_logs.isna().sum()"
   ]
  },
  {
   "cell_type": "code",
   "execution_count": 17,
   "id": "ae670663-d865-4426-8a6e-12f915424127",
   "metadata": {},
   "outputs": [
    {
     "data": {
      "text/html": [
       "<div>\n",
       "<style scoped>\n",
       "    .dataframe tbody tr th:only-of-type {\n",
       "        vertical-align: middle;\n",
       "    }\n",
       "\n",
       "    .dataframe tbody tr th {\n",
       "        vertical-align: top;\n",
       "    }\n",
       "\n",
       "    .dataframe thead th {\n",
       "        text-align: right;\n",
       "    }\n",
       "</style>\n",
       "<table border=\"1\" class=\"dataframe\">\n",
       "  <thead>\n",
       "    <tr style=\"text-align: right;\">\n",
       "      <th></th>\n",
       "      <th>user_id</th>\n",
       "      <th>date_web</th>\n",
       "      <th>date_sales</th>\n",
       "      <th>time_to_purchase_sec</th>\n",
       "    </tr>\n",
       "  </thead>\n",
       "  <tbody>\n",
       "    <tr>\n",
       "      <th>4269382</th>\n",
       "      <td>000096</td>\n",
       "      <td>2022-03-04 10:58:01</td>\n",
       "      <td>2022-03-04 11:15:55</td>\n",
       "      <td>1074.0</td>\n",
       "    </tr>\n",
       "    <tr>\n",
       "      <th>4269384</th>\n",
       "      <td>000096</td>\n",
       "      <td>2022-03-04 11:00:02</td>\n",
       "      <td>2022-03-04 11:15:55</td>\n",
       "      <td>953.0</td>\n",
       "    </tr>\n",
       "    <tr>\n",
       "      <th>4269386</th>\n",
       "      <td>000096</td>\n",
       "      <td>2022-03-04 11:02:40</td>\n",
       "      <td>2022-03-04 11:15:55</td>\n",
       "      <td>795.0</td>\n",
       "    </tr>\n",
       "    <tr>\n",
       "      <th>4269388</th>\n",
       "      <td>000096</td>\n",
       "      <td>2022-03-04 11:04:37</td>\n",
       "      <td>2022-03-04 11:15:55</td>\n",
       "      <td>678.0</td>\n",
       "    </tr>\n",
       "    <tr>\n",
       "      <th>4269390</th>\n",
       "      <td>000096</td>\n",
       "      <td>2022-03-04 11:12:36</td>\n",
       "      <td>2022-03-04 11:15:55</td>\n",
       "      <td>199.0</td>\n",
       "    </tr>\n",
       "  </tbody>\n",
       "</table>\n",
       "</div>"
      ],
      "text/plain": [
       "        user_id            date_web          date_sales  time_to_purchase_sec\n",
       "4269382  000096 2022-03-04 10:58:01 2022-03-04 11:15:55                1074.0\n",
       "4269384  000096 2022-03-04 11:00:02 2022-03-04 11:15:55                 953.0\n",
       "4269386  000096 2022-03-04 11:02:40 2022-03-04 11:15:55                 795.0\n",
       "4269388  000096 2022-03-04 11:04:37 2022-03-04 11:15:55                 678.0\n",
       "4269390  000096 2022-03-04 11:12:36 2022-03-04 11:15:55                 199.0"
      ]
     },
     "execution_count": 17,
     "metadata": {},
     "output_type": "execute_result"
    }
   ],
   "source": [
    "df_web_sales = (\n",
    "    df_web_logs.loc[:, ['user_id', 'date']]\n",
    "    .merge(\n",
    "        df_sales.loc[:, ['user_id', 'date']],\n",
    "        how='inner',\n",
    "        on='user_id',\n",
    "        suffixes=('_web', '_sales')\n",
    "    )\n",
    ")\n",
    "\n",
    "df_web_sales['time_to_purchase_sec'] = (\n",
    "    (df_web_sales['date_sales']-df_web_sales['date_web'])\n",
    "    .astype('timedelta64[s]')\n",
    ")\n",
    "    \n",
    "df_web_sales = (\n",
    "    df_web_sales\n",
    "    .loc[\n",
    "        (df_web_sales['time_to_purchase_sec'] <= 2.0 * 60 * 60)\n",
    "        & (df_web_sales['time_to_purchase_sec'] >= 0.0),\n",
    "        :\n",
    "    ]\n",
    ")\n",
    "\n",
    "df_web_sales.sort_values(['user_id', 'date_web', 'date_sales']).head()"
   ]
  },
  {
   "cell_type": "code",
   "execution_count": 18,
   "id": "68323f13-6cb5-4f19-b4f6-2254c22a9214",
   "metadata": {},
   "outputs": [
    {
     "data": {
      "text/html": [
       "<div>\n",
       "<style scoped>\n",
       "    .dataframe tbody tr th:only-of-type {\n",
       "        vertical-align: middle;\n",
       "    }\n",
       "\n",
       "    .dataframe tbody tr th {\n",
       "        vertical-align: top;\n",
       "    }\n",
       "\n",
       "    .dataframe thead th {\n",
       "        text-align: right;\n",
       "    }\n",
       "</style>\n",
       "<table border=\"1\" class=\"dataframe\">\n",
       "  <thead>\n",
       "    <tr style=\"text-align: right;\">\n",
       "      <th></th>\n",
       "      <th>user_id</th>\n",
       "      <th>date_web</th>\n",
       "      <th>date_sales</th>\n",
       "    </tr>\n",
       "  </thead>\n",
       "  <tbody>\n",
       "    <tr>\n",
       "      <th>0</th>\n",
       "      <td>000096</td>\n",
       "      <td>2022-03-04 10:58:01</td>\n",
       "      <td>2022-03-04 11:15:55</td>\n",
       "    </tr>\n",
       "    <tr>\n",
       "      <th>1</th>\n",
       "      <td>000096</td>\n",
       "      <td>2022-03-22 12:57:54</td>\n",
       "      <td>2022-03-22 13:16:09</td>\n",
       "    </tr>\n",
       "    <tr>\n",
       "      <th>2</th>\n",
       "      <td>0000d4</td>\n",
       "      <td>2022-02-28 16:13:47</td>\n",
       "      <td>2022-02-28 16:32:09</td>\n",
       "    </tr>\n",
       "    <tr>\n",
       "      <th>3</th>\n",
       "      <td>0000d4</td>\n",
       "      <td>2022-03-27 11:09:14</td>\n",
       "      <td>2022-03-27 11:26:30</td>\n",
       "    </tr>\n",
       "    <tr>\n",
       "      <th>4</th>\n",
       "      <td>0000de</td>\n",
       "      <td>2022-02-11 18:41:22</td>\n",
       "      <td>2022-02-11 18:57:15</td>\n",
       "    </tr>\n",
       "  </tbody>\n",
       "</table>\n",
       "</div>"
      ],
      "text/plain": [
       "  user_id            date_web          date_sales\n",
       "0  000096 2022-03-04 10:58:01 2022-03-04 11:15:55\n",
       "1  000096 2022-03-22 12:57:54 2022-03-22 13:16:09\n",
       "2  0000d4 2022-02-28 16:13:47 2022-02-28 16:32:09\n",
       "3  0000d4 2022-03-27 11:09:14 2022-03-27 11:26:30\n",
       "4  0000de 2022-02-11 18:41:22 2022-02-11 18:57:15"
      ]
     },
     "execution_count": 18,
     "metadata": {},
     "output_type": "execute_result"
    }
   ],
   "source": [
    "df_web_sales = (\n",
    "    df_web_sales\n",
    "    .groupby(['user_id', 'date_sales'])\n",
    "    ['date_web'].min()\n",
    "    .reset_index()\n",
    "    .loc[:, ['user_id', 'date_web', 'date_sales']]\n",
    ")\n",
    "         \n",
    "df_web_sales.head()"
   ]
  },
  {
   "cell_type": "code",
   "execution_count": 19,
   "id": "d1de23d9-436f-454f-9d14-8e68c3f03438",
   "metadata": {},
   "outputs": [],
   "source": [
    "df_web_sales['time_to_purchase_sec'] = (\n",
    "    (df_web_sales['date_sales']-df_web_sales['date_web'])\n",
    "    .astype('timedelta64[s]')\n",
    ")"
   ]
  },
  {
   "cell_type": "code",
   "execution_count": 20,
   "id": "91977b28-112d-4250-bbda-c896ae235f8d",
   "metadata": {},
   "outputs": [
    {
     "data": {
      "text/plain": [
       "count    203847.000000\n",
       "mean        995.312671\n",
       "std         285.584947\n",
       "min          53.000000\n",
       "25%         890.000000\n",
       "50%        1038.000000\n",
       "75%        1132.000000\n",
       "max        7199.000000\n",
       "Name: time_to_purchase_sec, dtype: float64"
      ]
     },
     "execution_count": 20,
     "metadata": {},
     "output_type": "execute_result"
    }
   ],
   "source": [
    "df_web_sales['time_to_purchase_sec'].describe()"
   ]
  },
  {
   "cell_type": "code",
   "execution_count": 21,
   "id": "1e82fe75-2889-494a-878e-317afc794035",
   "metadata": {},
   "outputs": [
    {
     "data": {
      "text/plain": [
       "17"
      ]
     },
     "execution_count": 21,
     "metadata": {},
     "output_type": "execute_result"
    }
   ],
   "source": [
    "mean_ttp = round(df_web_sales['time_to_purchase_sec'].mean() / 60.0)\n",
    "mean_ttp"
   ]
  },
  {
   "cell_type": "code",
   "execution_count": 22,
   "id": "d9d7dd41-81cd-4008-a09a-e442f135eb53",
   "metadata": {},
   "outputs": [
    {
     "name": "stdout",
     "output_type": "stream",
     "text": [
      "answer: 17\n"
     ]
    }
   ],
   "source": [
    "#Good suggesgted solution:\n",
    "from datetime import timedelta\n",
    "\n",
    "# объединяем таблицы с покупками и логами по пользователям\n",
    "# оставляем только user_id и времена\n",
    "df = pd.merge(\n",
    "    df_sales[['user_id', 'date']].rename(columns={'date': 'date_sale'}),\n",
    "    df_web_logs[['user_id', 'date']].rename(columns={'date': 'date_web'}),\n",
    "    on='user_id',\n",
    "    how='inner'\n",
    ")\n",
    "\n",
    "# удаляем строки, в которых заход на сайт ранее 2 часов до покупки или после покупки\n",
    "df = df[\n",
    "    (df['date_web'] >= df['date_sale'] - timedelta(hours=2))\n",
    "    & (df['date_web'] < df['date_sale'])\n",
    "].copy()\n",
    "# определяем время первого захода на сайт для покупки\n",
    "df_first_web = df.groupby(['user_id', 'date_sale'])[['date_web']].min().reset_index()\n",
    "# вычисляем время в секундах\n",
    "df_first_web['delta'] = (df_first_web['date_sale'] - df_first_web['date_web']).dt.total_seconds()\n",
    "\n",
    "# считаем среднее время и переводим в минуты\n",
    "answer = round(df_first_web['delta'].mean() / 60)\n",
    "print('answer:', answer)"
   ]
  },
  {
   "cell_type": "markdown",
   "id": "71e05171-a8dc-46ce-8739-54a04708660b",
   "metadata": {
    "tags": []
   },
   "source": [
    "### Задача 5. Функция для фильтрации данных"
   ]
  },
  {
   "cell_type": "code",
   "execution_count": 23,
   "id": "1982d97a-5785-4083-a28d-c814365630e5",
   "metadata": {},
   "outputs": [],
   "source": [
    "\"\"\"\n",
    "Для оценки результатов экспериментов нам нужно выбрать данные, полученные во время эксперимента.\n",
    "\n",
    "Напишите функцию get_data_subset.\n",
    "\n",
    "Шаблон решения\n",
    "\"\"\"\n",
    "\n",
    "from datetime import datetime, timedelta\n",
    "import pandas as pd\n",
    "\n",
    "\n",
    "def get_data_subset(df, begin_date=None, end_date=None, user_ids=None, columns=None):\n",
    "    \"\"\"Возвращает подмножество данных.\n",
    "\n",
    "    :param df (pd.DataFrame): таблица с данными, обязательные столбцы: 'date', 'user_id'.\n",
    "    :param begin_date (datetime.datetime | None): дата начала интервала с данными.\n",
    "        Пример, df[df['date'] >= begin_date].\n",
    "        Если None, то фильтровать не нужно.\n",
    "    :param end_date (datetime.datetime | None): дата окончания интервала с данными.\n",
    "        Пример, df[df['date'] < end_date].\n",
    "        Если None, то фильтровать не нужно.\n",
    "    :param user_ids (list[str] | None): список user_id, по которым нужно предоставить данные.\n",
    "        Пример, df[df['user_id'].isin(user_ids)].\n",
    "        Если None, то фильтровать по user_id не нужно.\n",
    "    :param columns (list[str] | None): список названий столбцов, по которым нужно предоставить данные.\n",
    "        Пример, df[columns].\n",
    "        Если None, то фильтровать по columns не нужно.\n",
    "\n",
    "    :return df (pd.DataFrame): датафрейм с подмножеством данных.\n",
    "    \"\"\"\n",
    "    begin_date_, end_date_, user_ids_, columns_ = begin_date, end_date, user_ids, columns\n",
    "    \n",
    "    if not begin_date_:\n",
    "        begin_date_ = df['date'].min()\n",
    "    if not end_date_:\n",
    "        end_date_ = df['date'].max() + timedelta(days=1)\n",
    "    if not user_ids_:\n",
    "        user_ids_ = df['user_id'].unique()\n",
    "    if not columns_:\n",
    "        columns_ = df.columns.to_list()\n",
    "    \n",
    "    return (\n",
    "        df\n",
    "        .loc[\n",
    "            (df['date'] >= begin_date_)\n",
    "            & (df['date'] < end_date_)\n",
    "            & df['user_id'].isin(user_ids_),\n",
    "            columns_\n",
    "        ].copy()\n",
    "    )"
   ]
  },
  {
   "cell_type": "code",
   "execution_count": 24,
   "id": "d3c9ace3-e8a6-43f0-a80b-de4d188b6ce5",
   "metadata": {},
   "outputs": [
    {
     "data": {
      "text/html": [
       "<div>\n",
       "<style scoped>\n",
       "    .dataframe tbody tr th:only-of-type {\n",
       "        vertical-align: middle;\n",
       "    }\n",
       "\n",
       "    .dataframe tbody tr th {\n",
       "        vertical-align: top;\n",
       "    }\n",
       "\n",
       "    .dataframe thead th {\n",
       "        text-align: right;\n",
       "    }\n",
       "</style>\n",
       "<table border=\"1\" class=\"dataframe\">\n",
       "  <thead>\n",
       "    <tr style=\"text-align: right;\">\n",
       "      <th></th>\n",
       "      <th>date</th>\n",
       "      <th>user_id</th>\n",
       "    </tr>\n",
       "  </thead>\n",
       "  <tbody>\n",
       "    <tr>\n",
       "      <th>1</th>\n",
       "      <td>2022-01-07</td>\n",
       "      <td>2</td>\n",
       "    </tr>\n",
       "  </tbody>\n",
       "</table>\n",
       "</div>"
      ],
      "text/plain": [
       "        date user_id\n",
       "1 2022-01-07       2"
      ]
     },
     "execution_count": 24,
     "metadata": {},
     "output_type": "execute_result"
    }
   ],
   "source": [
    "df = pd.DataFrame({\n",
    "    'date': [datetime(2022, 1, 5), datetime(2022, 1, 7)],\n",
    "    'user_id': ['1', '2'],\n",
    "})\n",
    "new_df = get_data_subset(df, datetime(2022, 1, 6))\n",
    "# new_df = pd.DataFrame(\n",
    "#     'date': [datetime(2022, 1, 5)],\n",
    "#     'user_id': ['1'],\n",
    "# )\n",
    "new_df"
   ]
  },
  {
   "cell_type": "markdown",
   "id": "67f0cd23-f4dc-4de0-aec8-5c2b12984064",
   "metadata": {
    "tags": []
   },
   "source": [
    "### Задача 6. Функции вычисления метрик"
   ]
  },
  {
   "cell_type": "code",
   "execution_count": 25,
   "id": "84f36494-4029-433d-a52a-6de434de0985",
   "metadata": {},
   "outputs": [],
   "source": [
    "\"\"\"\n",
    "Напишите функции get_response_time, get_revenue_web и get_revenue_all\n",
    "для вычисления метрик «revenue (web)», «revenue (all)» и «response time».\n",
    "\n",
    "Шаблон решения\n",
    "\"\"\"\n",
    "\n",
    "import pandas as pd\n",
    "from datetime import datetime\n",
    "\n",
    "\n",
    "def get_response_time(df_web_logs, begin_date, end_date):\n",
    "    \"\"\"Вычисляет значения времени обработки запроса сервером.\n",
    "\n",
    "    Нужно вернуть значения user_id и load_time из таблицы df_web_logs,\n",
    "    отфильтрованные по дате.\n",
    "    Считаем, что запросы обрабатываются независимо, поэтому группировать\n",
    "    по user_id не нужно.\n",
    "\n",
    "    :param df_web_logs (pd.DataFrame): таблица с логами сайта, содержит\n",
    "    столбцы ['user_id', 'date', 'load_time'].\n",
    "    :param begin_date, end_date (datetime): границы периода для\n",
    "    фильтрации данных по дате. Левая граница входит, правая не входит.\n",
    "\n",
    "    :return (pd.DataFrame): датафрейм с двумя столбцами ['user_id', 'metric']\n",
    "    \"\"\"\n",
    "    return (\n",
    "        get_data_subset(\n",
    "            df=df_web_logs,\n",
    "            begin_date=begin_date,\n",
    "            end_date=end_date,\n",
    "            # user_ids=None,\n",
    "            columns=['user_id', 'load_time']\n",
    "        ).rename(columns={'load_time': 'metric'})\n",
    "    )\n",
    "\n",
    "\n",
    "def get_revenue_web(df_sales, df_web_logs, begin_date, end_date):\n",
    "    \"\"\"Вычисляет значения выручки с пользователя за указанный период\n",
    "    для заходивших на сайт в указанный период.\n",
    "\n",
    "    Эти данные нужны для экспериментов на сайте, когда в эксперимент\n",
    "    попадают только те, кто заходил на сайт во время эксперимента.\n",
    "\n",
    "    Нужно вернуть значения user_id и выручки (sum(price)) за указанный\n",
    "    период для пользователей, заходивших на сайт в указанный период.\n",
    "    Если пользователь зашёл на сайт и ничего не купил, его суммарная\n",
    "    стоимость покупок равна нулю.\n",
    "    Для каждого user_id должно быть ровно одно значение.\n",
    "\n",
    "    :param df_sales (pd.DataFrame): таблица с продажами, содержит\n",
    "        столбцы ['user_id', 'date', 'price'].\n",
    "    :param df_web_logs (pd.DataFrame): таблица с логами сайта, содержит\n",
    "        столбцы ['user_id', 'date', 'load_time'].\n",
    "    :param begin_date, end_date (datetime): границы периода для фильтрации\n",
    "        данных по дате. Левая граница входит, правая не входит.\n",
    "\n",
    "    :return (pd.DataFrame): датафрейм с двумя столбцами ['user_id', 'metric']\n",
    "    \"\"\"\n",
    "    df_users = pd.DataFrame(\n",
    "        get_data_subset(\n",
    "            df=df_web_logs,\n",
    "            begin_date=begin_date,\n",
    "            end_date=end_date,\n",
    "            # user_ids=None,\n",
    "            columns=['user_id']\n",
    "        )['user_id'].unique(),\n",
    "        columns=['user_id']\n",
    "    )\n",
    "    \n",
    "    df_res = (\n",
    "        df_users\n",
    "        .merge(\n",
    "            get_data_subset(\n",
    "                df=df_sales, \n",
    "                begin_date=begin_date, \n",
    "                end_date=end_date,\n",
    "                # user_ids=None,\n",
    "                columns=['user_id', 'price']\n",
    "            ).groupby('user_id')\n",
    "            ['price'].sum()\n",
    "            .reset_index(),\n",
    "            how='left',\n",
    "            on='user_id'\n",
    "        ).fillna(0)\n",
    "        .rename(columns={'price': 'metric'})\n",
    "        .loc[:, ['user_id', 'metric']]\n",
    "    )\n",
    "    \n",
    "    return df_res\n",
    "\n",
    "\n",
    "def get_revenue_all(df_sales, df_web_logs, begin_date, end_date):\n",
    "    \"\"\"Вычисляет значения выручки с пользователя за указанный период\n",
    "    для заходивших на сайт до end_date.\n",
    "\n",
    "    Эти данные нужны, например, для экспериментов с рассылкой по email,\n",
    "    когда в эксперимент попадают те, кто когда-либо оставил нам свои данные.\n",
    "\n",
    "    Нужно вернуть значения user_id и выручки (sum(price)) за указанный период\n",
    "    для пользователей, заходивших на сайт до end_date.\n",
    "    Если пользователь ничего не купил за указанный период, его суммарная\n",
    "    стоимость покупок равна нулю.\n",
    "    Для каждого user_id должно быть ровно одно значение.\n",
    "\n",
    "    :param df_sales (pd.DataFrame): таблица с продажами, содержит\n",
    "        столбцы ['user_id', 'date', 'price'].\n",
    "    :param df_web_logs (pd.DataFrame): таблица с логами сайта, содержит\n",
    "        столбцы ['user_id', 'date', 'load_time'].\n",
    "    :param begin_date, end_date (datetime): границы периода для фильтрации\n",
    "        данных по дате. Левая граница входит, правая не входит.\n",
    "\n",
    "    :return (pd.DataFrame): датафрейм с двумя столбцами ['user_id', 'metric']\n",
    "    \"\"\"\n",
    "    df_users = pd.DataFrame(\n",
    "        get_data_subset(\n",
    "            df=df_web_logs,\n",
    "            # begin_date=None, \n",
    "            end_date=end_date,\n",
    "            # user_ids=None,\n",
    "            columns=['user_id']\n",
    "        )['user_id'].unique(),\n",
    "        columns=['user_id']\n",
    "    )\n",
    "    \n",
    "    df_res = (\n",
    "        df_users\n",
    "        .merge(\n",
    "            get_data_subset(\n",
    "                df=df_sales, \n",
    "                begin_date=begin_date, \n",
    "                end_date=end_date,\n",
    "                # user_ids=None,\n",
    "                columns=['user_id', 'price']\n",
    "            ).groupby('user_id')\n",
    "            ['price'].sum()\n",
    "            .reset_index(),\n",
    "            how='left',\n",
    "            on='user_id'\n",
    "        ).fillna(0)\n",
    "        .rename(columns={'price': 'metric'})\n",
    "        .loc[:, ['user_id', 'metric']]\n",
    "    )\n",
    "    \n",
    "    return df_res"
   ]
  },
  {
   "cell_type": "code",
   "execution_count": 26,
   "id": "28acdb69-be9d-4986-8116-727c7992c955",
   "metadata": {},
   "outputs": [],
   "source": [
    "df_sales = pd.DataFrame({\n",
    "    'date': [datetime(2022, 3, day, 11) for day in range(11, 14)],\n",
    "    'price': [1100, 900, 1500],\n",
    "    'user_id': ['1', '2', '1'],\n",
    "})\n",
    "\n",
    "df_web_logs = pd.DataFrame({\n",
    "    'date': [datetime(2022, 3, day, 11) for day in range(10, 14)],\n",
    "    'load_time': [80.8, 90.1, 15.8, 19.7],\n",
    "    'user_id': ['3', '1', '2', '1'],\n",
    "})\n",
    "\n",
    "begin_date = datetime(2022, 3, 11, 9)\n",
    "end_date = datetime(2022, 4, 11, 9)"
   ]
  },
  {
   "cell_type": "code",
   "execution_count": 27,
   "id": "20867ca1-1d64-4afe-84a4-bf70a503851f",
   "metadata": {},
   "outputs": [
    {
     "data": {
      "text/html": [
       "<div>\n",
       "<style scoped>\n",
       "    .dataframe tbody tr th:only-of-type {\n",
       "        vertical-align: middle;\n",
       "    }\n",
       "\n",
       "    .dataframe tbody tr th {\n",
       "        vertical-align: top;\n",
       "    }\n",
       "\n",
       "    .dataframe thead th {\n",
       "        text-align: right;\n",
       "    }\n",
       "</style>\n",
       "<table border=\"1\" class=\"dataframe\">\n",
       "  <thead>\n",
       "    <tr style=\"text-align: right;\">\n",
       "      <th></th>\n",
       "      <th>user_id</th>\n",
       "      <th>metric</th>\n",
       "    </tr>\n",
       "  </thead>\n",
       "  <tbody>\n",
       "    <tr>\n",
       "      <th>1</th>\n",
       "      <td>1</td>\n",
       "      <td>90.1</td>\n",
       "    </tr>\n",
       "    <tr>\n",
       "      <th>2</th>\n",
       "      <td>2</td>\n",
       "      <td>15.8</td>\n",
       "    </tr>\n",
       "    <tr>\n",
       "      <th>3</th>\n",
       "      <td>1</td>\n",
       "      <td>19.7</td>\n",
       "    </tr>\n",
       "  </tbody>\n",
       "</table>\n",
       "</div>"
      ],
      "text/plain": [
       "  user_id  metric\n",
       "1       1    90.1\n",
       "2       2    15.8\n",
       "3       1    19.7"
      ]
     },
     "execution_count": 27,
     "metadata": {},
     "output_type": "execute_result"
    }
   ],
   "source": [
    "# response_time = pd.DataFrame({'user_id': ['1', '2', '1'], 'metric': [90.1, 15.8, 19.7],})\n",
    "response_time = get_response_time(df_web_logs, begin_date, end_date)\n",
    "response_time"
   ]
  },
  {
   "cell_type": "code",
   "execution_count": 28,
   "id": "585fe568-fe83-4493-bee8-eec4fe4aa212",
   "metadata": {},
   "outputs": [
    {
     "data": {
      "text/html": [
       "<div>\n",
       "<style scoped>\n",
       "    .dataframe tbody tr th:only-of-type {\n",
       "        vertical-align: middle;\n",
       "    }\n",
       "\n",
       "    .dataframe tbody tr th {\n",
       "        vertical-align: top;\n",
       "    }\n",
       "\n",
       "    .dataframe thead th {\n",
       "        text-align: right;\n",
       "    }\n",
       "</style>\n",
       "<table border=\"1\" class=\"dataframe\">\n",
       "  <thead>\n",
       "    <tr style=\"text-align: right;\">\n",
       "      <th></th>\n",
       "      <th>user_id</th>\n",
       "      <th>metric</th>\n",
       "    </tr>\n",
       "  </thead>\n",
       "  <tbody>\n",
       "    <tr>\n",
       "      <th>0</th>\n",
       "      <td>1</td>\n",
       "      <td>2600</td>\n",
       "    </tr>\n",
       "    <tr>\n",
       "      <th>1</th>\n",
       "      <td>2</td>\n",
       "      <td>900</td>\n",
       "    </tr>\n",
       "  </tbody>\n",
       "</table>\n",
       "</div>"
      ],
      "text/plain": [
       "  user_id  metric\n",
       "0       1    2600\n",
       "1       2     900"
      ]
     },
     "execution_count": 28,
     "metadata": {},
     "output_type": "execute_result"
    }
   ],
   "source": [
    "# revenue_web = pd.DataFrame({'user_id': ['1', '2'], 'metric': [2600, 900],})\n",
    "revenue_web = get_revenue_web(df_sales, df_web_logs, begin_date, end_date)\n",
    "revenue_web"
   ]
  },
  {
   "cell_type": "code",
   "execution_count": 29,
   "id": "9e63563f-3543-4e43-839a-bb556a48e59d",
   "metadata": {},
   "outputs": [
    {
     "data": {
      "text/html": [
       "<div>\n",
       "<style scoped>\n",
       "    .dataframe tbody tr th:only-of-type {\n",
       "        vertical-align: middle;\n",
       "    }\n",
       "\n",
       "    .dataframe tbody tr th {\n",
       "        vertical-align: top;\n",
       "    }\n",
       "\n",
       "    .dataframe thead th {\n",
       "        text-align: right;\n",
       "    }\n",
       "</style>\n",
       "<table border=\"1\" class=\"dataframe\">\n",
       "  <thead>\n",
       "    <tr style=\"text-align: right;\">\n",
       "      <th></th>\n",
       "      <th>user_id</th>\n",
       "      <th>metric</th>\n",
       "    </tr>\n",
       "  </thead>\n",
       "  <tbody>\n",
       "    <tr>\n",
       "      <th>0</th>\n",
       "      <td>3</td>\n",
       "      <td>0.0</td>\n",
       "    </tr>\n",
       "    <tr>\n",
       "      <th>1</th>\n",
       "      <td>1</td>\n",
       "      <td>2600.0</td>\n",
       "    </tr>\n",
       "    <tr>\n",
       "      <th>2</th>\n",
       "      <td>2</td>\n",
       "      <td>900.0</td>\n",
       "    </tr>\n",
       "  </tbody>\n",
       "</table>\n",
       "</div>"
      ],
      "text/plain": [
       "  user_id  metric\n",
       "0       3     0.0\n",
       "1       1  2600.0\n",
       "2       2   900.0"
      ]
     },
     "execution_count": 29,
     "metadata": {},
     "output_type": "execute_result"
    }
   ],
   "source": [
    "# revenue_all = pd.DataFrame({'user_id': ['1', '2', '3'], 'metric': [2600, 900, 0],})\n",
    "revenue_all = get_revenue_all(df_sales, df_web_logs, begin_date, end_date)\n",
    "revenue_all"
   ]
  },
  {
   "cell_type": "code",
   "execution_count": 30,
   "id": "9575ec21-c711-4f88-b9d8-1315e2a38c6e",
   "metadata": {},
   "outputs": [],
   "source": [
    "#Suggested solution isn't bad either.\n",
    "\n",
    "import pandas as pd\n",
    "\n",
    "\n",
    "def get_data_subset(df, begin_date, end_date, user_ids=None, columns=None):\n",
    "    if begin_date:\n",
    "        df = df[df['date'] >= begin_date]\n",
    "    if end_date:\n",
    "        df = df[df['date'] < end_date]\n",
    "    if user_ids:\n",
    "        df = df[df['user_id'].isin(user_ids)]\n",
    "    if columns:\n",
    "        df = df[columns]\n",
    "    return df.copy()\n",
    "\n",
    "\n",
    "def get_response_time(df_web_logs, begin_date, end_date):\n",
    "    return (\n",
    "        get_data_subset(df_web_logs, begin_date, end_date, None, ['user_id', 'load_time'])\n",
    "        .rename(columns={'load_time': 'metric'})\n",
    "        [['user_id', 'metric']]\n",
    "    )\n",
    "\n",
    "\n",
    "def get_revenue_web(df_sales, df_web_logs, begin_date, end_date):\n",
    "    df_users = (\n",
    "        get_data_subset(df_web_logs, begin_date, end_date, None, ['user_id'])\n",
    "        .drop_duplicates()\n",
    "    )\n",
    "    df = (\n",
    "        get_data_subset(df_sales, begin_date, end_date, None, ['user_id', 'price'])\n",
    "        .groupby('user_id')[['price']].sum().reset_index() \n",
    "        .rename(columns={'price': 'metric'})\n",
    "    )\n",
    "    df = pd.merge(df_users, df, on='user_id', how='left').fillna(0)\n",
    "    return df[['user_id', 'metric']]\n",
    "\n",
    "\n",
    "def get_revenue_all(df_sales, df_web_logs, begin_date, end_date):\n",
    "    df_users = (\n",
    "        get_data_subset(df_web_logs, None, end_date, None, ['user_id'])\n",
    "        .drop_duplicates()\n",
    "    )\n",
    "    df = (\n",
    "        get_data_subset(df_sales, begin_date, end_date, None, ['user_id', 'price'])\n",
    "        .groupby('user_id')[['price']].sum().reset_index() \n",
    "        .rename(columns={'price': 'metric'})\n",
    "    )\n",
    "    df = pd.merge(df_users, df, on='user_id', how='left').fillna(0)\n",
    "    return df[['user_id', 'metric']]\n"
   ]
  },
  {
   "cell_type": "code",
   "execution_count": null,
   "id": "002e11b1-d867-4e41-b49a-51d6115ee752",
   "metadata": {},
   "outputs": [],
   "source": []
  }
 ],
 "metadata": {
  "kernelspec": {
   "display_name": "Python 3 (ipykernel)",
   "language": "python",
   "name": "python3"
  },
  "language_info": {
   "codemirror_mode": {
    "name": "ipython",
    "version": 3
   },
   "file_extension": ".py",
   "mimetype": "text/x-python",
   "name": "python",
   "nbconvert_exporter": "python",
   "pygments_lexer": "ipython3",
   "version": "3.8.10"
  }
 },
 "nbformat": 4,
 "nbformat_minor": 5
}
