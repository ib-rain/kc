{
 "cells": [
  {
   "cell_type": "code",
   "execution_count": 1,
   "id": "76e48c7c-c461-4fd1-8ebb-d20f99d2813c",
   "metadata": {},
   "outputs": [],
   "source": [
    "from _shared import *"
   ]
  },
  {
   "cell_type": "markdown",
   "id": "7d8a9482-f1e6-4136-9fea-dc5eccecbd3f",
   "metadata": {},
   "source": [
    "## Задача 1. Конструирование метрики"
   ]
  },
  {
   "cell_type": "markdown",
   "id": "54dc34a3-8a29-474d-af5d-69274c1cd67a",
   "metadata": {},
   "source": [
    "Допустим, есть следующие данные о покупках в онлайн-магазине: стоимость (R), себестоимость (C) и факт обращения в поддержку (S). За каждое обращение в поддержку в среднем тратим 110 рублей на оплату работы оператора и компенсацию неудобств покупателям. Хотим максимизировать прибыль. Какую метрику лучше выбрать?\n",
    "\n",
    "В вариантах ниже приведены формулы, по которым будем вычислять значение для каждой покупки и затем использовать для проверки гипотезы о равенстве средних. Значения переменных R, C и S неотрицательные. S равно 0, если обращения в поддержку не было, иначе равно 1."
   ]
  },
  {
   "cell_type": "code",
   "execution_count": 4,
   "id": "1c161e16-f478-4eb5-b315-65355b8d06d4",
   "metadata": {},
   "outputs": [],
   "source": [
    "answer = 'M = R - С - 110 * S'"
   ]
  },
  {
   "cell_type": "markdown",
   "id": "178c1134-5958-432e-bace-6677cee72c64",
   "metadata": {},
   "source": [
    "## Задача 2. Функция вычисления метрики"
   ]
  },
  {
   "cell_type": "code",
   "execution_count": 5,
   "id": "fa6a6543-8392-44e0-825a-c3777806390f",
   "metadata": {},
   "outputs": [],
   "source": [
    "\"\"\"\n",
    "Напишите функцию get_metric, которая вычисляет значения метрики из предыдущего задания.\n",
    "\n",
    "Шаблон решения\n",
    "\"\"\"\n",
    "\n",
    "import pandas as pd\n",
    "\n",
    "\n",
    "def get_metric(df, support_cost):\n",
    "    \"\"\"Вычисляет значения метрики.\n",
    "\n",
    "    :param df (pd.DataFrame): таблица с данными о заказах со столбцами:\n",
    "        - revenue - выручка\n",
    "        - cost_price - себестоимость\n",
    "        - support - обращение в поддержку\n",
    "    :param support_cost (float): средняя стоимость одного обращения в поддержку\n",
    "    :return (pd.Series): значения метрики\n",
    "    \"\"\"\n",
    "    return df['revenue'] - df['cost_price'] - support_cost * df['support']"
   ]
  },
  {
   "cell_type": "code",
   "execution_count": 6,
   "id": "6145d261-a6f1-48a4-a253-51847322b34e",
   "metadata": {},
   "outputs": [
    {
     "data": {
      "text/plain": [
       "0     90\n",
       "1    600\n",
       "2    500\n",
       "dtype: int64"
      ]
     },
     "execution_count": 6,
     "metadata": {},
     "output_type": "execute_result"
    }
   ],
   "source": [
    "df = pd.DataFrame({\n",
    "    'revenue': [1500, 1800, 2100],\n",
    "    'cost_price': [1300, 1200, 1600],\n",
    "    'support': [1, 0, 0],\n",
    "})\n",
    "support_cost = 110\n",
    "metric = get_metric(df, support_cost)\n",
    "# metric = pd.Series([90, 600, 500])\n",
    "metric"
   ]
  },
  {
   "cell_type": "code",
   "execution_count": 7,
   "id": "76d12986-3e5f-4478-9c1d-1a186ec7e52f",
   "metadata": {},
   "outputs": [],
   "source": [
    "# Solution (is the same)\n",
    "def get_metric(df, support_cost):\n",
    "    return df['revenue'] - df['cost_price'] - support_cost * df['support']"
   ]
  },
  {
   "cell_type": "markdown",
   "id": "eae37d87-fbbc-4826-b38b-44c91254f752",
   "metadata": {},
   "source": [
    "## Задача 3. Пороговое значение"
   ]
  },
  {
   "cell_type": "markdown",
   "id": "24127393-06b1-4e12-acf7-0136f7b0f81f",
   "metadata": {},
   "source": [
    "Определите пороговое значении стоимости обращения в поддержку, при небольшом отклонение от которого меняется результат проверки гипотезы. Другими словами нужно найти значение, при котором p-value совпадает с уровнем значимости и среднее в экспериментальной группе больше, чем в контрольной.\n",
    "\n",
    "Проверяем гипотезу о равенстве средних для метрики, которую вычисляли в предыдущем задании. В качестве критерия используем тест Стьюдента. Уровень значимости равен 0.05.\n",
    "\n",
    "Ответ округлите до целого значения.\n",
    "\n",
    "Код для генерации данных эксперимента"
   ]
  },
  {
   "cell_type": "code",
   "execution_count": 8,
   "id": "0701c297-677f-40ca-93d7-835c8870a8bf",
   "metadata": {},
   "outputs": [],
   "source": [
    "import numpy as np\n",
    "import pandas as pd\n",
    "\n",
    "sample_size = 1000\n",
    "\n",
    "df_control = pd.DataFrame({\n",
    "    'revenue': [int(np.sin(x / 12) * 600 + 1200) for x in range(sample_size)],\n",
    "    'cost_price': [int(np.sin(x / 12) * 400 + 700) for x in range(sample_size)],\n",
    "    'support': (np.arange(sample_size) < sample_size - 400).astype(int),\n",
    "})\n",
    "df_pilot = pd.DataFrame({\n",
    "    'revenue': [int(np.sin(x / 11 + 1) * 650 + 1250) for x in range(sample_size)],\n",
    "    'cost_price': [int(np.sin(x / 11 + 1) * 400 + 700) for x in range(sample_size)],\n",
    "    'support': (np.arange(sample_size) < sample_size - 300).astype(int),\n",
    "})"
   ]
  },
  {
   "cell_type": "code",
   "execution_count": null,
   "id": "572ac5ce-42c3-4b92-b77d-edd16cead159",
   "metadata": {},
   "outputs": [],
   "source": []
  }
 ],
 "metadata": {
  "kernelspec": {
   "display_name": "Python 3 (ipykernel)",
   "language": "python",
   "name": "python3"
  },
  "language_info": {
   "codemirror_mode": {
    "name": "ipython",
    "version": 3
   },
   "file_extension": ".py",
   "mimetype": "text/x-python",
   "name": "python",
   "nbconvert_exporter": "python",
   "pygments_lexer": "ipython3",
   "version": "3.8.10"
  }
 },
 "nbformat": 4,
 "nbformat_minor": 5
}
