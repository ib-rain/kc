{
 "cells": [
  {
   "cell_type": "code",
   "execution_count": 1,
   "id": "76e48c7c-c461-4fd1-8ebb-d20f99d2813c",
   "metadata": {},
   "outputs": [],
   "source": [
    "from _shared import *"
   ]
  },
  {
   "cell_type": "markdown",
   "id": "7d8a9482-f1e6-4136-9fea-dc5eccecbd3f",
   "metadata": {},
   "source": [
    "## Задача 1. Конструирование метрики"
   ]
  },
  {
   "cell_type": "markdown",
   "id": "54dc34a3-8a29-474d-af5d-69274c1cd67a",
   "metadata": {},
   "source": [
    "Допустим, есть следующие данные о покупках в онлайн-магазине: стоимость (R), себестоимость (C) и факт обращения в поддержку (S). За каждое обращение в поддержку в среднем тратим 110 рублей на оплату работы оператора и компенсацию неудобств покупателям. Хотим максимизировать прибыль. Какую метрику лучше выбрать?\n",
    "\n",
    "В вариантах ниже приведены формулы, по которым будем вычислять значение для каждой покупки и затем использовать для проверки гипотезы о равенстве средних. Значения переменных R, C и S неотрицательные. S равно 0, если обращения в поддержку не было, иначе равно 1."
   ]
  },
  {
   "cell_type": "code",
   "execution_count": 2,
   "id": "1c161e16-f478-4eb5-b315-65355b8d06d4",
   "metadata": {},
   "outputs": [],
   "source": [
    "answer = 'M = R - С - 110 * S'"
   ]
  },
  {
   "cell_type": "markdown",
   "id": "178c1134-5958-432e-bace-6677cee72c64",
   "metadata": {},
   "source": [
    "## Задача 2. Функция вычисления метрики"
   ]
  },
  {
   "cell_type": "code",
   "execution_count": 3,
   "id": "fa6a6543-8392-44e0-825a-c3777806390f",
   "metadata": {},
   "outputs": [],
   "source": [
    "\"\"\"\n",
    "Напишите функцию get_metric, которая вычисляет значения метрики из предыдущего задания.\n",
    "\n",
    "Шаблон решения\n",
    "\"\"\"\n",
    "\n",
    "import pandas as pd\n",
    "\n",
    "\n",
    "def get_metric(df, support_cost):\n",
    "    \"\"\"Вычисляет значения метрики.\n",
    "\n",
    "    :param df (pd.DataFrame): таблица с данными о заказах со столбцами:\n",
    "        - revenue - выручка\n",
    "        - cost_price - себестоимость\n",
    "        - support - обращение в поддержку\n",
    "    :param support_cost (float): средняя стоимость одного обращения в поддержку\n",
    "    :return (pd.Series): значения метрики\n",
    "    \"\"\"\n",
    "    return df['revenue'] - df['cost_price'] - support_cost * df['support']"
   ]
  },
  {
   "cell_type": "code",
   "execution_count": 4,
   "id": "6145d261-a6f1-48a4-a253-51847322b34e",
   "metadata": {},
   "outputs": [
    {
     "data": {
      "text/plain": [
       "0     90\n",
       "1    600\n",
       "2    500\n",
       "dtype: int64"
      ]
     },
     "execution_count": 4,
     "metadata": {},
     "output_type": "execute_result"
    }
   ],
   "source": [
    "df = pd.DataFrame({\n",
    "    'revenue': [1500, 1800, 2100],\n",
    "    'cost_price': [1300, 1200, 1600],\n",
    "    'support': [1, 0, 0],\n",
    "})\n",
    "support_cost = 110\n",
    "metric = get_metric(df, support_cost)\n",
    "# metric = pd.Series([90, 600, 500])\n",
    "metric"
   ]
  },
  {
   "cell_type": "code",
   "execution_count": 5,
   "id": "76d12986-3e5f-4478-9c1d-1a186ec7e52f",
   "metadata": {},
   "outputs": [],
   "source": [
    "# Solution (is the same)\n",
    "def get_metric(df, support_cost):\n",
    "    return df['revenue'] - df['cost_price'] - support_cost * df['support']"
   ]
  },
  {
   "cell_type": "markdown",
   "id": "eae37d87-fbbc-4826-b38b-44c91254f752",
   "metadata": {},
   "source": [
    "## Задача 3. Пороговое значение"
   ]
  },
  {
   "cell_type": "markdown",
   "id": "24127393-06b1-4e12-acf7-0136f7b0f81f",
   "metadata": {},
   "source": [
    "Определите пороговое значении стоимости обращения в поддержку, при небольшом отклонение от которого меняется результат проверки гипотезы. Другими словами нужно найти значение, при котором p-value совпадает с уровнем значимости и среднее в экспериментальной группе больше, чем в контрольной.\n",
    "\n",
    "Проверяем гипотезу о равенстве средних для метрики, которую вычисляли в предыдущем задании. В качестве критерия используем тест Стьюдента. Уровень значимости равен 0.05.\n",
    "\n",
    "Ответ округлите до целого значения.\n",
    "\n",
    "Код для генерации данных эксперимента"
   ]
  },
  {
   "cell_type": "code",
   "execution_count": 6,
   "id": "0701c297-677f-40ca-93d7-835c8870a8bf",
   "metadata": {},
   "outputs": [],
   "source": [
    "import numpy as np\n",
    "import pandas as pd\n",
    "\n",
    "alpha = 0.05\n",
    "sample_size = 1000\n",
    "\n",
    "df_control = pd.DataFrame({\n",
    "    'revenue': [int(np.sin(x / 12) * 600 + 1200) for x in range(sample_size)],\n",
    "    'cost_price': [int(np.sin(x / 12) * 400 + 700) for x in range(sample_size)],\n",
    "    'support': (np.arange(sample_size) < sample_size - 400).astype(int),\n",
    "})\n",
    "df_pilot = pd.DataFrame({\n",
    "    'revenue': [int(np.sin(x / 11 + 1) * 650 + 1250) for x in range(sample_size)],\n",
    "    'cost_price': [int(np.sin(x / 11 + 1) * 400 + 700) for x in range(sample_size)],\n",
    "    'support': (np.arange(sample_size) < sample_size - 300).astype(int),\n",
    "})"
   ]
  },
  {
   "cell_type": "code",
   "execution_count": 7,
   "id": "2cf579a0-862d-4b33-be83-00900177d44f",
   "metadata": {},
   "outputs": [
    {
     "data": {
      "text/html": [
       "<div>\n",
       "<style scoped>\n",
       "    .dataframe tbody tr th:only-of-type {\n",
       "        vertical-align: middle;\n",
       "    }\n",
       "\n",
       "    .dataframe tbody tr th {\n",
       "        vertical-align: top;\n",
       "    }\n",
       "\n",
       "    .dataframe thead th {\n",
       "        text-align: right;\n",
       "    }\n",
       "</style>\n",
       "<table border=\"1\" class=\"dataframe\">\n",
       "  <thead>\n",
       "    <tr style=\"text-align: right;\">\n",
       "      <th></th>\n",
       "      <th>support_cost</th>\n",
       "      <th>mean_control</th>\n",
       "      <th>mean_pilot</th>\n",
       "      <th>p_val</th>\n",
       "    </tr>\n",
       "  </thead>\n",
       "  <tbody>\n",
       "    <tr>\n",
       "      <th>0</th>\n",
       "      <td>0</td>\n",
       "      <td>502.482</td>\n",
       "      <td>553.571</td>\n",
       "      <td>1.352363e-12</td>\n",
       "    </tr>\n",
       "    <tr>\n",
       "      <th>1</th>\n",
       "      <td>1</td>\n",
       "      <td>501.882</td>\n",
       "      <td>552.871</td>\n",
       "      <td>1.495924e-12</td>\n",
       "    </tr>\n",
       "    <tr>\n",
       "      <th>2</th>\n",
       "      <td>2</td>\n",
       "      <td>501.282</td>\n",
       "      <td>552.171</td>\n",
       "      <td>1.655137e-12</td>\n",
       "    </tr>\n",
       "    <tr>\n",
       "      <th>3</th>\n",
       "      <td>3</td>\n",
       "      <td>500.682</td>\n",
       "      <td>551.471</td>\n",
       "      <td>1.831740e-12</td>\n",
       "    </tr>\n",
       "    <tr>\n",
       "      <th>4</th>\n",
       "      <td>4</td>\n",
       "      <td>500.082</td>\n",
       "      <td>550.771</td>\n",
       "      <td>2.027670e-12</td>\n",
       "    </tr>\n",
       "  </tbody>\n",
       "</table>\n",
       "</div>"
      ],
      "text/plain": [
       "   support_cost  mean_control  mean_pilot         p_val\n",
       "0             0       502.482     553.571  1.352363e-12\n",
       "1             1       501.882     552.871  1.495924e-12\n",
       "2             2       501.282     552.171  1.655137e-12\n",
       "3             3       500.682     551.471  1.831740e-12\n",
       "4             4       500.082     550.771  2.027670e-12"
      ]
     },
     "execution_count": 7,
     "metadata": {},
     "output_type": "execute_result"
    }
   ],
   "source": [
    "res = []\n",
    "\n",
    "for sc in [x for x in range(0, 1100, 1)]:\n",
    "    control_values = get_metric(df_control, sc)\n",
    "    pilot_values = get_metric(df_pilot, sc)\n",
    "    \n",
    "    res.append((\n",
    "        sc,\n",
    "        control_values.mean(),\n",
    "        pilot_values.mean(),\n",
    "        stats.ttest_ind(control_values, pilot_values).pvalue\n",
    "    ))\n",
    "\n",
    "df_res = pd.DataFrame(res, columns=['support_cost', 'mean_control', 'mean_pilot', 'p_val'])\n",
    "df_res.head()"
   ]
  },
  {
   "cell_type": "code",
   "execution_count": 8,
   "id": "99706e2a-4f82-4121-84c9-954669f8072b",
   "metadata": {},
   "outputs": [
    {
     "data": {
      "text/html": [
       "<div>\n",
       "<style scoped>\n",
       "    .dataframe tbody tr th:only-of-type {\n",
       "        vertical-align: middle;\n",
       "    }\n",
       "\n",
       "    .dataframe tbody tr th {\n",
       "        vertical-align: top;\n",
       "    }\n",
       "\n",
       "    .dataframe thead th {\n",
       "        text-align: right;\n",
       "    }\n",
       "</style>\n",
       "<table border=\"1\" class=\"dataframe\">\n",
       "  <thead>\n",
       "    <tr style=\"text-align: right;\">\n",
       "      <th></th>\n",
       "      <th>support_cost</th>\n",
       "      <th>mean_control</th>\n",
       "      <th>mean_pilot</th>\n",
       "      <th>p_val</th>\n",
       "      <th>mean_diff</th>\n",
       "      <th>is_significant</th>\n",
       "    </tr>\n",
       "  </thead>\n",
       "  <tbody>\n",
       "    <tr>\n",
       "      <th>0</th>\n",
       "      <td>0</td>\n",
       "      <td>502.482</td>\n",
       "      <td>553.571</td>\n",
       "      <td>1.352363e-12</td>\n",
       "      <td>51.089</td>\n",
       "      <td>True</td>\n",
       "    </tr>\n",
       "    <tr>\n",
       "      <th>1</th>\n",
       "      <td>1</td>\n",
       "      <td>501.882</td>\n",
       "      <td>552.871</td>\n",
       "      <td>1.495924e-12</td>\n",
       "      <td>50.989</td>\n",
       "      <td>True</td>\n",
       "    </tr>\n",
       "    <tr>\n",
       "      <th>2</th>\n",
       "      <td>2</td>\n",
       "      <td>501.282</td>\n",
       "      <td>552.171</td>\n",
       "      <td>1.655137e-12</td>\n",
       "      <td>50.889</td>\n",
       "      <td>True</td>\n",
       "    </tr>\n",
       "    <tr>\n",
       "      <th>3</th>\n",
       "      <td>3</td>\n",
       "      <td>500.682</td>\n",
       "      <td>551.471</td>\n",
       "      <td>1.831740e-12</td>\n",
       "      <td>50.789</td>\n",
       "      <td>True</td>\n",
       "    </tr>\n",
       "    <tr>\n",
       "      <th>4</th>\n",
       "      <td>4</td>\n",
       "      <td>500.082</td>\n",
       "      <td>550.771</td>\n",
       "      <td>2.027670e-12</td>\n",
       "      <td>50.689</td>\n",
       "      <td>True</td>\n",
       "    </tr>\n",
       "  </tbody>\n",
       "</table>\n",
       "</div>"
      ],
      "text/plain": [
       "   support_cost  mean_control  mean_pilot         p_val  mean_diff  \\\n",
       "0             0       502.482     553.571  1.352363e-12     51.089   \n",
       "1             1       501.882     552.871  1.495924e-12     50.989   \n",
       "2             2       501.282     552.171  1.655137e-12     50.889   \n",
       "3             3       500.682     551.471  1.831740e-12     50.789   \n",
       "4             4       500.082     550.771  2.027670e-12     50.689   \n",
       "\n",
       "   is_significant  \n",
       "0            True  \n",
       "1            True  \n",
       "2            True  \n",
       "3            True  \n",
       "4            True  "
      ]
     },
     "execution_count": 8,
     "metadata": {},
     "output_type": "execute_result"
    }
   ],
   "source": [
    "df_res['mean_diff'] = df_res['mean_pilot'] - df_res['mean_control']\n",
    "df_res['is_significant'] = df_res['p_val'] < alpha\n",
    "\n",
    "df_res.head()"
   ]
  },
  {
   "cell_type": "code",
   "execution_count": 9,
   "id": "7634bc1c-d1f6-4233-a012-2f88290b1667",
   "metadata": {},
   "outputs": [
    {
     "data": {
      "text/plain": [
       "317"
      ]
     },
     "execution_count": 9,
     "metadata": {},
     "output_type": "execute_result"
    }
   ],
   "source": [
    "threshold = (\n",
    "    df_res\n",
    "    .groupby('is_significant')['support_cost']\n",
    "    .min()\n",
    "    .loc[False] - 1\n",
    ")\n",
    "\n",
    "threshold"
   ]
  },
  {
   "cell_type": "code",
   "execution_count": 10,
   "id": "447f35cf-7ec6-4145-8d4b-c182ed6b6656",
   "metadata": {},
   "outputs": [
    {
     "data": {
      "text/html": [
       "<div>\n",
       "<style scoped>\n",
       "    .dataframe tbody tr th:only-of-type {\n",
       "        vertical-align: middle;\n",
       "    }\n",
       "\n",
       "    .dataframe tbody tr th {\n",
       "        vertical-align: top;\n",
       "    }\n",
       "\n",
       "    .dataframe thead th {\n",
       "        text-align: right;\n",
       "    }\n",
       "</style>\n",
       "<table border=\"1\" class=\"dataframe\">\n",
       "  <thead>\n",
       "    <tr style=\"text-align: right;\">\n",
       "      <th></th>\n",
       "      <th>support_cost</th>\n",
       "      <th>mean_control</th>\n",
       "      <th>mean_pilot</th>\n",
       "      <th>p_val</th>\n",
       "      <th>mean_diff</th>\n",
       "      <th>is_significant</th>\n",
       "    </tr>\n",
       "  </thead>\n",
       "  <tbody>\n",
       "    <tr>\n",
       "      <th>316</th>\n",
       "      <td>316</td>\n",
       "      <td>312.882</td>\n",
       "      <td>332.371</td>\n",
       "      <td>0.048424</td>\n",
       "      <td>19.489</td>\n",
       "      <td>True</td>\n",
       "    </tr>\n",
       "    <tr>\n",
       "      <th>317</th>\n",
       "      <td>317</td>\n",
       "      <td>312.282</td>\n",
       "      <td>331.671</td>\n",
       "      <td>0.049924</td>\n",
       "      <td>19.389</td>\n",
       "      <td>True</td>\n",
       "    </tr>\n",
       "    <tr>\n",
       "      <th>318</th>\n",
       "      <td>318</td>\n",
       "      <td>311.682</td>\n",
       "      <td>330.971</td>\n",
       "      <td>0.051459</td>\n",
       "      <td>19.289</td>\n",
       "      <td>False</td>\n",
       "    </tr>\n",
       "    <tr>\n",
       "      <th>319</th>\n",
       "      <td>319</td>\n",
       "      <td>311.082</td>\n",
       "      <td>330.271</td>\n",
       "      <td>0.053030</td>\n",
       "      <td>19.189</td>\n",
       "      <td>False</td>\n",
       "    </tr>\n",
       "  </tbody>\n",
       "</table>\n",
       "</div>"
      ],
      "text/plain": [
       "     support_cost  mean_control  mean_pilot     p_val  mean_diff  \\\n",
       "316           316       312.882     332.371  0.048424     19.489   \n",
       "317           317       312.282     331.671  0.049924     19.389   \n",
       "318           318       311.682     330.971  0.051459     19.289   \n",
       "319           319       311.082     330.271  0.053030     19.189   \n",
       "\n",
       "     is_significant  \n",
       "316            True  \n",
       "317            True  \n",
       "318           False  \n",
       "319           False  "
      ]
     },
     "execution_count": 10,
     "metadata": {},
     "output_type": "execute_result"
    }
   ],
   "source": [
    "df_res.iloc[316:320, :]"
   ]
  },
  {
   "cell_type": "code",
   "execution_count": 11,
   "id": "2f4e0864-4b1b-4fff-bafe-e34998038fa3",
   "metadata": {},
   "outputs": [
    {
     "name": "stdout",
     "output_type": "stream",
     "text": [
      "support_cost=316 delta=19.5, pvalue=0.0484\n",
      "support_cost=317 delta=19.4, pvalue=0.0499\n",
      "support_cost=318 delta=19.3, pvalue=0.0515\n"
     ]
    }
   ],
   "source": [
    "#Solution\n",
    "def get_metric(df, support_cost):\n",
    "    return df['revenue'] - df['cost_price'] - support_cost * df['support']\n",
    "\n",
    "for support_cost in range(316, 319):\n",
    "    control_metric = get_metric(df_control, support_cost)\n",
    "    pilot_metric = get_metric(df_pilot, support_cost)\n",
    "    delta = pilot_metric.mean() - control_metric.mean()\n",
    "    pvalue = stats.ttest_ind(control_metric, pilot_metric).pvalue\n",
    "    print(f'support_cost={support_cost} delta={delta:0.1f}, pvalue={pvalue:0.4f}')\n",
    "\n",
    "# support_cost=316 delta=19.5, pvalue=0.0484\n",
    "# support_cost=317 delta=19.4, pvalue=0.0499\n",
    "# support_cost=318 delta=19.3, pvalue=0.0515"
   ]
  },
  {
   "cell_type": "code",
   "execution_count": null,
   "id": "97948ef3-780d-457b-b143-804ad246dce1",
   "metadata": {},
   "outputs": [],
   "source": []
  }
 ],
 "metadata": {
  "kernelspec": {
   "display_name": "Python 3 (ipykernel)",
   "language": "python",
   "name": "python3"
  },
  "language_info": {
   "codemirror_mode": {
    "name": "ipython",
    "version": 3
   },
   "file_extension": ".py",
   "mimetype": "text/x-python",
   "name": "python",
   "nbconvert_exporter": "python",
   "pygments_lexer": "ipython3",
   "version": "3.8.10"
  }
 },
 "nbformat": 4,
 "nbformat_minor": 5
}
