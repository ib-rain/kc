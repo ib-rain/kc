{
 "cells": [
  {
   "cell_type": "code",
   "execution_count": 1,
   "metadata": {
    "executionInfo": {
     "elapsed": 2393,
     "status": "ok",
     "timestamp": 1674542535189,
     "user": {
      "displayName": "Nikolay Nazarov",
      "userId": "18018785782997408667"
     },
     "user_tz": -420
    },
    "id": "PCSSMo4AL3Xu"
   },
   "outputs": [],
   "source": [
    "import time\n",
    "\n",
    "import numpy as np\n",
    "import pandas as pd\n",
    "import matplotlib.pyplot as plt\n",
    "import scipy.stats as stats\n",
    "from scipy.stats import norm, ttest_ind\n",
    "from datetime import datetime\n",
    "import seaborn as sns\n",
    "\n",
    "# import ipywidgets as widgets\n",
    "import os\n",
    "\n",
    "# from tqdm.notebook import tqdm"
   ]
  },
  {
   "cell_type": "code",
   "execution_count": 2,
   "metadata": {
    "executionInfo": {
     "elapsed": 27,
     "status": "ok",
     "timestamp": 1674542535192,
     "user": {
      "displayName": "Nikolay Nazarov",
      "userId": "18018785782997408667"
     },
     "user_tz": -420
    },
    "id": "ngPVTbkRMFfl"
   },
   "outputs": [],
   "source": [
    "titlesize = 16\n",
    "labelsize = 16\n",
    "legendsize = 16\n",
    "xticksize = 16\n",
    "yticksize = xticksize\n",
    "\n",
    "plt.rcParams['legend.markerscale'] = 1.5     # the relative size of legend markers vs. original\n",
    "plt.rcParams['legend.handletextpad'] = 0.5\n",
    "plt.rcParams['legend.labelspacing'] = 0.4    # the vertical space between the legend entries in fraction of fontsize\n",
    "plt.rcParams['legend.borderpad'] = 0.5       # border whitespace in fontsize units\n",
    "plt.rcParams['font.size'] = 12\n",
    "plt.rcParams['font.serif'] = 'Times New Roman'\n",
    "plt.rcParams['axes.labelsize'] = labelsize\n",
    "plt.rcParams['axes.titlesize'] = titlesize\n",
    "plt.rcParams['figure.figsize'] = (10, 6)\n",
    "\n",
    "plt.rc('xtick', labelsize=xticksize)\n",
    "plt.rc('ytick', labelsize=yticksize)\n",
    "plt.rc('legend', fontsize=legendsize)"
   ]
  },
  {
   "cell_type": "markdown",
   "metadata": {
    "id": "6agG76oLBRDL"
   },
   "source": [
    "# 1. Размер выборки (sample size)"
   ]
  },
  {
   "cell_type": "markdown",
   "metadata": {
    "id": "Lu9rdrAhjBLM"
   },
   "source": [
    "Напишем функцию для оценки размера выборки. Проверим на искусственных данных, что она работает корректно.\n",
    "\n",
    "$$n > \\dfrac{\\left[ \\Phi^{-1} \\Bigl( 1-\\dfrac{\\alpha}{2} \\Bigr) + \\Phi^{-1} \\Bigl( 1-\\beta \\Bigr) \\right]^2 (\\sigma_X^2 + \\sigma_Y^2)}{\\varepsilon^2}$$\n",
    "\n",
    "Реализуем эту формулу для случая равных дисперсий:"
   ]
  },
  {
   "cell_type": "code",
   "execution_count": 3,
   "metadata": {
    "executionInfo": {
     "elapsed": 25,
     "status": "ok",
     "timestamp": 1674542535193,
     "user": {
      "displayName": "Nikolay Nazarov",
      "userId": "18018785782997408667"
     },
     "user_tz": -420
    },
    "id": "B4TKdg-njj4V"
   },
   "outputs": [],
   "source": [
    "def get_sample_size_abs(epsilon, std, alpha=0.05, beta=0.2):\n",
    "    t_alpha = norm.ppf(1 - alpha / 2, loc=0, scale=1)\n",
    "    t_beta = norm.ppf(1 - beta, loc=0, scale=1)\n",
    "    z_scores_sum_squared = (t_alpha + t_beta) ** 2\n",
    "    sample_size = int(\n",
    "        np.ceil(\n",
    "            z_scores_sum_squared * (2 * std ** 2) / (epsilon ** 2)\n",
    "        )\n",
    "    )\n",
    "    return sample_size\n",
    "\n",
    "def get_sample_size_arb(mu, std, eff=1.01, alpha=0.05, beta=0.2):\n",
    "    epsilon = (eff - 1) * mu\n",
    "\n",
    "    return get_sample_size_abs(epsilon, std=std, alpha=alpha, beta=beta)"
   ]
  },
  {
   "cell_type": "markdown",
   "metadata": {
    "id": "XGdJDga1uFy5"
   },
   "source": [
    "# 2. MDE"
   ]
  },
  {
   "cell_type": "markdown",
   "metadata": {
    "id": "gAECc00JuFy5"
   },
   "source": [
    "Напишем функцию для оценки размера выборки:\n",
    "\n",
    "$$\\varepsilon > \\frac{\\left[ \\Phi^{-1} \\left( 1-\\dfrac{\\alpha}{2} \\right) + \\Phi^{-1} \\left( 1-\\beta \\right) \\right] \\sqrt{ \\sigma_X^2 + \\sigma_Y^2 }}{\\sqrt{n}}$$\n",
    "\n",
    "Реализуем эту формулу для случая равных дисперсий:"
   ]
  },
  {
   "cell_type": "code",
   "execution_count": 4,
   "metadata": {
    "executionInfo": {
     "elapsed": 25,
     "status": "ok",
     "timestamp": 1674542535194,
     "user": {
      "displayName": "Nikolay Nazarov",
      "userId": "18018785782997408667"
     },
     "user_tz": -420
    },
    "id": "SL9urihyuFy6"
   },
   "outputs": [],
   "source": [
    "def get_minimal_determinable_effect(std, sample_size, alpha=0.05, beta=0.2):\n",
    "    t_alpha = norm.ppf(1 - alpha / 2, loc=0, scale=1)\n",
    "    t_beta = norm.ppf(1 - beta, loc=0, scale=1)\n",
    "    disp_sum_sqrt = (2 * (std ** 2)) ** 0.5\n",
    "    mde = (t_alpha + t_beta) * disp_sum_sqrt / np.sqrt(sample_size)\n",
    "    return mde"
   ]
  },
  {
   "cell_type": "markdown",
   "metadata": {
    "id": "z74D9-M4RyjD"
   },
   "source": [
    "## 3. Цена ошибки\n",
    "$\\mu$ и $std$ мы можем оценить по историческим данным, $\\alpha$ и $\\beta$ — определяем сами допустимые для нас ошибки. Как определить ожидаемый эффект, к чему могут привести завышенные ожидания?\n",
    "\n",
    "Смоделируем ситуации, когда ожидаемый и реальный эффект не совпадают, посмотрим, как будет меняться ошибка второго рода."
   ]
  },
  {
   "cell_type": "code",
   "execution_count": 5,
   "metadata": {
    "executionInfo": {
     "elapsed": 28,
     "status": "ok",
     "timestamp": 1674542535199,
     "user": {
      "displayName": "Nikolay Nazarov",
      "userId": "18018785782997408667"
     },
     "user_tz": -420
    },
    "id": "7XDNuU4IuFy7"
   },
   "outputs": [],
   "source": [
    "def check_ttest(a, b, alpha=0.05):\n",
    "    \"\"\"Тест Стьюдента. Возвращает 1, если отличия значимы.\"\"\"\n",
    "    _, pvalue = ttest_ind(a, b)\n",
    "    return int(pvalue < alpha)"
   ]
  },
  {
   "cell_type": "code",
   "execution_count": 6,
   "metadata": {
    "colab": {
     "base_uri": "https://localhost:8080/",
     "height": 450
    },
    "executionInfo": {
     "elapsed": 54124,
     "status": "ok",
     "timestamp": 1674542589297,
     "user": {
      "displayName": "Nikolay Nazarov",
      "userId": "18018785782997408667"
     },
     "user_tz": -420
    },
    "id": "T_IJDtTbRyjE",
    "outputId": "2fe4cc7f-d361-49b8-912c-85c018305f9a"
   },
   "outputs": [
    {
     "name": "stdout",
     "output_type": "stream",
     "text": [
      "sample_size = 252\n",
      "\n"
     ]
    },
    {
     "data": {
      "image/png": "[encoded data removed]",
      "text/plain": [
       "<Figure size 720x432 with 1 Axes>"
      ]
     },
     "metadata": {
      "needs_background": "light"
     },
     "output_type": "display_data"
    }
   ],
   "source": [
    "mu = 10\n",
    "std = 2\n",
    "eff = 1.05\n",
    "alpha = 0.05\n",
    "beta = 0.2\n",
    "\n",
    "real_effs = np.linspace(1.01, 1.09, 9)\n",
    "\n",
    "\n",
    "sample_size = get_sample_size_arb(mu, std, eff, alpha, beta)\n",
    "print(f'sample_size = {sample_size}\\n')\n",
    "\n",
    "second_errors = []\n",
    "for real_eff in real_effs:\n",
    "    result_ab = []\n",
    "    for _ in range(10000):\n",
    "        a = np.random.normal(mu, std, sample_size)\n",
    "        b = np.random.normal(mu * real_eff, std, sample_size)\n",
    "        result_ab.append(check_ttest(a, b))\n",
    "    second_errors.append(1 - np.mean(result_ab))\n",
    "\n",
    "\n",
    "\n",
    "plt.plot(real_effs, second_errors)\n",
    "plt.title('Second type error')\n",
    "plt.hlines(0.2, 1.01, 1.09, label='beta')\n",
    "plt.xlabel('real effect')\n",
    "plt.grid()\n",
    "plt.show()"
   ]
  },
  {
   "cell_type": "markdown",
   "metadata": {
    "id": "7PzhuwZ2RyjF"
   },
   "source": [
    "Получаем, что если мы ошиблись в эффекте на 1%, думали будет 5%, а оказалось 4%, то это увеличивает ошибку второго рода в два раза, с 20% до 40%.\n",
    "\n",
    "Если есть возможность, лучше собирать данные с запасом."
   ]
  },
  {
   "cell_type": "markdown",
   "metadata": {
    "id": "27_gjd_HuFy9"
   },
   "source": [
    "# 5. A/A тесты. Распределение $p-value$\n",
    "\n",
    "Давайте напишем вспомогательную функцию. Она будет отрисовывать эмпирическое распределение $p-value$. \n",
    "\n",
    "Ниже мы обсудим, какие условия должны быть выполнены, чтобы считалось, что наш тест корректен."
   ]
  },
  {
   "cell_type": "code",
   "execution_count": 7,
   "metadata": {
    "executionInfo": {
     "elapsed": 11,
     "status": "ok",
     "timestamp": 1674542589298,
     "user": {
      "displayName": "Nikolay Nazarov",
      "userId": "18018785782997408667"
     },
     "user_tz": -420
    },
    "id": "NOuH3rUtuFy9"
   },
   "outputs": [],
   "source": [
    "def plot_pvalue_ecdf(pvalues, title=None):\n",
    "    fig, (ax1, ax2) = plt.subplots(1, 2, figsize=(12, 4))\n",
    "\n",
    "    if title:\n",
    "        plt.suptitle(title)\n",
    "\n",
    "    sns.histplot(pvalues, ax=ax1, bins=20, stat='density')\n",
    "    ax1.plot([0,1],[1,1], 'k--')\n",
    "    ax1.set(xlabel='p-value', ylabel='Density')\n",
    "\n",
    "    sns.ecdfplot(pvalues, ax=ax2)\n",
    "    ax2.plot([0,1],[0,1], 'k--')\n",
    "    ax2.set(xlabel='p-value', ylabel='Probability')\n",
    "    ax2.grid()"
   ]
  },
  {
   "cell_type": "markdown",
   "metadata": {
    "id": "rGT5XF9RuFy9"
   },
   "source": [
    "### Контроль вероятности ошибки I рода\n",
    "\n",
    "Существует теорема, которая гласит, что $p-value$ распределено равномерно от 0 до 1 при условии, что нулевая гипотеза $H_0$ верна. То есть:\n",
    "$$p-value | H_0 \\sim U[0, 1]$$\n",
    "$$F_{p-value | H_0}(x) = \\mathbb{P}(p\\_value < x | H_0) = x$$\n",
    "\n",
    "Равномерность распределения p-value при верности нулевой гипотезы — это необходимое условие корректной работы стат критерия. Мы научились опрелять, контролируется ли вероятность ошибки 1-го рода для заданного дизайна. Чтобы проверить равномерность распределения нужно многократно просимулировать эксперименты без наличия эффекта. Мы должны убедиться, что если мы многократно запускаем А/А тесты, то $p-value$ должно иметь равномерное распределение. "
   ]
  },
  {
   "cell_type": "code",
   "execution_count": 8,
   "metadata": {
    "colab": {
     "base_uri": "https://localhost:8080/",
     "height": 318
    },
    "executionInfo": {
     "elapsed": 1896,
     "status": "ok",
     "timestamp": 1674542591186,
     "user": {
      "displayName": "Nikolay Nazarov",
      "userId": "18018785782997408667"
     },
     "user_tz": -420
    },
    "id": "DpY-zUz6uFy9",
    "outputId": "fb64424e-96e6-455a-9a43-3fcaef296e65"
   },
   "outputs": [
    {
     "data": {
      "image/png": "[encoded data removed]",
      "text/plain": [
       "<Figure size 864x288 with 2 Axes>"
      ]
     },
     "metadata": {
      "needs_background": "light"
     },
     "output_type": "display_data"
    }
   ],
   "source": [
    "mean = 0\n",
    "std = 1\n",
    "sample_size = 100\n",
    "\n",
    "p_values = []\n",
    "for _ in range(1000):\n",
    "    a = np.random.normal(mean, std, sample_size)\n",
    "    b = np.random.normal(mean, std, sample_size)\n",
    "    _, p_val = ttest_ind(a, b)\n",
    "#     p_val = np.random.uniform(0, 1)\n",
    "    p_values.append(p_val)\n",
    "\n",
    "plot_pvalue_ecdf(p_values, 'p-value ECDF. Null hypothesis')"
   ]
  },
  {
   "cell_type": "markdown",
   "metadata": {
    "id": "n_VQTtGzuFy-"
   },
   "source": [
    "Интуитивно это свойство тоже ясно. При отсутствии эффекта мы должны контролировать вероятность ошибки 1-го рода, то есть\n",
    "* на уровне значимости 0.05 мы должны ошибаться в среднем в 5 случаях из 100;\n",
    "* на уровне значимости 0.1 мы должны ошибаться в среднем в 10 случаях из 100;\n",
    "* на уровне значимости 0.2 мы должны ошибаться в среднем в 20 случаях из 100.\n",
    "\n",
    "Это и есть определение равномерной случайной величины $U[0, 1]$.\n",
    "$$F_{U[0, 1]}(x) = x$$\n"
   ]
  },
  {
   "cell_type": "markdown",
   "metadata": {
    "id": "jCu5RyiYlg1y"
   },
   "source": [
    "### Контроль вероятности ошибки 2-го рода\n",
    "\n",
    "Мы научились проверять, контролируется ли вероятность ошибки 1-го рода. Например, если бы статистический тест возвращал случайное число от 0 до 1, то он бы отлично контролировал вероятность ошибки 1-го рода, но смысла в таком тесте нет. Мы переходим к **мощности** теста. \n",
    "\n",
    "Что означает, что мощность теста при заданном MDE равна 0.8? Это означает, что если на самом деле эффект, равный MDE, присутствует, то мы должны в среднем обнаруживать его в 80 случаях из 100. То есть если верна альтернативная гипотеза, то функция распределения $p-value$ должна быть выпуклой и равняться мощности теста на заданном уровне значимости.\n",
    "\n",
    "То есть в нашем примере:\n",
    "$$F_{p-value | H_1}(\\alpha) = \\mathbb{P}(p-value < \\alpha | H_1) = 1 - \\beta$$\n",
    "\n",
    "Чтобы проверить, обладает ли тест заданной мощностью, нужно многократно просимулировать эксперименты без наличия эффекта, к одной из групп добавляя эффект, равный MDE. В этом случае распределие $p-value$ должно быть выпуклым с заданной мощностью. "
   ]
  },
  {
   "cell_type": "code",
   "execution_count": 9,
   "metadata": {
    "colab": {
     "base_uri": "https://localhost:8080/"
    },
    "executionInfo": {
     "elapsed": 35,
     "status": "ok",
     "timestamp": 1674542591188,
     "user": {
      "displayName": "Nikolay Nazarov",
      "userId": "18018785782997408667"
     },
     "user_tz": -420
    },
    "id": "u9Zw02JnYXhQ",
    "outputId": "87e38792-75bc-48ef-de8f-f9e0f6984f3e"
   },
   "outputs": [
    {
     "data": {
      "text/plain": [
       "100"
      ]
     },
     "execution_count": 9,
     "metadata": {},
     "output_type": "execute_result"
    }
   ],
   "source": [
    "sample_size"
   ]
  },
  {
   "cell_type": "code",
   "execution_count": 10,
   "metadata": {
    "colab": {
     "base_uri": "https://localhost:8080/",
     "height": 335
    },
    "executionInfo": {
     "elapsed": 1258,
     "status": "ok",
     "timestamp": 1674542592424,
     "user": {
      "displayName": "Nikolay Nazarov",
      "userId": "18018785782997408667"
     },
     "user_tz": -420
    },
    "id": "PHEO7hzdu9lR",
    "outputId": "2af236ea-b51e-4d10-c6aa-605ec20ae69e"
   },
   "outputs": [
    {
     "name": "stdout",
     "output_type": "stream",
     "text": [
      "mde is 0.396\n"
     ]
    },
    {
     "data": {
      "image/png": "[encoded data removed]",
      "text/plain": [
       "<Figure size 864x288 with 2 Axes>"
      ]
     },
     "metadata": {
      "needs_background": "light"
     },
     "output_type": "display_data"
    }
   ],
   "source": [
    "alpha = 0.05\n",
    "beta = 0.2\n",
    "mde = get_minimal_determinable_effect(std, sample_size, alpha, beta)\n",
    "print(f'mde is {np.round(mde, 3)}')\n",
    "\n",
    "p_values = []\n",
    "for _ in range(1000):\n",
    "    a = np.random.normal(mean, std, sample_size)\n",
    "    b = np.random.normal(mean, std, sample_size) + mde\n",
    "    _, p_val = ttest_ind(a, b)\n",
    "    p_values.append(p_val)\n",
    "\n",
    "plot_pvalue_ecdf(p_values, 'p-value ECDF. Alternative hypothesis')"
   ]
  },
  {
   "cell_type": "markdown",
   "metadata": {
    "id": "qSmqVTF_uFy-"
   },
   "source": [
    "# 6. A/A тесты для зависимых значений"
   ]
  },
  {
   "cell_type": "markdown",
   "metadata": {
    "id": "wYLXcnxNuFy-"
   },
   "source": [
    "Приведем простой пример, когда нулевая гипотеза верна, то есть на самом деле $\\mathbb{E}X = \\mathbb{E}Y$, но $p-value$ распределено не равномерно. То есть условия применимости t-test не выполнены. \n",
    "\n",
    "Для этого, как и в предыдущем примере, многократно сгенерируем две выборки из одного распределения, но продублируем их значения несколько раз."
   ]
  },
  {
   "cell_type": "code",
   "execution_count": 11,
   "metadata": {
    "colab": {
     "base_uri": "https://localhost:8080/",
     "height": 318
    },
    "executionInfo": {
     "elapsed": 23,
     "status": "ok",
     "timestamp": 1674542592427,
     "user": {
      "displayName": "Nikolay Nazarov",
      "userId": "18018785782997408667"
     },
     "user_tz": -420
    },
    "id": "4WGFYVnjuFy-",
    "outputId": "a2764a4f-be53-456d-f255-68337641f17b"
   },
   "outputs": [
    {
     "data": {
      "image/png": "[encoded data removed]",
      "text/plain": [
       "<Figure size 864x288 with 2 Axes>"
      ]
     },
     "metadata": {
      "needs_background": "light"
     },
     "output_type": "display_data"
    }
   ],
   "source": [
    "replication_factor = 3\n",
    "p_values = []\n",
    "for _ in range(1000):\n",
    "    a_ = np.random.normal(mean, std, sample_size)\n",
    "    b_ = np.random.normal(mean, std, sample_size)\n",
    "    a = np.concatenate([a_] * replication_factor)\n",
    "    b = np.concatenate([b_] * replication_factor)\n",
    "\n",
    "    _, p_val = ttest_ind(a, b)\n",
    "    p_values.append(p_val)\n",
    "\n",
    "plot_pvalue_ecdf(p_values, 'p-value ECDF. Dependent data')"
   ]
  },
  {
   "cell_type": "code",
   "execution_count": 12,
   "metadata": {
    "colab": {
     "base_uri": "https://localhost:8080/"
    },
    "executionInfo": {
     "elapsed": 20,
     "status": "ok",
     "timestamp": 1674542592428,
     "user": {
      "displayName": "Nikolay Nazarov",
      "userId": "18018785782997408667"
     },
     "user_tz": -420
    },
    "id": "siuk-XvwpzXc",
    "outputId": "e2033053-7c29-4f50-e2a8-0342ccb163b1"
   },
   "outputs": [
    {
     "data": {
      "text/plain": [
       "0.245"
      ]
     },
     "execution_count": 12,
     "metadata": {},
     "output_type": "execute_result"
    }
   ],
   "source": [
    "(np.array(p_values) < 0.05).mean()"
   ]
  },
  {
   "cell_type": "markdown",
   "metadata": {
    "id": "ekHIrlkBpjTs"
   },
   "source": [
    "Мы видим, что в данном случае вероятность ошибки 1-го рода не контролируется. Это означает, что если бы мы слепо применили t-test, взяли то, что возвращает данная функция (фактически, это уже не $p-value$, а просто какое-то число от 0 до 1), а затем сравнили с уровнем значимости, то при уровне значимости 0.05 вероятность ошибки 1-го рода равнялась бы 0.28 вместо 0.05, то есть в 5.5 раз больше!"
   ]
  },
  {
   "cell_type": "markdown",
   "metadata": {
    "id": "k4K9uI0yuFy_"
   },
   "source": [
    "# Данные пиццерии"
   ]
  },
  {
   "cell_type": "markdown",
   "metadata": {
    "id": "QdudnwiEuFy_"
   },
   "source": [
    "Предположим, мы хотим спроектировать дизайн эксперимента для целевой метрики средний чек:"
   ]
  },
  {
   "cell_type": "code",
   "execution_count": 13,
   "metadata": {
    "executionInfo": {
     "elapsed": 6140,
     "status": "ok",
     "timestamp": 1674542598556,
     "user": {
      "displayName": "Nikolay Nazarov",
      "userId": "18018785782997408667"
     },
     "user_tz": -420
    },
    "id": "DbSWvDeTzrjp"
   },
   "outputs": [],
   "source": [
    "URL_BASE = 'https://raw.githubusercontent.com/ab-courses/simulator-ab-datasets/main/2022-04-01/'\n",
    "\n",
    "def read_database(file_name):\n",
    "    return pd.read_csv(os.path.join(URL_BASE, file_name))\n",
    "\n",
    "web_logs = read_database('2022-04-01T12_df_web_logs.csv')"
   ]
  },
  {
   "cell_type": "code",
   "execution_count": 14,
   "metadata": {
    "colab": {
     "base_uri": "https://localhost:8080/",
     "height": 142
    },
    "executionInfo": {
     "elapsed": 1232,
     "status": "ok",
     "timestamp": 1674542599779,
     "user": {
      "displayName": "Nikolay Nazarov",
      "userId": "18018785782997408667"
     },
     "user_tz": -420
    },
    "id": "SItuLnupuFy_",
    "outputId": "f63ffebd-b52b-4f19-e0bf-589346032d77"
   },
   "outputs": [
    {
     "data": {
      "text/html": [
       "<div>\n",
       "<style scoped>\n",
       "    .dataframe tbody tr th:only-of-type {\n",
       "        vertical-align: middle;\n",
       "    }\n",
       "\n",
       "    .dataframe tbody tr th {\n",
       "        vertical-align: top;\n",
       "    }\n",
       "\n",
       "    .dataframe thead th {\n",
       "        text-align: right;\n",
       "    }\n",
       "</style>\n",
       "<table border=\"1\" class=\"dataframe\">\n",
       "  <thead>\n",
       "    <tr style=\"text-align: right;\">\n",
       "      <th></th>\n",
       "      <th>sale_id</th>\n",
       "      <th>date</th>\n",
       "      <th>count_pizza</th>\n",
       "      <th>count_drink</th>\n",
       "      <th>price</th>\n",
       "      <th>user_id</th>\n",
       "    </tr>\n",
       "  </thead>\n",
       "  <tbody>\n",
       "    <tr>\n",
       "      <th>0</th>\n",
       "      <td>1000001</td>\n",
       "      <td>2022-02-04 10:00:24</td>\n",
       "      <td>1</td>\n",
       "      <td>0</td>\n",
       "      <td>720</td>\n",
       "      <td>1c1543</td>\n",
       "    </tr>\n",
       "    <tr>\n",
       "      <th>1</th>\n",
       "      <td>1000002</td>\n",
       "      <td>2022-02-04 10:02:28</td>\n",
       "      <td>1</td>\n",
       "      <td>1</td>\n",
       "      <td>930</td>\n",
       "      <td>a9a6e8</td>\n",
       "    </tr>\n",
       "    <tr>\n",
       "      <th>2</th>\n",
       "      <td>1000003</td>\n",
       "      <td>2022-02-04 10:02:35</td>\n",
       "      <td>3</td>\n",
       "      <td>1</td>\n",
       "      <td>1980</td>\n",
       "      <td>23420a</td>\n",
       "    </tr>\n",
       "  </tbody>\n",
       "</table>\n",
       "</div>"
      ],
      "text/plain": [
       "   sale_id                date  count_pizza  count_drink  price user_id\n",
       "0  1000001 2022-02-04 10:00:24            1            0    720  1c1543\n",
       "1  1000002 2022-02-04 10:02:28            1            1    930  a9a6e8\n",
       "2  1000003 2022-02-04 10:02:35            3            1   1980  23420a"
      ]
     },
     "execution_count": 14,
     "metadata": {},
     "output_type": "execute_result"
    }
   ],
   "source": [
    "sales = read_database('2022-04-01T12_df_sales.csv')\n",
    "sales['date'] = pd.to_datetime(sales['date'])\n",
    "sales.head(3)"
   ]
  },
  {
   "cell_type": "markdown",
   "metadata": {
    "id": "BeAM8GVDz6ov"
   },
   "source": [
    "sales — таблица с информаций о покупках, одна строка — один заказ. \n",
    "\n",
    "1. sale_id — идентификатор покупки;\n",
    "2. date — дата покупки;\n",
    "3. count_pizza — количество пицц в заказе;\n",
    "4. count_drink — количество напитков в заказе;\n",
    "5. price — стоимость заказа;\n",
    "6. user_id — идентификатор пользователя."
   ]
  },
  {
   "cell_type": "code",
   "execution_count": 15,
   "metadata": {
    "colab": {
     "base_uri": "https://localhost:8080/",
     "height": 430
    },
    "executionInfo": {
     "elapsed": 45,
     "status": "ok",
     "timestamp": 1674542599782,
     "user": {
      "displayName": "Nikolay Nazarov",
      "userId": "18018785782997408667"
     },
     "user_tz": -420
    },
    "id": "tZsIU-B_uFzA",
    "outputId": "c0d532ae-0902-427b-fae6-f9128179ab3f"
   },
   "outputs": [
    {
     "name": "stdout",
     "output_type": "stream",
     "text": [
      "2022-02-04 10:00:24\n",
      "2022-04-01 11:59:51\n",
      "(203847, 6)\n"
     ]
    },
    {
     "data": {
      "image/png": "[encoded data removed]",
      "text/plain": [
       "<Figure size 720x432 with 1 Axes>"
      ]
     },
     "metadata": {
      "needs_background": "light"
     },
     "output_type": "display_data"
    }
   ],
   "source": [
    "print(sales['date'].min())\n",
    "print(sales['date'].max())\n",
    "print(sales.shape)\n",
    "sales['price'].hist(bins=20);"
   ]
  },
  {
   "cell_type": "markdown",
   "metadata": {
    "id": "MqC-oEg_uFzA"
   },
   "source": [
    "Предположим, что мы хотим проводить тест в течение 4х недель.\n",
    "\n",
    "Для этого на историческом промежутке выберем интервал длиной в одну неделю и проведем все расчеты для данного промежутка времени. Отметим, что сегодня 1 апреля, поэтому мы взяли неделю непосредственно перед запуском эксперимента. Данный подход служит неплохой эвристикой."
   ]
  },
  {
   "cell_type": "code",
   "execution_count": 16,
   "metadata": {
    "colab": {
     "base_uri": "https://localhost:8080/"
    },
    "executionInfo": {
     "elapsed": 34,
     "status": "ok",
     "timestamp": 1674542599786,
     "user": {
      "displayName": "Nikolay Nazarov",
      "userId": "18018785782997408667"
     },
     "user_tz": -420
    },
    "id": "lG_JrmjCuFzA",
    "outputId": "f4687bbe-0ebb-4d9e-a94a-a07da0669e68"
   },
   "outputs": [
    {
     "data": {
      "text/plain": [
       "(101951, 6)"
      ]
     },
     "execution_count": 16,
     "metadata": {},
     "output_type": "execute_result"
    }
   ],
   "source": [
    "sales_hist = sales[\n",
    "    (sales['date'] >= datetime(2022, 3, 1))\n",
    "    & (sales['date'] < datetime(2022, 3, 29))\n",
    "]\n",
    "sales_hist.shape"
   ]
  },
  {
   "cell_type": "markdown",
   "metadata": {
    "id": "0LWyrcHBuyft"
   },
   "source": [
    "Чтобы проверить корректность дизайна эксперимента, мы должны многократно просимулировать этот эксперимент на исторических данных. Сначала проверим, контролируется ли вероятность ошибки 1-го рода. Для этого объектами в нашей выборке будут **чеки**. То есть мы делим всех людей на 2 группы, собираем все чеки назвисимо и проводим t-test."
   ]
  },
  {
   "cell_type": "code",
   "execution_count": 24,
   "metadata": {
    "colab": {
     "base_uri": "https://localhost:8080/",
     "height": 318
    },
    "executionInfo": {
     "elapsed": 21403,
     "status": "ok",
     "timestamp": 1674542621169,
     "user": {
      "displayName": "Nikolay Nazarov",
      "userId": "18018785782997408667"
     },
     "user_tz": -420
    },
    "id": "71aQur_TuFzB",
    "outputId": "49407111-d213-4ab3-bebf-3a061ca82cff"
   },
   "outputs": [
    {
     "data": {
      "image/png": "[encoded data removed]",
      "text/plain": [
       "<Figure size 864x288 with 2 Axes>"
      ]
     },
     "metadata": {
      "needs_background": "light"
     },
     "output_type": "display_data"
    }
   ],
   "source": [
    "# sales_hist = sales\n",
    "\n",
    "p_values = []\n",
    "users = sales_hist['user_id'].unique()\n",
    "for _ in range(500):\n",
    "    np.random.shuffle(users)\n",
    "    group_a, group_b = users[:len(users) // 2], users[len(users) // 2:]\n",
    "    sales_a = sales_hist[sales_hist['user_id'].isin(group_a)]['price']\n",
    "    sales_b = sales_hist[sales_hist['user_id'].isin(group_b)]['price']\n",
    "    _, p_val = ttest_ind(sales_a, sales_b)\n",
    "    p_values.append(p_val)\n",
    "plot_pvalue_ecdf(p_values, 'p-value ECDF. Dependent data')"
   ]
  },
  {
   "cell_type": "code",
   "execution_count": 25,
   "metadata": {
    "colab": {
     "base_uri": "https://localhost:8080/"
    },
    "executionInfo": {
     "elapsed": 21,
     "status": "ok",
     "timestamp": 1674542621170,
     "user": {
      "displayName": "Nikolay Nazarov",
      "userId": "18018785782997408667"
     },
     "user_tz": -420
    },
    "id": "oGRUzFWEABh6",
    "outputId": "15f81b92-d7da-4a6a-d096-5ade581f3adb"
   },
   "outputs": [
    {
     "data": {
      "text/plain": [
       "0.094"
      ]
     },
     "execution_count": 25,
     "metadata": {},
     "output_type": "execute_result"
    }
   ],
   "source": [
    "(np.array(p_values) < 0.05).mean()"
   ]
  },
  {
   "cell_type": "markdown",
   "metadata": {
    "id": "_RMiYrL6vSLm"
   },
   "source": [
    "Видно, что $p-value$ распределено не равномерно. То есть если бы мы бездумно применили t-test к данной выборке, то на уровне значимости 0.05 ошибались бы с вероятностью более 0.1. Это значит, что мы бы в среднем получали в 2 раза больше ложноположительных результата, чем допускает дизайн эксперимента. \n",
    "\n",
    "Такое поведения связано с тем, что выборка не удовлетворяет условиям регулярности t-test, в частности, наблюдения не независимы, так как один человек в течение эксперимента может сделать несколько покупок."
   ]
  },
  {
   "cell_type": "markdown",
   "metadata": {
    "id": "j2Wmqdg_Am7g"
   },
   "source": [
    "Как работать с метриками такого типа мы обсудим на лекции, посвященной метрикам отношения, а сейчас просто перейдем к другой метрике. Давайте рассмотрим метрику **средний чек на пользователя**. То есть мы сначала для каждого человека посчитаем его средний чек, а затем сравним два набора таких значений. Таким образом, наши данные уже будут статистически независимы, так как от каждого пользователя мы получим одно значение, а пользователи между собой независимы. После этого повторим процедуру, описанную выше."
   ]
  },
  {
   "cell_type": "code",
   "execution_count": 26,
   "metadata": {
    "colab": {
     "base_uri": "https://localhost:8080/",
     "height": 318
    },
    "executionInfo": {
     "elapsed": 20673,
     "status": "ok",
     "timestamp": 1674542641833,
     "user": {
      "displayName": "Nikolay Nazarov",
      "userId": "18018785782997408667"
     },
     "user_tz": -420
    },
    "id": "n4xTG7D-uFzB",
    "outputId": "25de360c-14a9-453d-ddc1-11d303f63e88"
   },
   "outputs": [
    {
     "data": {
      "image/png": "[encoded data removed]",
      "text/plain": [
       "<Figure size 864x288 with 2 Axes>"
      ]
     },
     "metadata": {
      "needs_background": "light"
     },
     "output_type": "display_data"
    }
   ],
   "source": [
    "p_values = []\n",
    "grouped_sales = sales_hist.groupby('user_id')[['price']].mean().reset_index()\n",
    "users = sales_hist['user_id'].unique()\n",
    "for _ in range(500):\n",
    "    np.random.shuffle(users)\n",
    "    group_a, group_b = users[:len(users) // 2], users[len(users) // 2:]\n",
    "    sales_a = grouped_sales[grouped_sales['user_id'].isin(group_a)]['price']\n",
    "    sales_b = grouped_sales[grouped_sales['user_id'].isin(group_b)]['price']\n",
    "    _, p_val = ttest_ind(sales_a, sales_b)\n",
    "    p_values.append(p_val)\n",
    "plot_pvalue_ecdf(p_values, 'p-value ECDF. Independent data')"
   ]
  },
  {
   "cell_type": "code",
   "execution_count": 27,
   "metadata": {},
   "outputs": [
    {
     "data": {
      "text/plain": [
       "0.058"
      ]
     },
     "execution_count": 27,
     "metadata": {},
     "output_type": "execute_result"
    }
   ],
   "source": [
    "(np.array(p_values) < 0.05).mean()"
   ]
  },
  {
   "cell_type": "markdown",
   "metadata": {
    "id": "QRk4xo3kBNT-"
   },
   "source": [
    "Видно, что вероятность ошибки 1-го рода контролируется. Но обладает ли наш тест достаточной мощностью?\n",
    "\n",
    "Давайте проверим это. Для этого посчитаем MDE и будем к одной из групп прибавлять случайный эффект, равный MDE."
   ]
  },
  {
   "cell_type": "code",
   "execution_count": 28,
   "metadata": {
    "colab": {
     "base_uri": "https://localhost:8080/"
    },
    "executionInfo": {
     "elapsed": 16,
     "status": "ok",
     "timestamp": 1674542641834,
     "user": {
      "displayName": "Nikolay Nazarov",
      "userId": "18018785782997408667"
     },
     "user_tz": -420
    },
    "id": "1K8uvA4muFzB",
    "outputId": "4d40d23c-d0f5-4aa8-82d6-4a1745426003"
   },
   "outputs": [
    {
     "name": "stdout",
     "output_type": "stream",
     "text": [
      "mde is 15.866\n"
     ]
    }
   ],
   "source": [
    "mean = grouped_sales['price'].mean()\n",
    "std = grouped_sales['price'].std()\n",
    "sample_size = grouped_sales.shape[0] // 2\n",
    "alpha = 0.05\n",
    "beta = 0.2\n",
    "\n",
    "mde = get_minimal_determinable_effect(std, sample_size, alpha, beta)\n",
    "print(f'mde is {np.round(mde, 3)}')"
   ]
  },
  {
   "cell_type": "code",
   "execution_count": 29,
   "metadata": {
    "colab": {
     "base_uri": "https://localhost:8080/",
     "height": 318
    },
    "executionInfo": {
     "elapsed": 17848,
     "status": "ok",
     "timestamp": 1674542659675,
     "user": {
      "displayName": "Nikolay Nazarov",
      "userId": "18018785782997408667"
     },
     "user_tz": -420
    },
    "id": "tz8ntZLguFzC",
    "outputId": "6055b1e6-f1c4-433f-8abc-58fe804bef78"
   },
   "outputs": [
    {
     "data": {
      "image/png": "[encoded data removed]",
      "text/plain": [
       "<Figure size 864x288 with 2 Axes>"
      ]
     },
     "metadata": {
      "needs_background": "light"
     },
     "output_type": "display_data"
    }
   ],
   "source": [
    "p_values = []\n",
    "grouped_sales = sales_hist.groupby('user_id')[['price']].mean().reset_index()\n",
    "users = sales_hist['user_id'].unique()\n",
    "for _ in range(500):\n",
    "    np.random.shuffle(users)\n",
    "    group_a, group_b = users[:len(users) // 2], users[len(users) // 2:]\n",
    "    sales_a = grouped_sales[grouped_sales['user_id'].isin(group_a)]['price']\n",
    "    sales_b = grouped_sales[grouped_sales['user_id'].isin(group_b)]['price']\n",
    "    sales_b += np.random.normal(mde, std // 10, sales_b.shape)\n",
    "    _, p_val = ttest_ind(sales_a, sales_b)\n",
    "    p_values.append(p_val)\n",
    "plot_pvalue_ecdf(p_values, 'p-value ECDF. Independent data with effect = mde')"
   ]
  },
  {
   "cell_type": "code",
   "execution_count": 30,
   "metadata": {},
   "outputs": [
    {
     "data": {
      "text/plain": [
       "0.804"
      ]
     },
     "execution_count": 30,
     "metadata": {},
     "output_type": "execute_result"
    }
   ],
   "source": [
    "(np.array(p_values) < 0.05).mean()"
   ]
  },
  {
   "cell_type": "markdown",
   "metadata": {
    "id": "nqY8HTJdBey_"
   },
   "source": [
    "На уровне значимости 0.05 мы отлавливаем эффект в среднем в 80-ти случаях из 100, то есть тест обладает заданной мощностью и дизайн полностью корректен. \n",
    "\n",
    "То есть если мы будем проводить тест на всех пользователях в течение 4-х недель на уровне значимости 0.05, то вероятность ошибки 1-го рода в действительности равняется 0.05. Более того, мы обнаружим эффект равный $MDE=15.8$ в среднем в 80-ти случаях из 100, если он на самом деле присутствует, что мы и закладывали в дизайне эксперимента."
   ]
  },
  {
   "cell_type": "code",
   "execution_count": null,
   "metadata": {},
   "outputs": [],
   "source": []
  }
 ],
 "metadata": {
  "colab": {
   "provenance": []
  },
  "kernelspec": {
   "display_name": "Python 3 (ipykernel)",
   "language": "python",
   "name": "python3"
  },
  "language_info": {
   "codemirror_mode": {
    "name": "ipython",
    "version": 3
   },
   "file_extension": ".py",
   "mimetype": "text/x-python",
   "name": "python",
   "nbconvert_exporter": "python",
   "pygments_lexer": "ipython3",
   "version": "3.8.10"
  }
 },
 "nbformat": 4,
 "nbformat_minor": 4
}
