{
 "cells": [
  {
   "cell_type": "code",
   "execution_count": 1,
   "id": "078f8806-57f5-4f3f-a614-cd2ed85ec07d",
   "metadata": {},
   "outputs": [],
   "source": [
    "from _shared import *"
   ]
  },
  {
   "cell_type": "markdown",
   "id": "e923bb6c-0be3-441e-a492-9da413e9557a",
   "metadata": {},
   "source": [
    "### Задача  1. Оценка разных статистик\n",
    "В лекции мы выяснили, что в эксперименте «Refactoring backend» в экспериментальной группе среднее время загрузки увеличилось, а 99% квантиль уменьшился. Проверьте значимость отличий других квантилей.\n",
    "\n",
    "Данные эксперимента «Refactoring backend»: 2022-04-13/2022-04-13T12_df_web_logs.csv и 2022-04-13/experiment_users.csv. Эксперимент проводился с 2022-04-05 по 2022-04-12. Измерения времени обработки запросов считаем независимыми. При проверке используйте нормальный доверительный интервал."
   ]
  },
  {
   "cell_type": "code",
   "execution_count": null,
   "id": "96e5a149-5d49-4502-83f7-3627b7928105",
   "metadata": {},
   "outputs": [],
   "source": []
  }
 ],
 "metadata": {
  "kernelspec": {
   "display_name": "Python 3 (ipykernel)",
   "language": "python",
   "name": "python3"
  },
  "language_info": {
   "codemirror_mode": {
    "name": "ipython",
    "version": 3
   },
   "file_extension": ".py",
   "mimetype": "text/x-python",
   "name": "python",
   "nbconvert_exporter": "python",
   "pygments_lexer": "ipython3",
   "version": "3.8.10"
  }
 },
 "nbformat": 4,
 "nbformat_minor": 5
}
