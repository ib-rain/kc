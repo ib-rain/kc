{
 "cells": [
  {
   "cell_type": "code",
   "execution_count": 1,
   "id": "c9f52d3c-1657-4a65-8ede-4698b7ced717",
   "metadata": {},
   "outputs": [],
   "source": [
    "from _shared import *"
   ]
  },
  {
   "cell_type": "markdown",
   "id": "de8ad763-af52-4dce-a522-bf90d2ceb781",
   "metadata": {},
   "source": [
    "## Задача 1. Оценка эксперимента с линеаризацией"
   ]
  },
  {
   "cell_type": "markdown",
   "id": "f92fa691-8bac-4a32-aa4f-efd4b1425375",
   "metadata": {},
   "source": [
    "Раньше мы оценивали эксперимент \"Refactoring backend\", предполагая, что данные времени работы бэкенда независимые. Теперь мы можем корректно оценить этот эксперимент, даже если данные зависели бы от пользователей.\n",
    "\n",
    "Оцените эксперимент \"Refactoring backend\" с использованием линеаризации в предположении, что данные пользователей зависимы.\n",
    "\n",
    "Данные эксперимента \"Refactoring backend\": `2022-04-13/2022-04-13T12_df_web_logs.csv` и `2022-04-13/experiment_users.csv`.\n",
    "\n",
    "Эксперимент проводился с __2022-04-05__ по __2022-04-12__.\n",
    "\n",
    "Метрика — среднее время обработки запроса.\n",
    "\n",
    "В качестве ответа введите p-value с точность до 4-го знака после точки."
   ]
  },
  {
   "cell_type": "code",
   "execution_count": 2,
   "id": "4fe1dcc6-4248-4057-b773-df5341182522",
   "metadata": {},
   "outputs": [
    {
     "data": {
      "text/html": [
       "<div>\n",
       "<style scoped>\n",
       "    .dataframe tbody tr th:only-of-type {\n",
       "        vertical-align: middle;\n",
       "    }\n",
       "\n",
       "    .dataframe tbody tr th {\n",
       "        vertical-align: top;\n",
       "    }\n",
       "\n",
       "    .dataframe thead th {\n",
       "        text-align: right;\n",
       "    }\n",
       "</style>\n",
       "<table border=\"1\" class=\"dataframe\">\n",
       "  <thead>\n",
       "    <tr style=\"text-align: right;\">\n",
       "      <th></th>\n",
       "      <th>user_id</th>\n",
       "      <th>pilot</th>\n",
       "    </tr>\n",
       "  </thead>\n",
       "  <tbody>\n",
       "    <tr>\n",
       "      <th>0</th>\n",
       "      <td>c36b2e</td>\n",
       "      <td>0</td>\n",
       "    </tr>\n",
       "    <tr>\n",
       "      <th>1</th>\n",
       "      <td>20336e</td>\n",
       "      <td>0</td>\n",
       "    </tr>\n",
       "    <tr>\n",
       "      <th>2</th>\n",
       "      <td>034652</td>\n",
       "      <td>0</td>\n",
       "    </tr>\n",
       "    <tr>\n",
       "      <th>3</th>\n",
       "      <td>e98e3b</td>\n",
       "      <td>0</td>\n",
       "    </tr>\n",
       "    <tr>\n",
       "      <th>4</th>\n",
       "      <td>3f1105</td>\n",
       "      <td>0</td>\n",
       "    </tr>\n",
       "  </tbody>\n",
       "</table>\n",
       "</div>"
      ],
      "text/plain": [
       "  user_id  pilot\n",
       "0  c36b2e      0\n",
       "1  20336e      0\n",
       "2  034652      0\n",
       "3  e98e3b      0\n",
       "4  3f1105      0"
      ]
     },
     "execution_count": 2,
     "metadata": {},
     "output_type": "execute_result"
    }
   ],
   "source": [
    "data_path = './data/{}'\n",
    "filenames = ('2022-04-13T12_df_web_logs_lin.csv', 'experiment_users_lin.csv')\n",
    "\n",
    "beg_date_ = pd.Timestamp('2022-04-05')\n",
    "end_date_ = pd.Timestamp('2022-04-12')\n",
    "\n",
    "experiment_users = pd.read_csv(data_path.format(filenames[1]))\n",
    "experiment_users.head()"
   ]
  },
  {
   "cell_type": "code",
   "execution_count": 3,
   "id": "c5c818a7-cd93-4a9d-8036-856e19d401bb",
   "metadata": {},
   "outputs": [
    {
     "data": {
      "text/html": [
       "<div>\n",
       "<style scoped>\n",
       "    .dataframe tbody tr th:only-of-type {\n",
       "        vertical-align: middle;\n",
       "    }\n",
       "\n",
       "    .dataframe tbody tr th {\n",
       "        vertical-align: top;\n",
       "    }\n",
       "\n",
       "    .dataframe thead th {\n",
       "        text-align: right;\n",
       "    }\n",
       "</style>\n",
       "<table border=\"1\" class=\"dataframe\">\n",
       "  <thead>\n",
       "    <tr style=\"text-align: right;\">\n",
       "      <th></th>\n",
       "      <th>user_id</th>\n",
       "      <th>load_time</th>\n",
       "    </tr>\n",
       "  </thead>\n",
       "  <tbody>\n",
       "    <tr>\n",
       "      <th>2111341</th>\n",
       "      <td>e65269</td>\n",
       "      <td>60.0</td>\n",
       "    </tr>\n",
       "    <tr>\n",
       "      <th>2111369</th>\n",
       "      <td>c36b2e</td>\n",
       "      <td>106.6</td>\n",
       "    </tr>\n",
       "    <tr>\n",
       "      <th>2111373</th>\n",
       "      <td>c36b2e</td>\n",
       "      <td>49.6</td>\n",
       "    </tr>\n",
       "    <tr>\n",
       "      <th>2111375</th>\n",
       "      <td>c36b2e</td>\n",
       "      <td>49.9</td>\n",
       "    </tr>\n",
       "    <tr>\n",
       "      <th>2111376</th>\n",
       "      <td>c36b2e</td>\n",
       "      <td>75.7</td>\n",
       "    </tr>\n",
       "  </tbody>\n",
       "</table>\n",
       "</div>"
      ],
      "text/plain": [
       "        user_id  load_time\n",
       "2111341  e65269       60.0\n",
       "2111369  c36b2e      106.6\n",
       "2111373  c36b2e       49.6\n",
       "2111375  c36b2e       49.9\n",
       "2111376  c36b2e       75.7"
      ]
     },
     "execution_count": 3,
     "metadata": {},
     "output_type": "execute_result"
    }
   ],
   "source": [
    "df_web_logs = get_data_subset(\n",
    "    df=pd.read_csv(data_path.format(filenames[0]), parse_dates=[2]),\n",
    "    begin_date=beg_date_,\n",
    "    end_date=end_date_,\n",
    "    user_ids=experiment_users['user_id'],\n",
    "    columns=['user_id', 'load_time']\n",
    ")\n",
    "# df_web_logs['date'].agg(['min', 'max'])\n",
    "\n",
    "df_web_logs.head()"
   ]
  },
  {
   "cell_type": "code",
   "execution_count": 4,
   "id": "fdde5b03-993e-4079-8da7-26eccd4da5ee",
   "metadata": {},
   "outputs": [
    {
     "data": {
      "text/html": [
       "<div>\n",
       "<style scoped>\n",
       "    .dataframe tbody tr th:only-of-type {\n",
       "        vertical-align: middle;\n",
       "    }\n",
       "\n",
       "    .dataframe tbody tr th {\n",
       "        vertical-align: top;\n",
       "    }\n",
       "\n",
       "    .dataframe thead th {\n",
       "        text-align: right;\n",
       "    }\n",
       "</style>\n",
       "<table border=\"1\" class=\"dataframe\">\n",
       "  <thead>\n",
       "    <tr style=\"text-align: right;\">\n",
       "      <th></th>\n",
       "      <th>user_id</th>\n",
       "      <th>pilot</th>\n",
       "      <th>sum</th>\n",
       "      <th>count</th>\n",
       "    </tr>\n",
       "  </thead>\n",
       "  <tbody>\n",
       "    <tr>\n",
       "      <th>0</th>\n",
       "      <td>c36b2e</td>\n",
       "      <td>0</td>\n",
       "      <td>281.8</td>\n",
       "      <td>4</td>\n",
       "    </tr>\n",
       "    <tr>\n",
       "      <th>1</th>\n",
       "      <td>20336e</td>\n",
       "      <td>0</td>\n",
       "      <td>211.2</td>\n",
       "      <td>3</td>\n",
       "    </tr>\n",
       "    <tr>\n",
       "      <th>2</th>\n",
       "      <td>034652</td>\n",
       "      <td>0</td>\n",
       "      <td>400.4</td>\n",
       "      <td>6</td>\n",
       "    </tr>\n",
       "    <tr>\n",
       "      <th>3</th>\n",
       "      <td>e98e3b</td>\n",
       "      <td>0</td>\n",
       "      <td>695.1</td>\n",
       "      <td>10</td>\n",
       "    </tr>\n",
       "    <tr>\n",
       "      <th>4</th>\n",
       "      <td>3f1105</td>\n",
       "      <td>0</td>\n",
       "      <td>219.8</td>\n",
       "      <td>3</td>\n",
       "    </tr>\n",
       "  </tbody>\n",
       "</table>\n",
       "</div>"
      ],
      "text/plain": [
       "  user_id  pilot    sum  count\n",
       "0  c36b2e      0  281.8      4\n",
       "1  20336e      0  211.2      3\n",
       "2  034652      0  400.4      6\n",
       "3  e98e3b      0  695.1     10\n",
       "4  3f1105      0  219.8      3"
      ]
     },
     "execution_count": 4,
     "metadata": {},
     "output_type": "execute_result"
    }
   ],
   "source": [
    "df_exp = (\n",
    "    experiment_users.merge(\n",
    "        right=(\n",
    "            df_web_logs\n",
    "            .groupby('user_id')\n",
    "            ['load_time'].agg(['sum', 'count'])\n",
    "            .reset_index()\n",
    "        ),\n",
    "        on='user_id',\n",
    "        how='left'\n",
    "    ).fillna(0.0)\n",
    ")\n",
    "\n",
    "df_exp.head()"
   ]
  },
  {
   "cell_type": "code",
   "execution_count": 5,
   "id": "0b6d3a63-c5e4-4bf4-b6ce-10d7eeff452d",
   "metadata": {},
   "outputs": [
    {
     "data": {
      "text/plain": [
       "74.56453554748315"
      ]
     },
     "execution_count": 5,
     "metadata": {},
     "output_type": "execute_result"
    }
   ],
   "source": [
    "df_agg = (\n",
    "    df_exp.loc[df_exp['pilot']==0, ['sum', 'count']]\n",
    "    .sum()\n",
    ")\n",
    "\n",
    "# Kappa is calculated on the A group (0).\n",
    "kappa = df_agg['sum'] / df_agg['count']\n",
    "kappa"
   ]
  },
  {
   "cell_type": "code",
   "execution_count": 6,
   "id": "8c66ae67-dd8c-4357-ad3a-d773389dd49c",
   "metadata": {},
   "outputs": [
    {
     "data": {
      "text/plain": [
       "count    5456.000000\n",
       "mean        8.551639\n",
       "std       308.751096\n",
       "min      -304.684318\n",
       "25%       -39.493607\n",
       "50%       -17.580820\n",
       "75%        -0.258142\n",
       "max      4126.648251\n",
       "Name: lin, dtype: float64"
      ]
     },
     "execution_count": 6,
     "metadata": {},
     "output_type": "execute_result"
    }
   ],
   "source": [
    "df_exp['lin'] = df_exp['sum'] - kappa * df_exp['count']\n",
    "df_exp['lin'].describe()"
   ]
  },
  {
   "cell_type": "code",
   "execution_count": 7,
   "id": "e890a7a5-0bdd-458a-a7a8-46fe8e82080a",
   "metadata": {},
   "outputs": [
    {
     "data": {
      "text/plain": [
       "0.0442"
      ]
     },
     "execution_count": 7,
     "metadata": {},
     "output_type": "execute_result"
    }
   ],
   "source": [
    "res_1 = round(\n",
    "    stats.ttest_ind(\n",
    "        df_exp.loc[df_exp['pilot']==0, 'lin'],\n",
    "        df_exp.loc[df_exp['pilot']==1, 'lin']\n",
    "    ).pvalue,\n",
    "    4\n",
    ")\n",
    "res_1"
   ]
  },
  {
   "cell_type": "code",
   "execution_count": 8,
   "id": "7c60a01c-40a3-4709-a6ab-21dcabe4dd74",
   "metadata": {},
   "outputs": [
    {
     "name": "stdout",
     "output_type": "stream",
     "text": [
      "pvalue = 0.0442\n"
     ]
    }
   ],
   "source": [
    "# Solution\n",
    "import os\n",
    "from datetime import datetime, timedelta\n",
    "import numpy as np\n",
    "import pandas as pd\n",
    "from scipy import stats\n",
    "\n",
    "URL_BASE = 'https://raw.githubusercontent.com/ab-courses/simulator-ab-datasets/main/2022-04-13/'\n",
    "\n",
    "def read_database(file_name):\n",
    "    return pd.read_csv(os.path.join(URL_BASE, file_name))\n",
    "\n",
    "df_web_logs = read_database('2022-04-13T12_df_web_logs.csv')\n",
    "df_web_logs['date'] = pd.to_datetime(df_web_logs['date'])\n",
    "df_users = read_database('experiment_users.csv')\n",
    "\n",
    "begin_date = datetime(2022, 4, 5)\n",
    "end_date = datetime(2022, 4, 12)\n",
    "\n",
    "df_metrics = (\n",
    "    df_web_logs\n",
    "    [(df_web_logs['date'] >= begin_date) & (df_web_logs['date'] < end_date)]\n",
    "    .groupby('user_id')[['load_time']].agg(list)\n",
    "    .reset_index()\n",
    ")\n",
    "df = pd.merge(df_users, df_metrics, on='user_id', how='left')\n",
    "\n",
    "def check_linearization(a, b):\n",
    "    \"\"\"Проверка гипотезы с помощью линеаризации.\n",
    "    \n",
    "    a: List[List], список множеств длин сессий пользователей контрольной группы\n",
    "    b: List[List], список множеств длин сессий пользователей пилотной группы\n",
    "    \n",
    "    return: pvalue и точечную оценку.\n",
    "    \"\"\"\n",
    "    a_x = np.array([np.sum(row) for row in a])\n",
    "    a_y = np.array([len(row) for row in a])\n",
    "    b_x = np.array([np.sum(row) for row in b])\n",
    "    b_y = np.array([len(row) for row in b])\n",
    "    coef = np.sum(a_x) / np.sum(a_y)\n",
    "    a_lin = a_x - coef * a_y\n",
    "    b_lin = b_x - coef * b_y\n",
    "    _, pvalue = stats.ttest_ind(a_lin, b_lin)\n",
    "    delta = np.mean(b_lin) - np.mean(a_lin)\n",
    "    return pvalue, delta\n",
    "\n",
    "a = df[df['pilot'] == 0]['load_time'].values\n",
    "b = df[df['pilot'] == 1]['load_time'].values\n",
    "\n",
    "pvalue = check_linearization(a, b)[0]\n",
    "print(f'pvalue = {pvalue:0.4f}')"
   ]
  },
  {
   "cell_type": "markdown",
   "id": "022df839-9a55-463b-921b-4d03a52f3304",
   "metadata": {},
   "source": [
    "## Задача 2. Функция вычисления линеаризованной метрики"
   ]
  },
  {
   "cell_type": "code",
   "execution_count": 12,
   "id": "680a7fe0-466f-4c5a-9b3c-f47e47516632",
   "metadata": {},
   "outputs": [],
   "source": [
    "import pandas as pd\n",
    "\n",
    "\n",
    "def calculate_linearized_metrics(control_metrics, pilot_metrics):\n",
    "    \"\"\"\n",
    "    Считает значения линеаризованной метрики.\n",
    "\n",
    "    Нужно вычислить параметр kappa (коэффициент в функции линеаризации) по данным из\n",
    "    control_metrics и использовать его для вычисления линеаризованной метрики.\n",
    "\n",
    "    :param control_metrics (pd.DataFrame): датафрейм со значениями метрики контрольной группы.\n",
    "        Значения в столбце 'user_id' не уникальны.\n",
    "        Измерения для одного user_id считаем зависимыми, а разных user_id - независимыми.\n",
    "        columns=['user_id', 'metric']\n",
    "    :param pilot_metrics (pd.DataFrame): датафрейм со значениями метрики экспериментальной группы.\n",
    "        Значения в столбце 'user_id' не уникальны.\n",
    "        Измерения для одного user_id считаем зависимыми, а разных user_id - независимыми.\n",
    "        columns=['user_id', 'metric']\n",
    "    :return lin_control_metrics, lin_pilot_metrics: датафреймы контрольной и экспериментальногй\n",
    "        групп со значениями линеаризованной метрики.\n",
    "        columns=['user_id', 'metric']\n",
    "    \"\"\"\n",
    "    src = [control_metrics, pilot_metrics]\n",
    "    res = [0, 0]\n",
    "    \n",
    "\n",
    "    for (i, df) in enumerate(src):\n",
    "        res[i] = (\n",
    "            df\n",
    "            .groupby('user_id')\n",
    "            ['metric'].agg(['sum', 'count'])\n",
    "            .reset_index()\n",
    "        )\n",
    "        \n",
    "    metric_agg = res[0].loc[:, ['sum', 'count']].sum()\n",
    "    kappa = metric_agg['sum'] / metric_agg['count']\n",
    "    \n",
    "    for i in range(len(res)):\n",
    "        res[i]['metric'] = res[i]['sum'] - kappa * res[i]['count']\n",
    "        res[i] = res[i].loc[:, ['user_id', 'metric']]\n",
    "    \n",
    "    return res\n",
    "\n",
    "\n",
    "def calculate_linearized_metrics_optimized(control_metrics, pilot_metrics):\n",
    "    #Nice (almost enough to excuse separate dfs).\n",
    "    kappa = control_metrics['metric'].mean()\n",
    "    \n",
    "    for (i, df) in enumerate(src):\n",
    "        res[i] = (\n",
    "            df\n",
    "            .groupby('user_id')\n",
    "            ['metric'].agg(['sum', 'count'])\n",
    "            .reset_index()\n",
    "        )\n",
    "        \n",
    "        res[i]['metric'] = res[i]['sum'] - kappa * res[i]['count']\n",
    "        res[i] = res[i].loc[:, ['user_id', 'metric']]\n",
    "    \n",
    "    return res"
   ]
  },
  {
   "cell_type": "code",
   "execution_count": 13,
   "id": "017c736e-491d-4839-8e7b-eb6993112d46",
   "metadata": {},
   "outputs": [
    {
     "data": {
      "text/plain": [
       "(   user_id  metric\n",
       " 0        1    -2.0\n",
       " 1        2     2.0,\n",
       "    user_id  metric\n",
       " 0        3    -1.0)"
      ]
     },
     "execution_count": 13,
     "metadata": {},
     "output_type": "execute_result"
    }
   ],
   "source": [
    "control_metrics = pd.DataFrame({'user_id': [1, 1, 2], 'metric': [3, 5, 7],})\n",
    "pilot_metrics = pd.DataFrame({'user_id': [3, 3], 'metric': [3, 6], })\n",
    "lin_control_metrics, lin_pilot_metrics = calculate_linearized_metrics(\n",
    "    control_metrics, pilot_metrics\n",
    ")\n",
    "# lin_control_metrics = pd.DataFrame({'user_id': [1, 2], 'metric': [-2, 2]})\n",
    "# lin_pilot_metrics = pd.DataFrame({'user_id': [3,], 'metric': [-1,]})\n",
    "lin_control_metrics, lin_pilot_metrics"
   ]
  },
  {
   "cell_type": "code",
   "execution_count": 11,
   "id": "5a8f399b-fd41-4ca5-9cec-c638f5a977ee",
   "metadata": {},
   "outputs": [],
   "source": [
    "#Solution\n",
    "\n",
    "def calculate_linearized_metrics(control_metrics, pilot_metrics):\n",
    "    kappa = control_metrics['metric'].mean()\n",
    "    dfs = []\n",
    "    for df in [control_metrics, pilot_metrics]:\n",
    "        df_agg = df.groupby('user_id')[['metric']].agg(['sum', 'count'])\n",
    "        df_agg.columns = df_agg.columns.get_level_values(1)\n",
    "        df_agg['metric'] = df_agg['sum'] - kappa * df_agg['count']\n",
    "        df_agg.reset_index(inplace=True)\n",
    "        dfs.append(df_agg[['user_id', 'metric']].copy())\n",
    "    return dfs"
   ]
  },
  {
   "cell_type": "code",
   "execution_count": null,
   "id": "0d8d61f5-e305-4450-81cd-9d7fb3fc847e",
   "metadata": {},
   "outputs": [],
   "source": []
  }
 ],
 "metadata": {
  "kernelspec": {
   "display_name": "Python 3 (ipykernel)",
   "language": "python",
   "name": "python3"
  },
  "language_info": {
   "codemirror_mode": {
    "name": "ipython",
    "version": 3
   },
   "file_extension": ".py",
   "mimetype": "text/x-python",
   "name": "python",
   "nbconvert_exporter": "python",
   "pygments_lexer": "ipython3",
   "version": "3.8.10"
  }
 },
 "nbformat": 4,
 "nbformat_minor": 5
}
