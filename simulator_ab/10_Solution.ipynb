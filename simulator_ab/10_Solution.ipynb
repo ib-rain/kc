{
 "cells": [
  {
   "cell_type": "code",
   "execution_count": 1,
   "id": "9669ecfa-f5cc-413c-b9b3-4e3d00b26d22",
   "metadata": {},
   "outputs": [],
   "source": [
    "from _shared import *\n",
    "from tqdm.notebook import tqdm"
   ]
  },
  {
   "cell_type": "markdown",
   "id": "24bca5bc-4b67-4578-a24d-96e90ba27672",
   "metadata": {},
   "source": [
    "## Задача 1. Количество параллельных экспериментов"
   ]
  },
  {
   "cell_type": "markdown",
   "id": "527e74e1-0941-40b6-bbb8-6125527e8ad7",
   "metadata": {},
   "source": [
    "Сколько несовместных независимых экспериментов можно запустить одновременно, если за время эксперимента собираем 10000 наблюдений?\n",
    "\n",
    "Если решаем запустить 10 экспериментов, то на каждый эксперимент можно выделить по 1000 наблюдений, размер групп будет равен 500.\n",
    "\n",
    "Параметры экспериментов:\n",
    "- проверяем гипотезу о равенстве средних;\n",
    "- уровень значимости — 0.05;\n",
    "- допустимая вероятность ошибки II рода — 0.1;\n",
    "- ожидаемый эффект — увеличение значений на 3%;\n",
    "- способ добавления эффекта в синтетических А/Б экспериментах — умножение на константу.\n",
    "\n",
    "Будем считать, что распределение измеряемых величин является нормальным распределением со средним 100 и стандартным отклонением 10.\n",
    "\n",
    "В качестве ответа введите максимально возможное количество экспериментов, которое можно запустить с указанными выше параметрами."
   ]
  },
  {
   "cell_type": "code",
   "execution_count": 2,
   "id": "413bb73b-4d87-4c3e-af44-f044c3528539",
   "metadata": {},
   "outputs": [],
   "source": [
    "obs_num = 10_000\n",
    "test_ = stats.ttest_ind\n",
    "\n",
    "alpha_ = 0.05\n",
    "beta_ = 0.1\n",
    "effect_ = +0.03\n",
    "\n",
    "mean_ = 100.0\n",
    "std_ = 10.0"
   ]
  },
  {
   "cell_type": "code",
   "execution_count": 3,
   "id": "3a6afbce-4947-4156-bef2-bfc2ad867078",
   "metadata": {},
   "outputs": [
    {
     "data": {
      "text/plain": [
       "21"
      ]
     },
     "execution_count": 3,
     "metadata": {},
     "output_type": "execute_result"
    }
   ],
   "source": [
    "# df = pd.DataFrame(np.random.normal(loc=mean_, scale=std_, size=obs_num), columns=['metric_a']) #Let index be the user_id.\n",
    "# df['metric_b'] = df['metric_a'] * (1 + effect_)\n",
    "\n",
    "# Number of test equals half the number of observation divided by required sample size (since we need 2 groups).\n",
    "res_1 = int(np.floor(obs_num / get_sample_size_rel(mu=mean_, std=std_, eff=effect_, alpha=alpha_, beta=beta_)) / 2)\n",
    "res_1"
   ]
  },
  {
   "cell_type": "code",
   "execution_count": 4,
   "id": "2ef81e56-30b9-4587-b6e1-c0a7000e17df",
   "metadata": {},
   "outputs": [],
   "source": [
    "def check_experiment_design_ind(number_of_experiments, N=10_000):\n",
    "    group_size = int((obs_num / number_of_experiments) / 2)\n",
    "    aa_res, ab_res = [], []\n",
    "    \n",
    "#    for _ in tqdm(range(N)):\n",
    "#         for i in range(number_of_experiments):\n",
    "#             a_beg = i * group_size * 2\n",
    "#             a_end = a_beg + group_size - 1\n",
    "#             b_beg = a_end + 1\n",
    "#             b_end = b_beg + group_size - 1\n",
    "\n",
    "#             aa_res.append(test_(metric_a[a_beg:a_end], metric_b[b_beg:b_end]).pvalue)\n",
    "#             ab_res.append(test_(metric_a[a_beg:a_end], metric_b_eff[b_beg:b_end]).pvalue)\n",
    "\n",
    "    for _ in tqdm(range(N)):\n",
    "        metric_a, metric_b = np.random.normal(loc=mean_, scale=std_, size=(2, group_size))\n",
    "        metric_b_eff = metric_b * (1.0 + effect_)\n",
    "\n",
    "        aa_res.append(test_(metric_a, metric_b).pvalue)\n",
    "        ab_res.append(test_(metric_a, metric_b_eff).pvalue)\n",
    "\n",
    "    return ((np.array(aa_res) < alpha_).mean(), (np.array(ab_res) >= alpha_).mean())\n",
    "\n",
    "\n",
    "res_string = '{:.0f}: I order: {:.4f} [{}]; II order: {:.4f} [{}]'"
   ]
  },
  {
   "cell_type": "code",
   "execution_count": 5,
   "id": "b0cb7ca9-1c69-43c7-a17d-b770d8dc48c6",
   "metadata": {},
   "outputs": [
    {
     "data": {
      "application/json": {
       "ascii": false,
       "bar_format": null,
       "colour": null,
       "elapsed": 0.021425247192382812,
       "initial": 0,
       "n": 0,
       "ncols": null,
       "nrows": null,
       "postfix": null,
       "prefix": "",
       "rate": null,
       "total": 10000,
       "unit": "it",
       "unit_divisor": 1000,
       "unit_scale": false
      },
      "application/vnd.jupyter.widget-view+json": {
       "model_id": "99686a1316e147928b1f001e0ab3da05",
       "version_major": 2,
       "version_minor": 0
      },
      "text/plain": [
       "  0%|          | 0/10000 [00:00<?, ?it/s]"
      ]
     },
     "metadata": {},
     "output_type": "display_data"
    },
    {
     "name": "stdout",
     "output_type": "stream",
     "text": [
      "20: I order: 0.0526 [False]; II order: 0.0876 [True]\n"
     ]
    },
    {
     "data": {
      "application/json": {
       "ascii": false,
       "bar_format": null,
       "colour": null,
       "elapsed": 0.02278447151184082,
       "initial": 0,
       "n": 0,
       "ncols": null,
       "nrows": null,
       "postfix": null,
       "prefix": "",
       "rate": null,
       "total": 10000,
       "unit": "it",
       "unit_divisor": 1000,
       "unit_scale": false
      },
      "application/vnd.jupyter.widget-view+json": {
       "model_id": "8894b0d4202745648f6c6392abac7325",
       "version_major": 2,
       "version_minor": 0
      },
      "text/plain": [
       "  0%|          | 0/10000 [00:00<?, ?it/s]"
      ]
     },
     "metadata": {},
     "output_type": "display_data"
    },
    {
     "name": "stdout",
     "output_type": "stream",
     "text": [
      "21: I order: 0.0511 [False]; II order: 0.1036 [False]\n"
     ]
    },
    {
     "data": {
      "application/json": {
       "ascii": false,
       "bar_format": null,
       "colour": null,
       "elapsed": 0.027189254760742188,
       "initial": 0,
       "n": 0,
       "ncols": null,
       "nrows": null,
       "postfix": null,
       "prefix": "",
       "rate": null,
       "total": 10000,
       "unit": "it",
       "unit_divisor": 1000,
       "unit_scale": false
      },
      "application/vnd.jupyter.widget-view+json": {
       "model_id": "134c83611c3040929b67ad9051b98b5a",
       "version_major": 2,
       "version_minor": 0
      },
      "text/plain": [
       "  0%|          | 0/10000 [00:00<?, ?it/s]"
      ]
     },
     "metadata": {},
     "output_type": "display_data"
    },
    {
     "name": "stdout",
     "output_type": "stream",
     "text": [
      "22: I order: 0.0550 [False]; II order: 0.1183 [False]\n"
     ]
    }
   ],
   "source": [
    "for n in (res_1-1, res_1, res_1+1):\n",
    "    p_i, p_ii = check_experiment_design_ind(n, N=10_000)\n",
    "    print(res_string.format(n, p_i, p_i < alpha_, p_ii, p_ii < beta_))"
   ]
  },
  {
   "cell_type": "code",
   "execution_count": 6,
   "id": "03823c64-d5e2-4698-ba54-4b2ad1018d12",
   "metadata": {},
   "outputs": [
    {
     "name": "stdout",
     "output_type": "stream",
     "text": [
      "sample_size = 233\n",
      "count_exp = 21.5\n"
     ]
    },
    {
     "data": {
      "application/json": {
       "ascii": false,
       "bar_format": null,
       "colour": null,
       "elapsed": 0.02409982681274414,
       "initial": 0,
       "n": 0,
       "ncols": null,
       "nrows": null,
       "postfix": null,
       "prefix": "",
       "rate": null,
       "total": 10000,
       "unit": "it",
       "unit_divisor": 1000,
       "unit_scale": false
      },
      "application/vnd.jupyter.widget-view+json": {
       "model_id": "c9bd9eb0e5214634a1e864d36b8681d0",
       "version_major": 2,
       "version_minor": 0
      },
      "text/plain": [
       "  0%|          | 0/10000 [00:00<?, ?it/s]"
      ]
     },
     "metadata": {},
     "output_type": "display_data"
    },
    {
     "name": "stdout",
     "output_type": "stream",
     "text": [
      "count_exp = 21\n",
      "sample_size = 238\n",
      "оценка вероятности ошибки I рода = 0.0508\n",
      "  доверительный интервал = [0.0465, 0.0551]\n",
      "оценка вероятности ошибки II рода = 0.1127\n",
      "  доверительный интервал = [0.1065, 0.1189]\n"
     ]
    },
    {
     "data": {
      "application/json": {
       "ascii": false,
       "bar_format": null,
       "colour": null,
       "elapsed": 0.02388596534729004,
       "initial": 0,
       "n": 0,
       "ncols": null,
       "nrows": null,
       "postfix": null,
       "prefix": "",
       "rate": null,
       "total": 10000,
       "unit": "it",
       "unit_divisor": 1000,
       "unit_scale": false
      },
      "application/vnd.jupyter.widget-view+json": {
       "model_id": "903594f0cda6400bb53647cab6efc48a",
       "version_major": 2,
       "version_minor": 0
      },
      "text/plain": [
       "  0%|          | 0/10000 [00:00<?, ?it/s]"
      ]
     },
     "metadata": {},
     "output_type": "display_data"
    },
    {
     "name": "stdout",
     "output_type": "stream",
     "text": [
      "count_exp = 22\n",
      "sample_size = 227\n",
      "оценка вероятности ошибки I рода = 0.0516\n",
      "  доверительный интервал = [0.0473, 0.0559]\n",
      "оценка вероятности ошибки II рода = 0.1163\n",
      "  доверительный интервал = [0.1100, 0.1226]\n"
     ]
    }
   ],
   "source": [
    "# Solution.\n",
    "import numpy as np\n",
    "from scipy import stats\n",
    "from tqdm.notebook import tqdm\n",
    "\n",
    "# параметры эксперимента\n",
    "total_size = 10000\n",
    "mean_ = 100\n",
    "std_ = 10\n",
    "effect = 0.03\n",
    "alpha = 0.05\n",
    "beta = 0.1\n",
    "\n",
    "\n",
    "def estimate_sample_size(effect, std, alpha, beta):\n",
    "    \"\"\"Оценка необходимого размер групп.\"\"\"\n",
    "    t_alpha = stats.norm.ppf(1 - alpha / 2, loc=0, scale=1)\n",
    "    t_beta = stats.norm.ppf(1 - beta, loc=0, scale=1)\n",
    "    var = 2 * std ** 2\n",
    "    sample_size = int((t_alpha + t_beta) ** 2 * var / (effect ** 2))\n",
    "    return sample_size\n",
    "\n",
    "\n",
    "# оценим необходимый размер групп\n",
    "sample_size = estimate_sample_size(effect * 100, 10, alpha, beta)\n",
    "print(f'sample_size = {sample_size}')\n",
    "# вычислим количество экспериментов\n",
    "count_exp = total_size / (sample_size * 2)\n",
    "print(f'count_exp = {count_exp:0.1f}')\n",
    "\n",
    "\n",
    "def estimate_ci_bernoulli(p, n, alpha=0.05):\n",
    "    \"\"\"Доверительный интервал для Бернуллиевской случайной величины.\"\"\"\n",
    "    t = stats.norm.ppf(1 - alpha / 2, loc=0, scale=1)\n",
    "    std_n = np.sqrt(p * (1 - p) / n)\n",
    "    return p - t * std_n, p + t * std_n\n",
    "\n",
    "# Проверим, что при 21 эксперимента ошибки контролируются на заданных уровнях, а при 22 экспериментах нет.\n",
    "\n",
    "for count_exp in [21, 22]:\n",
    "    errors_aa = []\n",
    "    errors_ab = []\n",
    "    sample_size = int(total_size / (int(count_exp) * 2))\n",
    "    for _ in tqdm(range(10000)):\n",
    "        a, b = np.random.normal(mean_, std_, (2, sample_size,))\n",
    "        b_effect = b * (1 + effect)\n",
    "        errors_aa.append(stats.ttest_ind(a, b).pvalue < alpha)\n",
    "        errors_ab.append(stats.ttest_ind(a, b_effect).pvalue >= alpha)\n",
    "\n",
    "    estimated_first_type_error = np.mean(errors_aa)\n",
    "    estimated_second_type_error = np.mean(errors_ab)\n",
    "    ci_first = estimate_ci_bernoulli(estimated_first_type_error, len(errors_aa))\n",
    "    ci_second = estimate_ci_bernoulli(estimated_second_type_error, len(errors_ab))\n",
    "    print(f'count_exp = {count_exp}')\n",
    "    print(f'sample_size = {sample_size}')\n",
    "    print(f'оценка вероятности ошибки I рода = {estimated_first_type_error:0.4f}')\n",
    "    print(f'  доверительный интервал = [{ci_first[0]:0.4f}, {ci_first[1]:0.4f}]')\n",
    "    print(f'оценка вероятности ошибки II рода = {estimated_second_type_error:0.4f}')\n",
    "    print(f'  доверительный интервал = [{ci_second[0]:0.4f}, {ci_second[1]:0.4f}]')\n"
   ]
  },
  {
   "cell_type": "markdown",
   "id": "788b3feb-f844-4320-b90a-fcacb29510d3",
   "metadata": {},
   "source": [
    "## Задача 2. Количество параллельных экспериментов — 2"
   ]
  },
  {
   "cell_type": "markdown",
   "id": "3e60f171-c617-43ac-a283-474a731f4ff5",
   "metadata": {},
   "source": [
    "Задача похожа на предыдущую, только теперь __решение принимается не независимо для каждого эксперимента.__\n",
    "Например, у нас есть 5 текстов для маркетинговой рассылки, хотим проверить, какой эффективнее работает и работает ли вообще.\n",
    "\n",
    "__Алгоритм будет следующий:__\n",
    "1. Формируем непересекающиеся контрольные и экспериментальные группы для каждого из 5 вариантов.\n",
    "2. Проводим параллельно 5 экспериментов.\n",
    "3. С помощью метода Холма определяем, в каких экспериментах были статистически значимые отличия.\n",
    "4. Если значимых отличий не обнаружено, то говорим, что эффекта нет, все варианты отклоняем.\n",
    "5. Если значимые отличия обнаружены, то из вариантов со значимым эффектом выбираем вариант с наименьшим значением p-value, будем использовать его.\n",
    "\n",
    "Будем считать, что __совершена ошибка I рода__, если найдены значимые отличия, когда на самом деле их не было ни в одном из вариантов.\n",
    "\n",
    "Будем считать, что __совершена ошибка II рода__, если:\n",
    "- либо не найдено значимых отличий, когда на самом деле они были;\n",
    "- либо выбранный для дальнейшего использования вариант на самом деле был без эффекта, при этом были варианты с эффектом.\n",
    "\n",
    "__Параметры экспериментов:__\n",
    "- проверяем гипотезу о равенстве средних;\n",
    "- уровень значимости — 0.05;\n",
    "- допустимая вероятность ошибки II рода — 0.1;\n",
    "- ожидаемый эффект — увеличение значений на 3%;\n",
    "- способ добавления эффекта в синтетических А/Б экспериментах — умножение на константу.\n",
    "\n",
    "Замечание: при оценке вероятности ошибки II рода нужно рассматривать худший сценарий, когда эффект есть только в одном из экспериментов. Чем в большем количестве экспериментов будет эффект, тем меньше будет вероятность ошибки II рода.\n",
    "\n",
    "Будем считать, что распределение измеряемых величин является нормальным распределением со средним 100 и стандартным отклонением 10.\n",
    "\n",
    "В качестве ответа введите максимально возможное количество экспериментов, которое можно запустить с указанными выше параметрами.\n",
    "\n"
   ]
  },
  {
   "cell_type": "code",
   "execution_count": 7,
   "id": "3228d6cb-9020-4c6c-bd70-b5708db89f0e",
   "metadata": {},
   "outputs": [],
   "source": [
    "def bonferroni_method(pvalues, alpha=0.05):\n",
    "    \"\"\"\n",
    "    Carries out Bonferroni correction.\n",
    "\n",
    "    pvalues - list of pvalues.\n",
    "    alpha -  level of significance.\n",
    "    return - array of 0/1 flags indicating presence/absence of effect.\n",
    "    \"\"\"\n",
    "    pvalues = np.array(pvalues)\n",
    "    \n",
    "    return np.array(pvalues < (alpha / pvalues.shape[0])).astype(int)\n",
    "\n",
    "\n",
    "def holm_method(pvalues, alpha=0.05):\n",
    "    \"\"\"\n",
    "    Carries out Holm method correction.\n",
    "\n",
    "    pvalues - list of pvalues.\n",
    "    alpha -  level of significance.\n",
    "    return - array of 0/1 flags indicating presence/absence of effect.\n",
    "    \"\"\"\n",
    "    n = len(pvalues)\n",
    "    \n",
    "    alphas = alpha / np.arange(n, 0, -1) #Array of alpha divided by indices.\n",
    "    sorted_indices = np.argsort(pvalues)\n",
    "    res = np.zeros(n)\n",
    "    \n",
    "    for (i, pv_i) in enumerate(sorted_indices):\n",
    "        if pvalues[pv_i] < alphas[i]:\n",
    "            res[pv_i] = 1\n",
    "        else:\n",
    "            break\n",
    "\n",
    "    return res.astype(int)"
   ]
  },
  {
   "cell_type": "code",
   "execution_count": 8,
   "id": "a83050d5-d763-4ea9-bbbd-0737873a472d",
   "metadata": {},
   "outputs": [],
   "source": [
    "correction_ = holm_method"
   ]
  },
  {
   "cell_type": "code",
   "execution_count": 9,
   "id": "9cc33057-f94f-45b6-9fe5-c93a35dcdaae",
   "metadata": {},
   "outputs": [
    {
     "data": {
      "text/plain": [
       "array([1, 1])"
      ]
     },
     "execution_count": 9,
     "metadata": {},
     "output_type": "execute_result"
    }
   ],
   "source": [
    "holm_method([0.05/2, 0.0009])"
   ]
  },
  {
   "cell_type": "code",
   "execution_count": 10,
   "id": "3a1a653f-b935-438a-8c72-b879b67f5834",
   "metadata": {},
   "outputs": [],
   "source": [
    "def check_experiment_design_dep(number_of_experiments, N=10_000):\n",
    "    group_size = int(obs_num / 2)\n",
    "    experiment_size = int(group_size / number_of_experiments)\n",
    "    aa_res, ab_res = [], []\n",
    "    \n",
    "    for _ in tqdm(range(N)):\n",
    "        metric_a, metric_b = np.random.normal(loc=mean_, scale=std_, size=(2, group_size))\n",
    "        \n",
    "        metric_b_eff = metric_b.copy()\n",
    "        metric_b_eff[:experiment_size] *= (1.0 + effect_)\n",
    "        \n",
    "        aa_step, ab_step = [], []\n",
    "        \n",
    "        for i in range(number_of_experiments):\n",
    "            beg_ = i * experiment_size\n",
    "            end_ = beg_ + experiment_size - 1\n",
    "            \n",
    "            aa_step.append(test_(metric_a[beg_:end_], metric_b[beg_:end_]).pvalue)\n",
    "            ab_step.append(test_(metric_a[beg_:end_], metric_b_eff[beg_:end_]).pvalue)\n",
    "        \n",
    "        aa_res.append(correction_(aa_step).max()) #If any of them is 1, then type I error.\n",
    "        ab_res.append(correction_(ab_step)[0]) #If the first one with effect is not 1, then type II error.\n",
    "        \n",
    "    return ((np.array(aa_res) == 1).mean(), (np.array(ab_res) != 1).mean())\n",
    "\n",
    "\n",
    "res_string = '{:.0f}: I order: {:.4f} [{}]; II order: {:.4f} [{}]'"
   ]
  },
  {
   "cell_type": "code",
   "execution_count": 11,
   "id": "addbef0d-69bc-4a52-b250-ac5ee982fd25",
   "metadata": {},
   "outputs": [
    {
     "data": {
      "application/json": {
       "ascii": false,
       "bar_format": null,
       "colour": null,
       "elapsed": 0.021288633346557617,
       "initial": 0,
       "n": 0,
       "ncols": null,
       "nrows": null,
       "postfix": null,
       "prefix": "",
       "rate": null,
       "total": 1000,
       "unit": "it",
       "unit_divisor": 1000,
       "unit_scale": false
      },
      "application/vnd.jupyter.widget-view+json": {
       "model_id": "7d01ad482434453495809e6a7095536c",
       "version_major": 2,
       "version_minor": 0
      },
      "text/plain": [
       "  0%|          | 0/1000 [00:00<?, ?it/s]"
      ]
     },
     "metadata": {},
     "output_type": "display_data"
    },
    {
     "name": "stdout",
     "output_type": "stream",
     "text": [
      "20: I order: 0.0480 [True]; II order: 0.4180 [False]\n"
     ]
    },
    {
     "data": {
      "application/json": {
       "ascii": false,
       "bar_format": null,
       "colour": null,
       "elapsed": 0.021053791046142578,
       "initial": 0,
       "n": 0,
       "ncols": null,
       "nrows": null,
       "postfix": null,
       "prefix": "",
       "rate": null,
       "total": 1000,
       "unit": "it",
       "unit_divisor": 1000,
       "unit_scale": false
      },
      "application/vnd.jupyter.widget-view+json": {
       "model_id": "ff37e727e1db4c5ba96d4218c09fc5c3",
       "version_major": 2,
       "version_minor": 0
      },
      "text/plain": [
       "  0%|          | 0/1000 [00:00<?, ?it/s]"
      ]
     },
     "metadata": {},
     "output_type": "display_data"
    },
    {
     "name": "stdout",
     "output_type": "stream",
     "text": [
      "21: I order: 0.0510 [False]; II order: 0.4530 [False]\n"
     ]
    },
    {
     "data": {
      "application/json": {
       "ascii": false,
       "bar_format": null,
       "colour": null,
       "elapsed": 0.02106928825378418,
       "initial": 0,
       "n": 0,
       "ncols": null,
       "nrows": null,
       "postfix": null,
       "prefix": "",
       "rate": null,
       "total": 1000,
       "unit": "it",
       "unit_divisor": 1000,
       "unit_scale": false
      },
      "application/vnd.jupyter.widget-view+json": {
       "model_id": "f3953a368d6f4252993e72cd665a41c2",
       "version_major": 2,
       "version_minor": 0
      },
      "text/plain": [
       "  0%|          | 0/1000 [00:00<?, ?it/s]"
      ]
     },
     "metadata": {},
     "output_type": "display_data"
    },
    {
     "name": "stdout",
     "output_type": "stream",
     "text": [
      "22: I order: 0.0510 [False]; II order: 0.4840 [False]\n"
     ]
    }
   ],
   "source": [
    "for n in (res_1-1, res_1, res_1+1):\n",
    "    p_i, p_ii = check_experiment_design_dep(n, N=1_000)\n",
    "    print(res_string.format(n, p_i, p_i < alpha_, p_ii, p_ii < beta_))"
   ]
  },
  {
   "cell_type": "code",
   "execution_count": 12,
   "id": "acd985b1-cd2e-4a6e-9beb-40522f80ee68",
   "metadata": {},
   "outputs": [
    {
     "data": {
      "application/json": {
       "ascii": false,
       "bar_format": null,
       "colour": null,
       "elapsed": 0.02322554588317871,
       "initial": 0,
       "n": 0,
       "ncols": null,
       "nrows": null,
       "postfix": null,
       "prefix": "",
       "rate": null,
       "total": 10000,
       "unit": "it",
       "unit_divisor": 1000,
       "unit_scale": false
      },
      "application/vnd.jupyter.widget-view+json": {
       "model_id": "62d24b3b1c364bb9946c2a05352fb932",
       "version_major": 2,
       "version_minor": 0
      },
      "text/plain": [
       "  0%|          | 0/10000 [00:00<?, ?it/s]"
      ]
     },
     "metadata": {},
     "output_type": "display_data"
    },
    {
     "name": "stdout",
     "output_type": "stream",
     "text": [
      "1: I order: 0.0514 [False]; II order: 0.0000 [True]\n"
     ]
    },
    {
     "data": {
      "application/json": {
       "ascii": false,
       "bar_format": null,
       "colour": null,
       "elapsed": 0.022065162658691406,
       "initial": 0,
       "n": 0,
       "ncols": null,
       "nrows": null,
       "postfix": null,
       "prefix": "",
       "rate": null,
       "total": 10000,
       "unit": "it",
       "unit_divisor": 1000,
       "unit_scale": false
      },
      "application/vnd.jupyter.widget-view+json": {
       "model_id": "ec43e161c5b8486aa0915c44f0161187",
       "version_major": 2,
       "version_minor": 0
      },
      "text/plain": [
       "  0%|          | 0/10000 [00:00<?, ?it/s]"
      ]
     },
     "metadata": {},
     "output_type": "display_data"
    },
    {
     "name": "stdout",
     "output_type": "stream",
     "text": [
      "2: I order: 0.0507 [False]; II order: 0.0000 [True]\n"
     ]
    },
    {
     "data": {
      "application/json": {
       "ascii": false,
       "bar_format": null,
       "colour": null,
       "elapsed": 0.019757747650146484,
       "initial": 0,
       "n": 0,
       "ncols": null,
       "nrows": null,
       "postfix": null,
       "prefix": "",
       "rate": null,
       "total": 10000,
       "unit": "it",
       "unit_divisor": 1000,
       "unit_scale": false
      },
      "application/vnd.jupyter.widget-view+json": {
       "model_id": "03ac8b697057422a83fd6ee48901637b",
       "version_major": 2,
       "version_minor": 0
      },
      "text/plain": [
       "  0%|          | 0/10000 [00:00<?, ?it/s]"
      ]
     },
     "metadata": {},
     "output_type": "display_data"
    },
    {
     "name": "stdout",
     "output_type": "stream",
     "text": [
      "3: I order: 0.0502 [False]; II order: 0.0000 [True]\n"
     ]
    },
    {
     "data": {
      "application/json": {
       "ascii": false,
       "bar_format": null,
       "colour": null,
       "elapsed": 0.024541854858398438,
       "initial": 0,
       "n": 0,
       "ncols": null,
       "nrows": null,
       "postfix": null,
       "prefix": "",
       "rate": null,
       "total": 10000,
       "unit": "it",
       "unit_divisor": 1000,
       "unit_scale": false
      },
      "application/vnd.jupyter.widget-view+json": {
       "model_id": "a4ede2a808a2436a82f366a58900f11f",
       "version_major": 2,
       "version_minor": 0
      },
      "text/plain": [
       "  0%|          | 0/10000 [00:00<?, ?it/s]"
      ]
     },
     "metadata": {},
     "output_type": "display_data"
    },
    {
     "name": "stdout",
     "output_type": "stream",
     "text": [
      "4: I order: 0.0522 [False]; II order: 0.0000 [True]\n"
     ]
    },
    {
     "data": {
      "application/json": {
       "ascii": false,
       "bar_format": null,
       "colour": null,
       "elapsed": 0.019914627075195312,
       "initial": 0,
       "n": 0,
       "ncols": null,
       "nrows": null,
       "postfix": null,
       "prefix": "",
       "rate": null,
       "total": 10000,
       "unit": "it",
       "unit_divisor": 1000,
       "unit_scale": false
      },
      "application/vnd.jupyter.widget-view+json": {
       "model_id": "20c4252baf284181bad8f50d7d59d692",
       "version_major": 2,
       "version_minor": 0
      },
      "text/plain": [
       "  0%|          | 0/10000 [00:00<?, ?it/s]"
      ]
     },
     "metadata": {},
     "output_type": "display_data"
    },
    {
     "name": "stdout",
     "output_type": "stream",
     "text": [
      "5: I order: 0.0477 [True]; II order: 0.0000 [True]\n"
     ]
    },
    {
     "data": {
      "application/json": {
       "ascii": false,
       "bar_format": null,
       "colour": null,
       "elapsed": 0.020997285842895508,
       "initial": 0,
       "n": 0,
       "ncols": null,
       "nrows": null,
       "postfix": null,
       "prefix": "",
       "rate": null,
       "total": 10000,
       "unit": "it",
       "unit_divisor": 1000,
       "unit_scale": false
      },
      "application/vnd.jupyter.widget-view+json": {
       "model_id": "828ae7cc6a7243a1b85ee3fb2969c2d2",
       "version_major": 2,
       "version_minor": 0
      },
      "text/plain": [
       "  0%|          | 0/10000 [00:00<?, ?it/s]"
      ]
     },
     "metadata": {},
     "output_type": "display_data"
    },
    {
     "name": "stdout",
     "output_type": "stream",
     "text": [
      "6: I order: 0.0440 [True]; II order: 0.0004 [True]\n"
     ]
    },
    {
     "data": {
      "application/json": {
       "ascii": false,
       "bar_format": null,
       "colour": null,
       "elapsed": 0.024576425552368164,
       "initial": 0,
       "n": 0,
       "ncols": null,
       "nrows": null,
       "postfix": null,
       "prefix": "",
       "rate": null,
       "total": 10000,
       "unit": "it",
       "unit_divisor": 1000,
       "unit_scale": false
      },
      "application/vnd.jupyter.widget-view+json": {
       "model_id": "6985132fcab142faaa60fa1ac18f4bae",
       "version_major": 2,
       "version_minor": 0
      },
      "text/plain": [
       "  0%|          | 0/10000 [00:00<?, ?it/s]"
      ]
     },
     "metadata": {},
     "output_type": "display_data"
    },
    {
     "name": "stdout",
     "output_type": "stream",
     "text": [
      "7: I order: 0.0478 [True]; II order: 0.0023 [True]\n"
     ]
    },
    {
     "data": {
      "application/json": {
       "ascii": false,
       "bar_format": null,
       "colour": null,
       "elapsed": 0.023697614669799805,
       "initial": 0,
       "n": 0,
       "ncols": null,
       "nrows": null,
       "postfix": null,
       "prefix": "",
       "rate": null,
       "total": 10000,
       "unit": "it",
       "unit_divisor": 1000,
       "unit_scale": false
      },
      "application/vnd.jupyter.widget-view+json": {
       "model_id": "209850cad44849b4afc6d94b330e5aed",
       "version_major": 2,
       "version_minor": 0
      },
      "text/plain": [
       "  0%|          | 0/10000 [00:00<?, ?it/s]"
      ]
     },
     "metadata": {},
     "output_type": "display_data"
    },
    {
     "name": "stdout",
     "output_type": "stream",
     "text": [
      "8: I order: 0.0502 [False]; II order: 0.0066 [True]\n"
     ]
    },
    {
     "data": {
      "application/json": {
       "ascii": false,
       "bar_format": null,
       "colour": null,
       "elapsed": 0.02464747428894043,
       "initial": 0,
       "n": 0,
       "ncols": null,
       "nrows": null,
       "postfix": null,
       "prefix": "",
       "rate": null,
       "total": 10000,
       "unit": "it",
       "unit_divisor": 1000,
       "unit_scale": false
      },
      "application/vnd.jupyter.widget-view+json": {
       "model_id": "88e26fdce46f4b569e3055f4686d012f",
       "version_major": 2,
       "version_minor": 0
      },
      "text/plain": [
       "  0%|          | 0/10000 [00:00<?, ?it/s]"
      ]
     },
     "metadata": {},
     "output_type": "display_data"
    },
    {
     "name": "stdout",
     "output_type": "stream",
     "text": [
      "9: I order: 0.0494 [True]; II order: 0.0159 [True]\n"
     ]
    },
    {
     "data": {
      "application/json": {
       "ascii": false,
       "bar_format": null,
       "colour": null,
       "elapsed": 0.021074771881103516,
       "initial": 0,
       "n": 0,
       "ncols": null,
       "nrows": null,
       "postfix": null,
       "prefix": "",
       "rate": null,
       "total": 10000,
       "unit": "it",
       "unit_divisor": 1000,
       "unit_scale": false
      },
      "application/vnd.jupyter.widget-view+json": {
       "model_id": "3c2a8cb7832f41ceb3a5ffef7553f964",
       "version_major": 2,
       "version_minor": 0
      },
      "text/plain": [
       "  0%|          | 0/10000 [00:00<?, ?it/s]"
      ]
     },
     "metadata": {},
     "output_type": "display_data"
    },
    {
     "name": "stdout",
     "output_type": "stream",
     "text": [
      "10: I order: 0.0452 [True]; II order: 0.0315 [True]\n"
     ]
    },
    {
     "data": {
      "application/json": {
       "ascii": false,
       "bar_format": null,
       "colour": null,
       "elapsed": 0.032377004623413086,
       "initial": 0,
       "n": 0,
       "ncols": null,
       "nrows": null,
       "postfix": null,
       "prefix": "",
       "rate": null,
       "total": 10000,
       "unit": "it",
       "unit_divisor": 1000,
       "unit_scale": false
      },
      "application/vnd.jupyter.widget-view+json": {
       "model_id": "f9f4083c18ac4b08848623f56dafbe8c",
       "version_major": 2,
       "version_minor": 0
      },
      "text/plain": [
       "  0%|          | 0/10000 [00:00<?, ?it/s]"
      ]
     },
     "metadata": {},
     "output_type": "display_data"
    },
    {
     "name": "stdout",
     "output_type": "stream",
     "text": [
      "11: I order: 0.0476 [True]; II order: 0.0525 [True]\n"
     ]
    },
    {
     "data": {
      "application/json": {
       "ascii": false,
       "bar_format": null,
       "colour": null,
       "elapsed": 0.025684356689453125,
       "initial": 0,
       "n": 0,
       "ncols": null,
       "nrows": null,
       "postfix": null,
       "prefix": "",
       "rate": null,
       "total": 10000,
       "unit": "it",
       "unit_divisor": 1000,
       "unit_scale": false
      },
      "application/vnd.jupyter.widget-view+json": {
       "model_id": "05628deedc0b4c6c9002aaebb5fbdc96",
       "version_major": 2,
       "version_minor": 0
      },
      "text/plain": [
       "  0%|          | 0/10000 [00:00<?, ?it/s]"
      ]
     },
     "metadata": {},
     "output_type": "display_data"
    },
    {
     "name": "stdout",
     "output_type": "stream",
     "text": [
      "12: I order: 0.0481 [True]; II order: 0.0789 [True]\n"
     ]
    },
    {
     "data": {
      "application/json": {
       "ascii": false,
       "bar_format": null,
       "colour": null,
       "elapsed": 0.019354820251464844,
       "initial": 0,
       "n": 0,
       "ncols": null,
       "nrows": null,
       "postfix": null,
       "prefix": "",
       "rate": null,
       "total": 10000,
       "unit": "it",
       "unit_divisor": 1000,
       "unit_scale": false
      },
      "application/vnd.jupyter.widget-view+json": {
       "model_id": "316518078f69453c849e2999e1acc44f",
       "version_major": 2,
       "version_minor": 0
      },
      "text/plain": [
       "  0%|          | 0/10000 [00:00<?, ?it/s]"
      ]
     },
     "metadata": {},
     "output_type": "display_data"
    },
    {
     "name": "stdout",
     "output_type": "stream",
     "text": [
      "13: I order: 0.0493 [True]; II order: 0.1194 [False]\n"
     ]
    },
    {
     "data": {
      "application/json": {
       "ascii": false,
       "bar_format": null,
       "colour": null,
       "elapsed": 0.021686553955078125,
       "initial": 0,
       "n": 0,
       "ncols": null,
       "nrows": null,
       "postfix": null,
       "prefix": "",
       "rate": null,
       "total": 10000,
       "unit": "it",
       "unit_divisor": 1000,
       "unit_scale": false
      },
      "application/vnd.jupyter.widget-view+json": {
       "model_id": "364c3a626c2842a68146a60a6b4dde3c",
       "version_major": 2,
       "version_minor": 0
      },
      "text/plain": [
       "  0%|          | 0/10000 [00:00<?, ?it/s]"
      ]
     },
     "metadata": {},
     "output_type": "display_data"
    },
    {
     "name": "stdout",
     "output_type": "stream",
     "text": [
      "14: I order: 0.0498 [True]; II order: 0.1496 [False]\n"
     ]
    }
   ],
   "source": [
    "# for n in range(1, res_1+1): #Used for initial run, gave 12.\n",
    "for n in range(1, 14+1):\n",
    "    p_i, p_ii = check_experiment_design_dep(n, N=10_000)\n",
    "    print(res_string.format(n, p_i, p_i < alpha_, p_ii, p_ii < beta_))"
   ]
  },
  {
   "cell_type": "code",
   "execution_count": 13,
   "id": "b3d0b14c-59b9-4df9-a2dd-1df4042a5b5d",
   "metadata": {},
   "outputs": [],
   "source": [
    "\"\"\"12: I order: 0.0490 [True]; II order: 0.0960 [True]\"\"\"\n",
    "#Chose the maximum one with acceptable II order rate. Lucky it was the right answer from the first try.\n",
    "res_2 = 12"
   ]
  },
  {
   "cell_type": "code",
   "execution_count": 14,
   "id": "7a3a882a-f622-48a9-a7f6-e5308db12685",
   "metadata": {},
   "outputs": [
    {
     "data": {
      "application/json": {
       "ascii": false,
       "bar_format": null,
       "colour": null,
       "elapsed": 0.023049354553222656,
       "initial": 0,
       "n": 0,
       "ncols": null,
       "nrows": null,
       "postfix": null,
       "prefix": "",
       "rate": null,
       "total": 10000,
       "unit": "it",
       "unit_divisor": 1000,
       "unit_scale": false
      },
      "application/vnd.jupyter.widget-view+json": {
       "model_id": "874a9f725e844084baa3c031eae8d346",
       "version_major": 2,
       "version_minor": 0
      },
      "text/plain": [
       "  0%|          | 0/10000 [00:00<?, ?it/s]"
      ]
     },
     "metadata": {},
     "output_type": "display_data"
    },
    {
     "name": "stdout",
     "output_type": "stream",
     "text": [
      "count_exp = 12\n",
      "sample_size = 416\n",
      "оценка вероятности ошибки I рода = 0.0520\n",
      "  доверительный интервал = [0.0476, 0.0564]\n",
      "оценка вероятности ошибки II рода = 0.0835\n",
      "  доверительный интервал = [0.0781, 0.0889]\n"
     ]
    },
    {
     "data": {
      "application/json": {
       "ascii": false,
       "bar_format": null,
       "colour": null,
       "elapsed": 0.02236199378967285,
       "initial": 0,
       "n": 0,
       "ncols": null,
       "nrows": null,
       "postfix": null,
       "prefix": "",
       "rate": null,
       "total": 10000,
       "unit": "it",
       "unit_divisor": 1000,
       "unit_scale": false
      },
      "application/vnd.jupyter.widget-view+json": {
       "model_id": "6e289c226c014f0a8ad3d34fbcd5ca7c",
       "version_major": 2,
       "version_minor": 0
      },
      "text/plain": [
       "  0%|          | 0/10000 [00:00<?, ?it/s]"
      ]
     },
     "metadata": {},
     "output_type": "display_data"
    },
    {
     "name": "stdout",
     "output_type": "stream",
     "text": [
      "count_exp = 13\n",
      "sample_size = 384\n",
      "оценка вероятности ошибки I рода = 0.0467\n",
      "  доверительный интервал = [0.0426, 0.0508]\n",
      "оценка вероятности ошибки II рода = 0.1239\n",
      "  доверительный интервал = [0.1174, 0.1304]\n"
     ]
    }
   ],
   "source": [
    "# Solution\n",
    "def method_holm(pvalues, alpha=0.05):\n",
    "    \"\"\"Применяет метод Холма для проверки значимости изменений.\n",
    "    \n",
    "    pvalues - List[float] - список pvalue.\n",
    "    alpha - float, уровень значимости.\n",
    "    return - np.array, массив из нулей и единиц, 0 - эффекта нет, 1 - эффект есть.\n",
    "    \"\"\"\n",
    "    m = len(pvalues)\n",
    "    array_alpha = np.arange(m, 0, -1)\n",
    "    array_alpha = alpha / array_alpha\n",
    "    sorted_pvalue_indexes = np.argsort(pvalues)\n",
    "    res = np.zeros(m)\n",
    "    for idx, pvalue_index in enumerate(sorted_pvalue_indexes):\n",
    "        pvalue = pvalues[pvalue_index]\n",
    "        alpha_ = array_alpha[idx]\n",
    "        if pvalue < alpha_:\n",
    "            res[pvalue_index] = 1\n",
    "        else:\n",
    "            break\n",
    "    res = res.astype(int)\n",
    "    return res\n",
    "\n",
    "# Проверим, что при 12 эксперимента ошибки контролируются на заданных уровнях, а при 13 экспериментах нет.\n",
    "\n",
    "for count_exp in [12, 13]:\n",
    "    errors_aa = []\n",
    "    errors_ab = []\n",
    "    sample_size = int(total_size / (int(count_exp) * 2))\n",
    "    for _ in tqdm(range(10000)):\n",
    "        list_ab_values = [\n",
    "            np.random.normal(mean_, std_, (2, sample_size))\n",
    "            for _ in range(count_exp)\n",
    "        ]\n",
    "        # синтетический А/А тест\n",
    "        pvalues = [stats.ttest_ind(a, b).pvalue for a, b in list_ab_values]\n",
    "        aa_with_effect = method_holm(pvalues, alpha)\n",
    "        errors_aa.append(np.sum(aa_with_effect) > 0)\n",
    "\n",
    "        # Синтетический А/Б тест.\n",
    "        # Достаточно проверить случай, когда эффект есть лишь в одном из экспериментов,\n",
    "        # так как при наличии эффектов в большем кол-ве экспериментов ошибок II рода станет меньше.\n",
    "        # Добавим эффект в первый эксперимент (не важно в какой добавлять, так как данные случайные)\n",
    "        list_ab_values[0][1] *= 1 + effect\n",
    "        pvalues = [stats.ttest_ind(a, b).pvalue for a, b in list_ab_values]\n",
    "        ab_with_effect = method_holm(pvalues, alpha)\n",
    "        if np.sum(ab_with_effect) == 0:\n",
    "            # если эффектов не найдено, то это ошибка\n",
    "            errors_ab.append(True)\n",
    "        else:\n",
    "            # если эффектов найден где его нет, то это ошибка\n",
    "            errors_ab.append(np.min(pvalues) != pvalues[0])\n",
    "\n",
    "    estimated_first_type_error = np.mean(errors_aa)\n",
    "    estimated_second_type_error = np.mean(errors_ab)\n",
    "    ci_first = estimate_ci_bernoulli(estimated_first_type_error, len(errors_aa))\n",
    "    ci_second = estimate_ci_bernoulli(estimated_second_type_error, len(errors_ab))\n",
    "    print(f'count_exp = {count_exp}')\n",
    "    print(f'sample_size = {sample_size}')\n",
    "    print(f'оценка вероятности ошибки I рода = {estimated_first_type_error:0.4f}')\n",
    "    print(f'  доверительный интервал = [{ci_first[0]:0.4f}, {ci_first[1]:0.4f}]')\n",
    "    print(f'оценка вероятности ошибки II рода = {estimated_second_type_error:0.4f}')\n",
    "    print(f'  доверительный интервал = [{ci_second[0]:0.4f}, {ci_second[1]:0.4f}]')"
   ]
  },
  {
   "cell_type": "markdown",
   "id": "13cb64bd-e782-46e1-a47b-0dce645e04f9",
   "metadata": {},
   "source": [
    "Получили, что при 12 экспериментах всё корректно, а при 13 экспериментах вероятность ошибки II рода больше 0.1.\n",
    "\n",
    "__Получается, если мы проводим множественное тестирование, то за раз можем проверить меньшее количество гипотез, чем если бы проверяли независимые гипотезы.__ Это логично, так как мы предъявляем более строгое требование к вероятностям ошибок первого рода при множественном тестировании. Из-за этого наш критерий дополнительно перестраховывается и реже говорит, что эффект есть, что приводит к увеличению вероятности ошибок II рода. Компенсировать увеличение вероятности ошибок II рода приходится за счёт увеличения размера групп.\n",
    "\n"
   ]
  },
  {
   "cell_type": "code",
   "execution_count": null,
   "id": "3accbb57-d16d-4e56-a8a3-cb29d1ed0191",
   "metadata": {},
   "outputs": [],
   "source": []
  }
 ],
 "metadata": {
  "kernelspec": {
   "display_name": "Python 3 (ipykernel)",
   "language": "python",
   "name": "python3"
  },
  "language_info": {
   "codemirror_mode": {
    "name": "ipython",
    "version": 3
   },
   "file_extension": ".py",
   "mimetype": "text/x-python",
   "name": "python",
   "nbconvert_exporter": "python",
   "pygments_lexer": "ipython3",
   "version": "3.8.10"
  }
 },
 "nbformat": 4,
 "nbformat_minor": 5
}
