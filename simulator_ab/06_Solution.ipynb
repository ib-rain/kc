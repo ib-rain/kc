{
 "cells": [
  {
   "cell_type": "code",
   "execution_count": 1,
   "id": "8645ef83-3862-4b56-ae74-930e88b88ca3",
   "metadata": {},
   "outputs": [],
   "source": [
    "from _shared import *"
   ]
  },
  {
   "cell_type": "markdown",
   "id": "7df89736-b080-4e0a-b0d5-bc35c078fc66",
   "metadata": {
    "tags": []
   },
   "source": [
    "## Задача 1. Сколько выбросов удалять"
   ]
  },
  {
   "cell_type": "markdown",
   "id": "ebc758c3-68ac-49d9-820a-f762e53028b4",
   "metadata": {},
   "source": [
    "С одной стороны, при удалении выбросов снижается дисперсия, что приводит к увеличению чувствительности теста. С другой стороны, при удалении выбросов уменьшается размер выборки, что приводит к уменьшению чувствительности.\n",
    "\n",
    "Сравните мощности тестов с разной долей удаляемых данных:\n",
    "- Используйте данные о времени работы бэкенда `2022-04-01T12_df_web_logs.csv` в период с __2022-03-01__ по __2022-03-08__.\n",
    "- Уровень значимости — 0.05.\n",
    "- Размеры групп — 1000 человек (размер выборок будет больше, так как на одного человека приходится много значений).\n",
    "- Проверяем гипотезу о равенстве средних с помощью теста Стьюдента.\n",
    "- Ожидаемый эффект — увеличение времени обработки на 1%.\n",
    "- Эффект в синтетических А/В-тестах добавляем умножением на константу.\n",
    "\n",
    "В ответ введите номера вариантов, упорядоченные по уменьшению мощности. Например, «12345» означает, что вариант 1 обладает наибольшей мощностью, а вариант 5 — наименьшей.\n",
    "\n",
    "1. Удалить 0.02% выбросов;\n",
    "2. Удалить 0.2% выбросов;\n",
    "3. Удалить 2% выбросов;\n",
    "4. Удалить 10% выбросов;\n",
    "5. Удалить 20% выбросов.\n",
    "\n",
    "Удалить 2% выбросов означает, что нужно убрать по 1% минимальных и максимальных значений выборки. То есть оставить значения, которые лежат между `np.quantile(values, 0.01)` и `np.quantile(values, 0.99)`. Квантили вычислять для каждой из групп отдельно."
   ]
  },
  {
   "cell_type": "code",
   "execution_count": 2,
   "id": "882200dc-dba6-46fc-9348-f59daa97a9f4",
   "metadata": {},
   "outputs": [
    {
     "data": {
      "text/plain": [
       "array([0.0002, 0.002 , 0.02  , 0.1   , 0.2   ])"
      ]
     },
     "execution_count": 2,
     "metadata": {},
     "output_type": "execute_result"
    }
   ],
   "source": [
    "target_metric = 'load_time' #mean per user.\n",
    "\n",
    "filename = '2022-04-01T12_df_web_logs.csv'\n",
    "begin_date = '2022-03-01'\n",
    "end_date = '2022-03-08'\n",
    "\n",
    "alpha = 0.05\n",
    "criterion = stats.ttest_ind\n",
    "\n",
    "group_size = 1000\n",
    "effect_type = 'mul'\n",
    "mde = +0.01\n",
    "\n",
    "filter_quantiles = np.array([0.02, 0.20, 2.00, 10.00, 20.00]) / 100.0\n",
    "filter_quantiles"
   ]
  },
  {
   "cell_type": "code",
   "execution_count": 3,
   "id": "0a794661-ab7f-4c20-899d-9bac1e9fec42",
   "metadata": {},
   "outputs": [
    {
     "data": {
      "text/html": [
       "<div>\n",
       "<style scoped>\n",
       "    .dataframe tbody tr th:only-of-type {\n",
       "        vertical-align: middle;\n",
       "    }\n",
       "\n",
       "    .dataframe tbody tr th {\n",
       "        vertical-align: top;\n",
       "    }\n",
       "\n",
       "    .dataframe thead th {\n",
       "        text-align: right;\n",
       "    }\n",
       "</style>\n",
       "<table border=\"1\" class=\"dataframe\">\n",
       "  <thead>\n",
       "    <tr style=\"text-align: right;\">\n",
       "      <th></th>\n",
       "      <th>date</th>\n",
       "      <th>user_id</th>\n",
       "      <th>load_time</th>\n",
       "    </tr>\n",
       "  </thead>\n",
       "  <tbody>\n",
       "    <tr>\n",
       "      <th>885082</th>\n",
       "      <td>2022-03-01 00:00:02</td>\n",
       "      <td>434cf2</td>\n",
       "      <td>69.8</td>\n",
       "    </tr>\n",
       "    <tr>\n",
       "      <th>885083</th>\n",
       "      <td>2022-03-01 00:00:06</td>\n",
       "      <td>80fa93</td>\n",
       "      <td>86.3</td>\n",
       "    </tr>\n",
       "    <tr>\n",
       "      <th>885084</th>\n",
       "      <td>2022-03-01 00:02:20</td>\n",
       "      <td>434cf2</td>\n",
       "      <td>58.0</td>\n",
       "    </tr>\n",
       "    <tr>\n",
       "      <th>885085</th>\n",
       "      <td>2022-03-01 00:02:53</td>\n",
       "      <td>a0aaab</td>\n",
       "      <td>85.2</td>\n",
       "    </tr>\n",
       "    <tr>\n",
       "      <th>885086</th>\n",
       "      <td>2022-03-01 00:03:00</td>\n",
       "      <td>a22f92</td>\n",
       "      <td>92.5</td>\n",
       "    </tr>\n",
       "  </tbody>\n",
       "</table>\n",
       "</div>"
      ],
      "text/plain": [
       "                      date user_id  load_time\n",
       "885082 2022-03-01 00:00:02  434cf2       69.8\n",
       "885083 2022-03-01 00:00:06  80fa93       86.3\n",
       "885084 2022-03-01 00:02:20  434cf2       58.0\n",
       "885085 2022-03-01 00:02:53  a0aaab       85.2\n",
       "885086 2022-03-01 00:03:00  a22f92       92.5"
      ]
     },
     "execution_count": 3,
     "metadata": {},
     "output_type": "execute_result"
    }
   ],
   "source": [
    "df_web_logs = get_data_subset(\n",
    "    df=read_from_database(filename, [2]),\n",
    "    begin_date=begin_date,\n",
    "    end_date=end_date,\n",
    "    user_ids=None,\n",
    "    columns=['date', 'user_id', 'load_time']\n",
    ")\n",
    "\n",
    "df_web_logs.head()"
   ]
  },
  {
   "cell_type": "code",
   "execution_count": 4,
   "id": "7c8b29e8-eb9c-4da9-b00c-3d3354296ac1",
   "metadata": {},
   "outputs": [],
   "source": [
    "rng = np.random.default_rng(132)\n",
    "\n",
    "def remove_outliers_quantile(values: pd.Series, quantile_num: float=0.01):\n",
    "    return values.loc[\n",
    "        (values > np.quantile(values, quantile_num / 2.0))\n",
    "        & (values < np.quantile(values, 1.0 - quantile_num / 2.0))\n",
    "    ]\n",
    "\n",
    "\n",
    "def get_error_rates_outlier(df, N, outlier_quantiles, metric, effect_size, effect_type, rnd_perc=0.01):\n",
    "    error_rates = { oq: [] for oq in outlier_quantiles }\n",
    "\n",
    "    users = df['user_id'].unique()\n",
    "    \n",
    "    for _ in range(N):\n",
    "        users_sub = np.random.choice(users, group_size * 2, replace=False)\n",
    "        group_a, group_b = users_sub[:group_size], users_sub[group_size:]\n",
    "        \n",
    "        df_sub = (\n",
    "            df\n",
    "            .loc[\n",
    "                df['user_id'].isin(users_sub),\n",
    "                ['user_id', metric]\n",
    "            ].copy()\n",
    "        )\n",
    "        \n",
    "        for k in error_rates.keys():\n",
    "            sales_a = df_sub.loc[df_sub['user_id'].isin(group_a), metric]\n",
    "            sales_b = df_sub.loc[df_sub['user_id'].isin(group_b), metric]\n",
    "            \n",
    "            if effect_type == 'mul':\n",
    "                sales_b = sales_b * (1 + effect_size)\n",
    "                \n",
    "            elif effect_type == 'add':\n",
    "                effect = df_sub[metric].mean() * effect_size\n",
    "                sales_b = sales_b + effect\n",
    "\n",
    "            elif effect_type == 'rnd':\n",
    "                #effect = df_sub[metric].mean() * effect_size * group_size / (group_size * rnd_perc)\n",
    "                effect = sales_b.mean() * effect_size * group_size / (group_size * rnd_perc)\n",
    "                sales_b = sales_b + (rng.random(size=sales_b.shape[0]) < rnd_perc) * effect \n",
    "                \n",
    "            sales_a = remove_outliers_quantile(sales_a, k)\n",
    "            sales_b = remove_outliers_quantile(sales_b, k)\n",
    "            \n",
    "            error_rates[k].append(stats.ttest_ind(sales_a, sales_b).pvalue)\n",
    "        \n",
    "    return pd.DataFrame(error_rates)"
   ]
  },
  {
   "cell_type": "code",
   "execution_count": null,
   "id": "efc1dae7-b845-46d2-8ee4-0180313a8438",
   "metadata": {},
   "outputs": [],
   "source": [
    "error_rates = get_error_rates_outlier(\n",
    "    df=df_web_logs,\n",
    "    N=10_000,\n",
    "    outlier_quantiles=filter_quantiles,\n",
    "    metric=target_metric,\n",
    "    effect_size=mde,\n",
    "    effect_type='mul'\n",
    ")\n",
    "\n",
    "error_rates.head()"
   ]
  },
  {
   "cell_type": "code",
   "execution_count": null,
   "id": "272f75a9-ab8f-4a1b-b2a4-3b8445b880f6",
   "metadata": {},
   "outputs": [],
   "source": [
    "print('Type II rates:')\n",
    "for col in error_rates.columns:\n",
    "    print('{:.4f} - {:.4f}'.format(col, (error_rates[col] > alpha).mean()))\n",
    "    plot_pvalue_ecdf(error_rates[col], 'p-value ECDF for [{}]'.format(col))"
   ]
  },
  {
   "cell_type": "code",
   "execution_count": null,
   "id": "9c8daabc-86cb-4847-b6e5-a7deb7c0f139",
   "metadata": {},
   "outputs": [],
   "source": [
    "df_answer = (error_rates > alpha).mean().reset_index()\n",
    "df_answer.columns = ['quantile', 'type_ii_rate']\n",
    "\n",
    "df_answer['rnk'] = df_answer['quantile'].rank()\n",
    "\n",
    "df_answer.sort_values('type_ii_rate')\n",
    "#Answer is \"54321\"."
   ]
  },
  {
   "cell_type": "code",
   "execution_count": null,
   "id": "d252363a-8f25-4b2f-a2a8-da4bab83c2dd",
   "metadata": {},
   "outputs": [],
   "source": [
    "\"\".join([str(x) for x in df_answer.sort_values('type_ii_rate')['rnk'].astype(int).to_list()])"
   ]
  },
  {
   "cell_type": "code",
   "execution_count": null,
   "id": "0ff781d4-b499-4561-83d4-7587e5020f8a",
   "metadata": {},
   "outputs": [],
   "source": [
    "# Solution\n",
    "import os\n",
    "from datetime import datetime\n",
    "import numpy as np\n",
    "import pandas as pd\n",
    "from scipy import stats\n",
    "\n",
    "URL_BASE = 'https://raw.githubusercontent.com/ab-courses/simulator-ab-datasets/main/2022-04-01/'\n",
    "\n",
    "def read_database(file_name):\n",
    "    return pd.read_csv(os.path.join(URL_BASE, file_name))\n",
    "\n",
    "df_web_logs = read_database('2022-04-01T12_df_web_logs.csv')\n",
    "df_web_logs['date'] = pd.to_datetime(df_web_logs['date'])\n",
    "\n",
    "begin_date = datetime(2022, 3, 1)\n",
    "end_date = datetime(2022, 3, 8)\n",
    "df_metrics = (\n",
    "    df_web_logs\n",
    "    [(df_web_logs['date'] >= begin_date) & (df_web_logs['date'] < end_date)]\n",
    "    [['user_id', 'load_time']]\n",
    ")\n",
    "users = df_metrics['user_id'].unique()\n",
    "\n",
    "sample_size = 1000\n",
    "effect = 0.01\n",
    "alpha = 0.05\n",
    "quantiles = (0.0001, 0.001, 0.01, 0.05, 0.1,)\n",
    "quantile2errors = {q: [] for q in quantiles}\n",
    "\n",
    "for _ in range(10000):\n",
    "    a_users, b_users = np.random.choice(users, (2, sample_size,), False)\n",
    "    a_values = df_metrics.loc[df_metrics['user_id'].isin(a_users), 'load_time'].values\n",
    "    b_values = (\n",
    "        df_metrics.loc[df_metrics['user_id'].isin(b_users), 'load_time'].values\n",
    "        * (1 + effect)\n",
    "    )\n",
    "    for q in quantiles:\n",
    "        a_values_filtered = a_values[\n",
    "            (a_values > np.quantile(a_values, q))\n",
    "            & (a_values < np.quantile(a_values, 1-q))\n",
    "        ]\n",
    "        b_values_filtered = b_values[\n",
    "            (b_values > np.quantile(b_values, q))\n",
    "            & (b_values < np.quantile(b_values, 1-q))\n",
    "        ]\n",
    "        pvalue = stats.ttest_ind(a_values_filtered, b_values_filtered).pvalue\n",
    "        quantile2errors[q].append(pvalue > alpha)\n",
    "\n",
    "def process_results(quantile2errors):\n",
    "    \"\"\"Обрабатываем данные и выводим результат.\"\"\"\n",
    "    # список из элементов: номер варианта, квантиль, доля ошибок, список ошибок).\n",
    "    data = [\n",
    "        (idx+1, quantile, np.mean(errors), errors,)\n",
    "        for idx, (quantile, errors) in enumerate(quantile2errors.items())\n",
    "    ]\n",
    "    # сортируем по доле ошибок\n",
    "    data.sort(key=lambda x: x[2])\n",
    "\n",
    "    # проверим, что оценки мощности значимо отличаются друг от друга\n",
    "    print(f'idx={data[0][0]} quantile={data[0][1]}, power={1-data[0][2]:0.3f}')\n",
    "    for i in range(1, len(data)):\n",
    "        pvalue = stats.ttest_ind(data[i][3], data[i-1][3]).pvalue\n",
    "        if pvalue < 0.05:\n",
    "            msg = f'pvalue={pvalue:0.4f}, оценка мощности значимо отличается от предыдущей'\n",
    "        else:\n",
    "            msg = f'pvalue={pvalue:0.4f}, оценка мощности не отличается значимо от предыдущей'\n",
    "        print(f'idx={data[i][0]} quantile={data[i][1]}, power={1-data[i][2]:0.3f}, {msg}')\n",
    "    print('answer:', ''.join([str(x[0]) for x in data]))\n",
    "\n",
    "process_results(quantile2errors)\n"
   ]
  },
  {
   "cell_type": "markdown",
   "id": "df1283c0-121a-40ac-a765-05ee851eace3",
   "metadata": {},
   "source": [
    "## Задача 2. Сколько выбросов удалять — 2"
   ]
  },
  {
   "cell_type": "markdown",
   "id": "e6405bca-687c-4152-9397-7d2467759d00",
   "metadata": {},
   "source": [
    "Выполните то же задание, изменив способ добавления эффекта. Эффект в синтетических А/В-тестах добавляем добавлением константы к 1% данных.\n",
    "\n",
    "В ответ введите номера вариантов упорядоченные по уменьшению мощности. Например, «12345» означает, что вариант 1 обладает наибольшей мощностью, а вариант 5 — наименьшей.\n",
    "\n",
    "1. Удалить 0.02% выбросов;\n",
    "2. Удалить 0.2% выбросов;\n",
    "3. Удалить 2% выбросов;\n",
    "4. Удалить 10% выбросов;\n",
    "5. Удалить 20% выбросов.\n",
    "\n",
    "Удалить 2% выбросов означает, что нужно убрать по 1% минимальных и максимальных значений выборки. То есть оставить значения, которые лежат между `np.quantile(values, 0.01)` и `np.quantile(values, 0.99)`. Квантили вычислять для каждой из групп отдельно."
   ]
  },
  {
   "cell_type": "code",
   "execution_count": null,
   "id": "cdbf7da2-ed0f-4bbd-b4a7-e465ec687341",
   "metadata": {},
   "outputs": [],
   "source": [
    "error_rates2 = get_error_rates_outlier(\n",
    "    df=df_web_logs,\n",
    "    N=10_000,\n",
    "    outlier_quantiles=filter_quantiles,\n",
    "    metric=target_metric,\n",
    "    effect_size=mde,\n",
    "    effect_type='rnd',\n",
    "    rnd_perc=0.01\n",
    ")\n",
    "\n",
    "error_rates2.head()"
   ]
  },
  {
   "cell_type": "code",
   "execution_count": null,
   "id": "ad79c619-1df6-426c-a541-81b43b97733c",
   "metadata": {},
   "outputs": [],
   "source": [
    "print('Type II rates:')\n",
    "for col in error_rates2.columns:\n",
    "    print('{:.4f} - {:.4f}'.format(col, (error_rates2[col] > alpha).mean()))\n",
    "    plot_pvalue_ecdf(error_rates2[col], 'p-value ECDF for [{}]'.format(col))"
   ]
  },
  {
   "cell_type": "code",
   "execution_count": null,
   "id": "eb2f98b8-3300-48fe-9f98-4dad519060a7",
   "metadata": {},
   "outputs": [],
   "source": [
    "df_answer2 = (error_rates2 > alpha).mean().reset_index()\n",
    "df_answer2.columns = ['quantile', 'type_ii_rate']\n",
    "\n",
    "df_answer2['rnk'] = df_answer2['quantile'].rank()\n",
    "\n",
    "df_answer2.sort_values('type_ii_rate')\n",
    "#Answer is \"32541\"."
   ]
  },
  {
   "cell_type": "code",
   "execution_count": null,
   "id": "12f2b494-cab3-40ae-b002-3e30e23cc694",
   "metadata": {},
   "outputs": [],
   "source": [
    "\"\".join([str(x) for x in df_answer2.sort_values('type_ii_rate')['rnk'].astype(int).to_list()])"
   ]
  },
  {
   "cell_type": "code",
   "execution_count": null,
   "id": "56c64d47-99b7-4ef2-8028-68ec0bb70e32",
   "metadata": {},
   "outputs": [],
   "source": [
    "# Solution\n",
    "sample_size = 1000\n",
    "effect = 0.01\n",
    "alpha = 0.05\n",
    "quantiles = (0.0001, 0.001, 0.01, 0.05, 0.1,)\n",
    "quantile2errors = {q: [] for q in quantiles}\n",
    "\n",
    "for _ in range(10000):\n",
    "    a_users, b_users = np.random.choice(users, (2, sample_size,), False)\n",
    "    a_values = df_metrics.loc[df_metrics['user_id'].isin(a_users), 'load_time'].values\n",
    "    b_values = df_metrics.loc[df_metrics['user_id'].isin(b_users), 'load_time'].values\n",
    "    mean_ = b_values.mean()\n",
    "    indexes = np.random.choice(np.arange(len(b_values)), int(len(b_values) / 100), False)\n",
    "    b_values[indexes] += mean_ * effect * len(b_values) / len(indexes)\n",
    "\n",
    "    for q in quantiles:\n",
    "        a_values_filtered = a_values[\n",
    "            (a_values > np.quantile(a_values, q))\n",
    "            & (a_values < np.quantile(a_values, 1-q))\n",
    "        ]\n",
    "        b_values_filtered = b_values[\n",
    "            (b_values > np.quantile(b_values, q))\n",
    "            & (b_values < np.quantile(b_values, 1-q))\n",
    "        ]\n",
    "        pvalue = stats.ttest_ind(a_values_filtered, b_values_filtered).pvalue\n",
    "        quantile2errors[q].append(pvalue > alpha)\n",
    "\n",
    "process_results(quantile2errors)"
   ]
  },
  {
   "cell_type": "markdown",
   "id": "16829c92-dbd4-4d0e-a38f-f6a8d516b140",
   "metadata": {},
   "source": [
    "## Задача 3. Функция удаления выбросов"
   ]
  },
  {
   "cell_type": "code",
   "execution_count": null,
   "id": "a41ca2c0-c9b5-4377-9140-feead7ab3909",
   "metadata": {},
   "outputs": [],
   "source": [
    "\"\"\"\n",
    "Реализуйте функцию process_outliers.\n",
    "\n",
    "Шаблон решения\n",
    "\"\"\"\n",
    "import pandas as pd\n",
    "\n",
    "\n",
    "def process_outliers(metrics, bounds, outlier_process_type):\n",
    "    \"\"\"Возвращает новый датафрейм с обработанными выбросами в измерениях метрики.\n",
    "\n",
    "    :param metrics (pd.DataFrame): таблица со значениями метрики\n",
    "        со столбцами ['user_id', 'metric'].\n",
    "    :param bounds (tuple[float, float]): нижняя и верхняя границы метрики. Всё что\n",
    "        не попало между ними считаем выбросами.\n",
    "    :param outlier_process_type (str): способ обработки выбросов. Возможные варианты:\n",
    "        'drop' - удаляем измерение,\n",
    "        'clip' - заменяем выброс на значение ближайшей границы (lower_bound, upper_bound).\n",
    "    :return df: таблица со столбцами ['user_id', 'metric']\n",
    "    \"\"\"\n",
    "    res = metrics.copy()\n",
    "    \n",
    "    if outlier_process_type == 'drop':\n",
    "        res = res.loc[\n",
    "            (res['metric'] >= bounds[0])\n",
    "            & (res['metric'] <= bounds[1]),\n",
    "            :\n",
    "        ]\n",
    "\n",
    "    if outlier_process_type == 'clip':\n",
    "        # res['metric'] = res['metric'].apply(lambda x: min(max(x, bounds[0]), bounds[1]))\n",
    "        res.loc[res['metric'] < bounds[0], 'metric'] = bounds[0]\n",
    "        res.loc[res['metric'] > bounds[1], 'metric'] = bounds[1]\n",
    "\n",
    "    return res"
   ]
  },
  {
   "cell_type": "code",
   "execution_count": null,
   "id": "f0c47420-032f-4933-9457-4e3e95d40d26",
   "metadata": {},
   "outputs": [],
   "source": [
    "metrics = pd.DataFrame({'user_id': [1, 2, 3], 'metric': [1., 2, 3]})\n",
    "bounds = (0.1, 2.2,)\n",
    "\n",
    "outlier_process_type = 'drop'\n",
    "result = process_outliers(metrics, bounds, outlier_process_type)\n",
    "# result = pd.DataFrame({'user_id': [1, 2], 'metric': [1.0, 2.0]})\n",
    "result"
   ]
  },
  {
   "cell_type": "code",
   "execution_count": null,
   "id": "e5741913-cf11-4575-adcf-ac43e94e7ede",
   "metadata": {},
   "outputs": [],
   "source": [
    "outlier_process_type = 'clip'\n",
    "result = process_outliers(metrics, bounds, outlier_process_type)\n",
    "# result = pd.DataFrame({'user_id': [1, 2, 3], 'metric': [1.0, 2.0, 2.2]})\n",
    "result"
   ]
  },
  {
   "cell_type": "code",
   "execution_count": null,
   "id": "bdb3ca6a-76db-4210-9c48-441a559eaada",
   "metadata": {},
   "outputs": [],
   "source": [
    "# Solution\n",
    "def process_outliers(metrics, bounds, outlier_process_type):\n",
    "    lower_bound, upper_bound = bounds\n",
    "    metrics = metrics.copy()\n",
    "    if outlier_process_type == 'drop':\n",
    "        metrics = metrics[(metrics['metric'] >= lower_bound) & (metrics['metric'] <= upper_bound)]\n",
    "    elif outlier_process_type == 'clip':\n",
    "        metrics.loc[metrics['metric'] < lower_bound, 'metric'] = lower_bound\n",
    "        metrics.loc[metrics['metric'] > upper_bound, 'metric'] = upper_bound\n",
    "    else:\n",
    "        raise ValueError('Неверное значение outlier_process_type')\n",
    "    return metrics"
   ]
  },
  {
   "cell_type": "code",
   "execution_count": null,
   "id": "ef088cb6-d6cd-4f77-a9ec-b3e721b98542",
   "metadata": {},
   "outputs": [],
   "source": []
  }
 ],
 "metadata": {
  "kernelspec": {
   "display_name": "Python 3 (ipykernel)",
   "language": "python",
   "name": "python3"
  },
  "language_info": {
   "codemirror_mode": {
    "name": "ipython",
    "version": 3
   },
   "file_extension": ".py",
   "mimetype": "text/x-python",
   "name": "python",
   "nbconvert_exporter": "python",
   "pygments_lexer": "ipython3",
   "version": "3.8.10"
  }
 },
 "nbformat": 4,
 "nbformat_minor": 5
}
