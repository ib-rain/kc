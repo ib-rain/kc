{
 "cells": [
  {
   "cell_type": "code",
   "execution_count": 1,
   "id": "18697962-3549-4bc1-a619-5be0463fabd4",
   "metadata": {},
   "outputs": [],
   "source": [
    "from _shared import *"
   ]
  },
  {
   "cell_type": "markdown",
   "id": "fa37e3f1-aba4-4d5d-a1b7-01bd51a30bcd",
   "metadata": {
    "tags": []
   },
   "source": [
    "### Задача 1. Оценить необходимый размер групп\n",
    "\n",
    "Допустим, мы хотим провести эксперимент, в который попадают клиенты, совершившие покупку во время эксперимента.\n",
    "\n",
    "Метрика — средняя выручка с пользователя за время эксперимента;\n",
    "Продолжительность — одна неделя;\n",
    "Уровень значимости — 0.05;\n",
    "Допустимая вероятность ошибки II рода — 0.1;\n",
    "Ожидаемый эффект — 20 рублей.\n",
    "\n",
    "Оцените необходимый размер групп по данным о покупках за неделю с 21 по 28 февраля.\n",
    "Обратим внимание, что в выборку попадают события из полуинтервала [datetime(2022, 2, 21), datetime(2022, 2, 28)).\n",
    "\n",
    "Для решения используйте данные из файла `2022-04-01T12_df_sales.csv`.\n",
    "\n",
    "В качестве ответа введите необходимый размер групп, округлённый до целого числа десятков `round(x, -1)`."
   ]
  },
  {
   "cell_type": "code",
   "execution_count": 2,
   "id": "9656242d-b5dd-4668-9c07-4c37bd2d8921",
   "metadata": {},
   "outputs": [
    {
     "data": {
      "text/html": [
       "<div>\n",
       "<style scoped>\n",
       "    .dataframe tbody tr th:only-of-type {\n",
       "        vertical-align: middle;\n",
       "    }\n",
       "\n",
       "    .dataframe tbody tr th {\n",
       "        vertical-align: top;\n",
       "    }\n",
       "\n",
       "    .dataframe thead th {\n",
       "        text-align: right;\n",
       "    }\n",
       "</style>\n",
       "<table border=\"1\" class=\"dataframe\">\n",
       "  <thead>\n",
       "    <tr style=\"text-align: right;\">\n",
       "      <th></th>\n",
       "      <th>date</th>\n",
       "      <th>price</th>\n",
       "      <th>user_id</th>\n",
       "    </tr>\n",
       "  </thead>\n",
       "  <tbody>\n",
       "    <tr>\n",
       "      <th>63207</th>\n",
       "      <td>2022-02-21 10:02:02</td>\n",
       "      <td>3030</td>\n",
       "      <td>fcaa0f</td>\n",
       "    </tr>\n",
       "    <tr>\n",
       "      <th>63208</th>\n",
       "      <td>2022-02-21 10:04:43</td>\n",
       "      <td>2250</td>\n",
       "      <td>8d8445</td>\n",
       "    </tr>\n",
       "    <tr>\n",
       "      <th>63209</th>\n",
       "      <td>2022-02-21 10:05:40</td>\n",
       "      <td>780</td>\n",
       "      <td>e21af3</td>\n",
       "    </tr>\n",
       "    <tr>\n",
       "      <th>63210</th>\n",
       "      <td>2022-02-21 10:09:01</td>\n",
       "      <td>2880</td>\n",
       "      <td>e23104</td>\n",
       "    </tr>\n",
       "    <tr>\n",
       "      <th>63211</th>\n",
       "      <td>2022-02-21 10:11:20</td>\n",
       "      <td>1620</td>\n",
       "      <td>748932</td>\n",
       "    </tr>\n",
       "  </tbody>\n",
       "</table>\n",
       "</div>"
      ],
      "text/plain": [
       "                     date  price user_id\n",
       "63207 2022-02-21 10:02:02   3030  fcaa0f\n",
       "63208 2022-02-21 10:04:43   2250  8d8445\n",
       "63209 2022-02-21 10:05:40    780  e21af3\n",
       "63210 2022-02-21 10:09:01   2880  e23104\n",
       "63211 2022-02-21 10:11:20   1620  748932"
      ]
     },
     "execution_count": 2,
     "metadata": {},
     "output_type": "execute_result"
    }
   ],
   "source": [
    "df_sales = get_data_subset(\n",
    "    df=read_from_database('2022-04-01T12_df_sales.csv', [1]), \n",
    "    begin_date='2022-02-21',\n",
    "    end_date='2022-02-28',\n",
    "    user_ids=None,\n",
    "    columns=['date', 'price', 'user_id']\n",
    ")\n",
    "df_sales.head()"
   ]
  },
  {
   "cell_type": "code",
   "execution_count": 3,
   "id": "133c4c66-e273-4c0a-89c9-62d35f731a74",
   "metadata": {},
   "outputs": [
    {
     "data": {
      "text/plain": [
       "min   2022-02-21 10:02:02\n",
       "max   2022-02-27 21:59:54\n",
       "Name: date, dtype: datetime64[ns]"
      ]
     },
     "execution_count": 3,
     "metadata": {},
     "output_type": "execute_result"
    }
   ],
   "source": [
    "df_sales['date'].agg(['min', 'max'])"
   ]
  },
  {
   "cell_type": "code",
   "execution_count": 4,
   "id": "275cf8f8-0edd-4eaa-a3dc-1e6958d2b980",
   "metadata": {},
   "outputs": [
    {
     "data": {
      "text/plain": [
       "7"
      ]
     },
     "execution_count": 4,
     "metadata": {},
     "output_type": "execute_result"
    }
   ],
   "source": [
    "df_sales['date'].astype('datetime64[D]').nunique()"
   ]
  },
  {
   "cell_type": "code",
   "execution_count": 5,
   "id": "d719936a-5147-45de-9ebf-7a943967ec81",
   "metadata": {},
   "outputs": [
    {
     "data": {
      "text/plain": [
       "34570"
      ]
     },
     "execution_count": 5,
     "metadata": {},
     "output_type": "execute_result"
    }
   ],
   "source": [
    "metric = 'price' #Метрика — средняя выручка с пользователя за время эксперимента;\n",
    "duration = 7 #days - Продолжительность — одна неделя;\n",
    "alpha = 0.05 #Уровень значимости — 0.05;\n",
    "beta = 0.1 #Допустимая вероятность ошибки II рода — 0.1;\n",
    "epsilon = 20 #rub - Ожидаемый эффект — 20 рублей.\n",
    "\n",
    "revenue_per_user = df_sales.groupby('user_id')[metric].sum()\n",
    "metric_mean = revenue_per_user.mean()\n",
    "metric_std = revenue_per_user.std(ddof=0)\n",
    "\n",
    "required_event_number = get_sample_size_abs(epsilon, metric_std, alpha, beta)\n",
    "res_1 = round(required_event_number, -1)\n",
    "res_1"
   ]
  },
  {
   "cell_type": "code",
   "execution_count": 6,
   "id": "b217fd32-348f-4b3f-97cd-1e023a2ec011",
   "metadata": {},
   "outputs": [
    {
     "name": "stdout",
     "output_type": "stream",
     "text": [
      "answer: 34570\n"
     ]
    }
   ],
   "source": [
    "# Solution:\n",
    "def get_sample_size_abs(epsilon, std, alpha, beta):\n",
    "    t_alpha = stats.norm.ppf(1 - alpha / 2, loc=0, scale=1)\n",
    "    t_beta = stats.norm.ppf(1 - beta, loc=0, scale=1)\n",
    "    z_scores_sum_squared = (t_alpha + t_beta) ** 2\n",
    "    sample_size = int(\n",
    "        np.ceil(\n",
    "            z_scores_sum_squared * (2 * std ** 2) / (epsilon ** 2)\n",
    "        )\n",
    "    )\n",
    "    return sample_size\n",
    "\n",
    "begin_date = datetime(2022, 2, 21)\n",
    "end_date = datetime(2022, 2, 28)\n",
    "df_metrics = (\n",
    "    df_sales\n",
    "    [(df_sales['date'] >= begin_date) & (df_sales['date'] < end_date)]\n",
    "    .groupby('user_id')[['price']].sum()\n",
    "    .reset_index()  \n",
    ")\n",
    "std = df_metrics['price'].std()\n",
    "\n",
    "sample_size = get_sample_size_abs(20, std, 0.05, 0.1)\n",
    "print('answer:', round(sample_size, -1))"
   ]
  },
  {
   "cell_type": "code",
   "execution_count": 7,
   "id": "40e9577b-efd9-41fe-8fd1-cb2b41f7a1c3",
   "metadata": {},
   "outputs": [
    {
     "data": {
      "text/plain": [
       "33880"
      ]
     },
     "execution_count": 7,
     "metadata": {},
     "output_type": "execute_result"
    }
   ],
   "source": [
    "events_per_user = df_sales['user_id'].value_counts().mean()\n",
    "\n",
    "required_user_number = round(int(required_event_number / events_per_user) + 1, -1)\n",
    "required_user_number"
   ]
  },
  {
   "cell_type": "markdown",
   "id": "c1a86d70-47b9-4aa2-8fc0-fbe41da44841",
   "metadata": {},
   "source": [
    "### Задача 2. MDE\n",
    "\n",
    "В прошлом задании получилось, что необходимый размер групп больше имеющихся данных за одну неделю.\n",
    "Какой минимальный эффект мы можем отловить с теми же вероятностями ошибок на данных\n",
    "с 21 по 28 февраля?\n",
    "\n",
    "Ответ округлите до целого значения.\n"
   ]
  },
  {
   "cell_type": "code",
   "execution_count": 8,
   "id": "479ad09f-c81f-4c3a-aa66-8dba1222ed12",
   "metadata": {},
   "outputs": [
    {
     "data": {
      "text/plain": [
       "(34570, 25347)"
      ]
     },
     "execution_count": 8,
     "metadata": {},
     "output_type": "execute_result"
    }
   ],
   "source": [
    "res_1, df_sales.shape[0]"
   ]
  },
  {
   "cell_type": "code",
   "execution_count": 9,
   "id": "c5daeb17-e3c4-4fd4-a754-fd90f4696456",
   "metadata": {},
   "outputs": [],
   "source": [
    "def get_minimal_determinable_effect(std, sample_size, alpha=0.05, beta=0.2):\n",
    "    t_alpha = stats.norm.ppf(1 - alpha / 2, loc=0, scale=1)\n",
    "    t_beta = stats.norm.ppf(1 - beta, loc=0, scale=1)\n",
    "    \n",
    "    disp_sum_sqrt = (2 * (std ** 2)) ** 0.5\n",
    "    \n",
    "    mde = (t_alpha + t_beta) * disp_sum_sqrt / np.sqrt(sample_size)\n",
    "\n",
    "    return mde"
   ]
  },
  {
   "cell_type": "code",
   "execution_count": 10,
   "id": "2a2738a4-06ae-458f-9d5e-702df2acee72",
   "metadata": {},
   "outputs": [
    {
     "data": {
      "text/plain": [
       "33"
      ]
     },
     "execution_count": 10,
     "metadata": {},
     "output_type": "execute_result"
    }
   ],
   "source": [
    "res_2 = int(get_minimal_determinable_effect(metric_std, df_sales.shape[0] // 2, alpha, beta))\n",
    "res_2"
   ]
  },
  {
   "cell_type": "markdown",
   "id": "da7d8ead-2521-4008-b930-d2ccd904131b",
   "metadata": {},
   "source": [
    "### Задача 3. Функция оценки размера выборки\n",
    "\n",
    "Реализуйте функцию `estimate_sample_size`.\n",
    "\n",
    "Обратите внимание:\n",
    "1. Размер эффекта задаётся в процентах;\n",
    "2. Для вычисления стандартного отклонения используйте функцию np.std с параметрами по умолчанию.\n",
    "3. Не используйте агрегацию внутри функции.\n",
    "4. Стандартное отклонение и значение среднего необходимо посчитать по полученному столбцу с метрикой."
   ]
  },
  {
   "cell_type": "code",
   "execution_count": 11,
   "id": "ce3c20dd-1576-4933-9714-75c112a7b2bb",
   "metadata": {},
   "outputs": [],
   "source": [
    "import numpy as np\n",
    "import pandas as pd\n",
    "from scipy import stats\n",
    "\n",
    "def get_sample_size_abs(epsilon, std, alpha, beta):\n",
    "    t_alpha = stats.norm.ppf(1 - alpha / 2, loc=0, scale=1)\n",
    "    t_beta = stats.norm.ppf(1 - beta, loc=0, scale=1)\n",
    "    z_scores_sum_squared = (t_alpha + t_beta) ** 2\n",
    "    sample_size = int(\n",
    "        np.ceil(\n",
    "            z_scores_sum_squared * (2 * std ** 2) / (epsilon ** 2)\n",
    "        )\n",
    "    )\n",
    "    return sample_size\n",
    "\n",
    "def get_sample_size_rel(mu, std, eff=0.01, alpha=0.05, beta=0.2):\n",
    "    \"\"\"Relative change.\"\"\"\n",
    "    return get_sample_size_abs(mu * eff / 100.0, std, alpha, beta)\n",
    "\n",
    "def estimate_sample_size(metrics, effect, alpha, beta):\n",
    "    \"\"\"Оцениваем необходимый размер выборки для проверки гипотезы о равенстве средних.\n",
    "    \n",
    "    Для метрик, у которых для одного пользователя одно значение просто вычислите\n",
    "    размер групп по формуле.\n",
    "    Для метрик, у которых для одного пользователя несколько значений (например,\n",
    "    response_time), вычислите необходимый объём данных и разделите его на среднее\n",
    "    количество значений на одного пользователя.\n",
    "    Пример, если в таблице metrics 1000 наблюдений и 100 уникальных пользователей,\n",
    "    и для эксперимента нужно 302 наблюдения, то размер групп будет 31, тк в среднем на\n",
    "    одного пользователя 10 наблюдений, то получится порядка 310 наблюдений в группе.\n",
    "\n",
    "    :param metrics (pd.DataFrame): таблица со значениями метрик,\n",
    "        содержит столбцы ['user_id', 'metric'].\n",
    "    :param effect (float): размер эффекта в процентах.\n",
    "        Пример, effect=3 означает, что ожидаем увеличение среднего на 3%.\n",
    "    :param alpha (float): уровень значимости.\n",
    "    :param beta (float): допустимая вероятность ошибки II рода.\n",
    "    :return (int): минимально необходимый размер групп (количество пользователей)\n",
    "    \"\"\"\n",
    "    col = metrics['metric']\n",
    "    mu = np.mean(col)\n",
    "    std = np.std(col)\n",
    "    events_per_user = metrics['user_id'].value_counts().mean()\n",
    "    \n",
    "    min_sample_size = int(np.ceil(get_sample_size_rel(mu, std, effect, alpha, beta) / events_per_user))\n",
    "    \n",
    "    return min_sample_size"
   ]
  },
  {
   "cell_type": "code",
   "execution_count": 12,
   "id": "b6386002-44af-4231-8cf4-ee3218a3aeec",
   "metadata": {},
   "outputs": [
    {
     "data": {
      "text/plain": [
       "1966"
      ]
     },
     "execution_count": 12,
     "metadata": {},
     "output_type": "execute_result"
    }
   ],
   "source": [
    "metrics = pd.DataFrame({\n",
    "    'user_id': np.arange(100),\n",
    "    'metric': np.linspace(500, 1490, 100)\n",
    "})\n",
    "effect, alpha, beta = 3, 0.05, 0.1\n",
    "sample_size = estimate_sample_size(metrics, effect, alpha, beta)\n",
    "# sample_size = 1966\n",
    "sample_size"
   ]
  },
  {
   "cell_type": "code",
   "execution_count": 13,
   "id": "0b66fc6a-357a-49ef-b0e1-8c410c336dd9",
   "metadata": {},
   "outputs": [
    {
     "data": {
      "text/plain": [
       "590"
      ]
     },
     "execution_count": 13,
     "metadata": {},
     "output_type": "execute_result"
    }
   ],
   "source": [
    "metrics = pd.DataFrame({\n",
    "    'user_id': np.arange(100) % 30,\n",
    "    'metric': np.linspace(500, 1490, 100)\n",
    "})\n",
    "effect, alpha, beta = 3, 0.05, 0.1\n",
    "sample_size = estimate_sample_size(metrics, effect, alpha, beta)\n",
    "# sample_size = 590\n",
    "sample_size"
   ]
  },
  {
   "cell_type": "code",
   "execution_count": 14,
   "id": "c9d1f267-b442-41c2-963e-04cb7fc1c277",
   "metadata": {},
   "outputs": [],
   "source": [
    "# Solution\n",
    "import numpy as np\n",
    "from scipy import stats\n",
    "\n",
    "\n",
    "def estimate_sample_size(metrics, effect, alpha, beta):\n",
    "    std = np.std(metrics['metric'].values)\n",
    "    mean = np.mean(metrics['metric'].values)\n",
    "    epsilon = effect / 100 * mean\n",
    "    # отношение кол-ва уникальных пользователей к кол-ву наблюдений\n",
    "    coef = metrics['user_id'].nunique() / len(metrics)\n",
    "    t_alpha = stats.norm.ppf(1 - alpha / 2, loc=0, scale=1)\n",
    "    t_beta = stats.norm.ppf(1 - beta, loc=0, scale=1)\n",
    "    z_scores_sum_squared = (t_alpha + t_beta) ** 2\n",
    "    sample_size = int(\n",
    "        np.ceil(\n",
    "            z_scores_sum_squared * (2 * std ** 2) / (epsilon ** 2) * coef\n",
    "        )\n",
    "    )\n",
    "    return sample_size\n"
   ]
  },
  {
   "cell_type": "code",
   "execution_count": null,
   "id": "e52478dd-b897-42a9-a599-6b2d7a0184ac",
   "metadata": {},
   "outputs": [],
   "source": []
  }
 ],
 "metadata": {
  "kernelspec": {
   "display_name": "Python 3 (ipykernel)",
   "language": "python",
   "name": "python3"
  },
  "language_info": {
   "codemirror_mode": {
    "name": "ipython",
    "version": 3
   },
   "file_extension": ".py",
   "mimetype": "text/x-python",
   "name": "python",
   "nbconvert_exporter": "python",
   "pygments_lexer": "ipython3",
   "version": "3.8.10"
  }
 },
 "nbformat": 4,
 "nbformat_minor": 5
}
