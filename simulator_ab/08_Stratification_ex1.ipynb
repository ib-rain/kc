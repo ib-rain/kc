{
 "cells": [
  {
   "cell_type": "code",
   "execution_count": 1,
   "metadata": {},
   "outputs": [],
   "source": [
    "import pandas as pd\n",
    "import numpy as np\n",
    "import matplotlib.pyplot as plt"
   ]
  },
  {
   "cell_type": "markdown",
   "metadata": {},
   "source": [
    "## Загрузка данных"
   ]
  },
  {
   "cell_type": "code",
   "execution_count": 2,
   "metadata": {},
   "outputs": [
    {
     "data": {
      "text/html": [
       "<div>\n",
       "<style scoped>\n",
       "    .dataframe tbody tr th:only-of-type {\n",
       "        vertical-align: middle;\n",
       "    }\n",
       "\n",
       "    .dataframe tbody tr th {\n",
       "        vertical-align: top;\n",
       "    }\n",
       "\n",
       "    .dataframe thead th {\n",
       "        text-align: right;\n",
       "    }\n",
       "</style>\n",
       "<table border=\"1\" class=\"dataframe\">\n",
       "  <thead>\n",
       "    <tr style=\"text-align: right;\">\n",
       "      <th></th>\n",
       "      <th>x1</th>\n",
       "      <th>x2</th>\n",
       "      <th>x3</th>\n",
       "      <th>x4</th>\n",
       "      <th>x5</th>\n",
       "      <th>x6</th>\n",
       "      <th>x7</th>\n",
       "      <th>x8</th>\n",
       "      <th>x9</th>\n",
       "      <th>x10</th>\n",
       "      <th>y</th>\n",
       "    </tr>\n",
       "  </thead>\n",
       "  <tbody>\n",
       "    <tr>\n",
       "      <th>0</th>\n",
       "      <td>0.869</td>\n",
       "      <td>30</td>\n",
       "      <td>33.8</td>\n",
       "      <td>0</td>\n",
       "      <td>1</td>\n",
       "      <td>0.2</td>\n",
       "      <td>1992</td>\n",
       "      <td>1</td>\n",
       "      <td>1</td>\n",
       "      <td>1</td>\n",
       "      <td>1903</td>\n",
       "    </tr>\n",
       "    <tr>\n",
       "      <th>1</th>\n",
       "      <td>0.759</td>\n",
       "      <td>27</td>\n",
       "      <td>21.7</td>\n",
       "      <td>2</td>\n",
       "      <td>0</td>\n",
       "      <td>3.5</td>\n",
       "      <td>1995</td>\n",
       "      <td>1</td>\n",
       "      <td>1</td>\n",
       "      <td>2</td>\n",
       "      <td>1313</td>\n",
       "    </tr>\n",
       "    <tr>\n",
       "      <th>2</th>\n",
       "      <td>0.456</td>\n",
       "      <td>29</td>\n",
       "      <td>37.6</td>\n",
       "      <td>2</td>\n",
       "      <td>0</td>\n",
       "      <td>3.1</td>\n",
       "      <td>1993</td>\n",
       "      <td>0</td>\n",
       "      <td>0</td>\n",
       "      <td>0</td>\n",
       "      <td>1484</td>\n",
       "    </tr>\n",
       "    <tr>\n",
       "      <th>3</th>\n",
       "      <td>0.060</td>\n",
       "      <td>35</td>\n",
       "      <td>27.5</td>\n",
       "      <td>2</td>\n",
       "      <td>0</td>\n",
       "      <td>4.7</td>\n",
       "      <td>1988</td>\n",
       "      <td>0</td>\n",
       "      <td>0</td>\n",
       "      <td>1</td>\n",
       "      <td>1188</td>\n",
       "    </tr>\n",
       "    <tr>\n",
       "      <th>4</th>\n",
       "      <td>0.939</td>\n",
       "      <td>19</td>\n",
       "      <td>30.7</td>\n",
       "      <td>0</td>\n",
       "      <td>0</td>\n",
       "      <td>3.6</td>\n",
       "      <td>2003</td>\n",
       "      <td>1</td>\n",
       "      <td>1</td>\n",
       "      <td>2</td>\n",
       "      <td>842</td>\n",
       "    </tr>\n",
       "  </tbody>\n",
       "</table>\n",
       "</div>"
      ],
      "text/plain": [
       "      x1  x2    x3  x4  x5   x6    x7  x8  x9  x10     y\n",
       "0  0.869  30  33.8   0   1  0.2  1992   1   1    1  1903\n",
       "1  0.759  27  21.7   2   0  3.5  1995   1   1    2  1313\n",
       "2  0.456  29  37.6   2   0  3.1  1993   0   0    0  1484\n",
       "3  0.060  35  27.5   2   0  4.7  1988   0   0    1  1188\n",
       "4  0.939  19  30.7   0   0  3.6  2003   1   1    2   842"
      ]
     },
     "execution_count": 2,
     "metadata": {},
     "output_type": "execute_result"
    }
   ],
   "source": [
    "df = pd.read_csv('stratification_task_data_public.csv')\n",
    "df.head()"
   ]
  },
  {
   "cell_type": "markdown",
   "metadata": {},
   "source": [
    "## Вычисление характеристик стратификации\n",
    "\n",
    "Напишем функцию для вычисления стратифицированной дисперсии и минимальной доли страт."
   ]
  },
  {
   "cell_type": "code",
   "execution_count": 3,
   "metadata": {},
   "outputs": [],
   "source": [
    "def calc_strat_params(df):\n",
    "    \"\"\"Вычисляет стратифицированную дисперсию и минимальную долю страт.\"\"\"\n",
    "    strat_vars = df.groupby('strat')['y'].var()\n",
    "    weights = df['strat'].value_counts(normalize=True)\n",
    "    stratified_var = (strat_vars * weights).sum()\n",
    "    min_part = df['strat'].value_counts(normalize=True).min()\n",
    "    return stratified_var, min_part\n",
    "\n",
    "def print_strat_params(df):\n",
    "    stratified_var, min_part = calc_strat_params(df)\n",
    "    print(f'var={stratified_var:0.0f}, min_part={min_part*100:0.2f}%')"
   ]
  },
  {
   "cell_type": "markdown",
   "metadata": {},
   "source": [
    "Посчитаем дисперсию без разбиения на страты, чтобы знать с чем сравниваться в дальнейшем."
   ]
  },
  {
   "cell_type": "code",
   "execution_count": 4,
   "metadata": {},
   "outputs": [
    {
     "name": "stdout",
     "output_type": "stream",
     "text": [
      "var=66078, min_part=100.00%\n"
     ]
    }
   ],
   "source": [
    "df['strat'] = 0\n",
    "print_strat_params(df)"
   ]
  },
  {
   "cell_type": "markdown",
   "metadata": {},
   "source": [
    "## Стратегия 1. Признак в качестве страты\n",
    "\n",
    "У нас есть данные по 10 признакам. Попробуем взять в качестве страты каждый из них."
   ]
  },
  {
   "cell_type": "code",
   "execution_count": 5,
   "metadata": {},
   "outputs": [
    {
     "name": "stdout",
     "output_type": "stream",
     "text": [
      "x1   var=66234, min_part=0.02%\n",
      "x2   var=47232, min_part=0.01%\n",
      "x3   var=64391, min_part=0.01%\n",
      "x4   var=66054, min_part=32.61%\n",
      "x5   var=66022, min_part=40.74%\n",
      "x6   var=65714, min_part=0.01%\n",
      "x7   var=48055, min_part=0.01%\n",
      "x8   var=64859, min_part=34.95%\n",
      "x9   var=66051, min_part=39.70%\n",
      "x10  var=63756, min_part=0.07%\n"
     ]
    }
   ],
   "source": [
    "for feature in [f'x{x}' for x in range(1, 11)]:\n",
    "    print(f'{feature:<5}', end='')\n",
    "    df['strat'] = df[feature]\n",
    "    print_strat_params(df)"
   ]
  },
  {
   "cell_type": "markdown",
   "metadata": {},
   "source": [
    "Изначальная дисперсия была равна 66078. Все варианты кроме x1 снизили дисперсию.\n",
    "\n",
    "Сильнее всего дисперсия снизилась при стратификации по признаку x2, но доля минимальной страты меньше 5%.\n",
    "\n",
    "Лучший результат с учётом ограничения на размер страт: **x8 var=64859, min_part=34.9%**"
   ]
  },
  {
   "cell_type": "markdown",
   "metadata": {},
   "source": [
    "## Стратегия 2. Объединение страт\n",
    "\n",
    "При стратификации по признаку x10 были страты размером меньше 5%. Объединим несколько страт в одну, чтобы минимальный размер страт был не меньше 5%.\n",
    "\n",
    "Чем сильнее отличаются средние значения метрики у страт, тем сильнее понижается дисперсия. Поэтому логично объединять страты с похожими средними значениями.\n",
    "\n",
    "Для стратификации по признаку x10 посчитаем доли страт и средние значения метрики."
   ]
  },
  {
   "cell_type": "code",
   "execution_count": 6,
   "metadata": {},
   "outputs": [
    {
     "data": {
      "text/html": [
       "<div>\n",
       "<style scoped>\n",
       "    .dataframe tbody tr th:only-of-type {\n",
       "        vertical-align: middle;\n",
       "    }\n",
       "\n",
       "    .dataframe tbody tr th {\n",
       "        vertical-align: top;\n",
       "    }\n",
       "\n",
       "    .dataframe thead th {\n",
       "        text-align: right;\n",
       "    }\n",
       "</style>\n",
       "<table border=\"1\" class=\"dataframe\">\n",
       "  <thead>\n",
       "    <tr style=\"text-align: right;\">\n",
       "      <th></th>\n",
       "      <th>count</th>\n",
       "      <th>mean</th>\n",
       "      <th>part</th>\n",
       "    </tr>\n",
       "    <tr>\n",
       "      <th>x10</th>\n",
       "      <th></th>\n",
       "      <th></th>\n",
       "      <th></th>\n",
       "    </tr>\n",
       "  </thead>\n",
       "  <tbody>\n",
       "    <tr>\n",
       "      <th>0</th>\n",
       "      <td>1362</td>\n",
       "      <td>1311.5</td>\n",
       "      <td>0.136</td>\n",
       "    </tr>\n",
       "    <tr>\n",
       "      <th>1</th>\n",
       "      <td>2701</td>\n",
       "      <td>1310.8</td>\n",
       "      <td>0.270</td>\n",
       "    </tr>\n",
       "    <tr>\n",
       "      <th>2</th>\n",
       "      <td>2702</td>\n",
       "      <td>1391.6</td>\n",
       "      <td>0.270</td>\n",
       "    </tr>\n",
       "    <tr>\n",
       "      <th>3</th>\n",
       "      <td>1825</td>\n",
       "      <td>1411.9</td>\n",
       "      <td>0.182</td>\n",
       "    </tr>\n",
       "    <tr>\n",
       "      <th>4</th>\n",
       "      <td>895</td>\n",
       "      <td>1427.0</td>\n",
       "      <td>0.090</td>\n",
       "    </tr>\n",
       "    <tr>\n",
       "      <th>5</th>\n",
       "      <td>346</td>\n",
       "      <td>1428.5</td>\n",
       "      <td>0.035</td>\n",
       "    </tr>\n",
       "    <tr>\n",
       "      <th>6</th>\n",
       "      <td>132</td>\n",
       "      <td>1425.7</td>\n",
       "      <td>0.013</td>\n",
       "    </tr>\n",
       "    <tr>\n",
       "      <th>7</th>\n",
       "      <td>30</td>\n",
       "      <td>1526.9</td>\n",
       "      <td>0.003</td>\n",
       "    </tr>\n",
       "    <tr>\n",
       "      <th>8</th>\n",
       "      <td>7</td>\n",
       "      <td>1402.3</td>\n",
       "      <td>0.001</td>\n",
       "    </tr>\n",
       "  </tbody>\n",
       "</table>\n",
       "</div>"
      ],
      "text/plain": [
       "     count    mean   part\n",
       "x10                      \n",
       "0     1362  1311.5  0.136\n",
       "1     2701  1310.8  0.270\n",
       "2     2702  1391.6  0.270\n",
       "3     1825  1411.9  0.182\n",
       "4      895  1427.0  0.090\n",
       "5      346  1428.5  0.035\n",
       "6      132  1425.7  0.013\n",
       "7       30  1526.9  0.003\n",
       "8        7  1402.3  0.001"
      ]
     },
     "execution_count": 6,
     "metadata": {},
     "output_type": "execute_result"
    }
   ],
   "source": [
    "df_agg = df.groupby('x10')[['y']].agg(['count', 'mean'])\n",
    "df_agg.columns = ['count', 'mean']\n",
    "df_agg['part'] = (df_agg['count'] / len(df)).round(3)\n",
    "df_agg['mean'] = df_agg['mean'].round(1)\n",
    "df_agg"
   ]
  },
  {
   "cell_type": "markdown",
   "metadata": {},
   "source": [
    "Значения признака 5, 6, 7 и 8 имеют наибольшие средние значения метрики. Доля каждого из этих значений меньше 5%, объединим их в одну страту."
   ]
  },
  {
   "cell_type": "code",
   "execution_count": 7,
   "metadata": {},
   "outputs": [
    {
     "name": "stdout",
     "output_type": "stream",
     "text": [
      "var=63761, min_part=5.15%\n"
     ]
    }
   ],
   "source": [
    "df['strat'] = [min(v, 5) for v in df['x10']]\n",
    "print_strat_params(df)"
   ]
  },
  {
   "cell_type": "markdown",
   "metadata": {},
   "source": [
    "Мы добились минимально доли страт не меньше 5% и нового минимального значения стратифицированной дисперсии.\n",
    "\n",
    "**min(x10, 5) var=63761, min_part=5.1%**"
   ]
  },
  {
   "cell_type": "markdown",
   "metadata": {},
   "source": [
    "## Стратегия 3. Пересечение страт\n",
    "\n",
    "У нас есть разные способы разбиения на страты. Возьмём несколько способов и на их основе создадим новый, который будет состоять из всех возможных комбинаций других страт.\n",
    "\n",
    "Например, возьмём страты на основе признаков `x8` и `x9`:\n",
    "\n",
    "- страта 1: `x8=0, x9=0`\n",
    "- страта 2: `x8=0, x9=1`\n",
    "- страта 3: `x8=1, x9=0`\n",
    "- страта 4: `x8=1, x9=1`"
   ]
  },
  {
   "cell_type": "code",
   "execution_count": 8,
   "metadata": {},
   "outputs": [
    {
     "name": "stdout",
     "output_type": "stream",
     "text": [
      "var=64832, min_part=14.17%\n"
     ]
    }
   ],
   "source": [
    "df['strat'] = [' '.join(values) for values in df[['x8', 'x9']].astype(str).values]\n",
    "print_strat_params(df)"
   ]
  },
  {
   "cell_type": "markdown",
   "metadata": {},
   "source": [
    "Значения дисперсий при стратификации по одному признаку:\n",
    "\n",
    "- x8   var=64859, min_part=34.9%\n",
    "- x9   var=66051, min_part=39.7%\n",
    "\n",
    "Дисперсия пересечения признаков стала ниже.\n",
    "\n",
    "**(x8+x9) var=64832, min_part=14.2%**"
   ]
  },
  {
   "cell_type": "markdown",
   "metadata": {},
   "source": [
    "## Три стратегии\n",
    "\n",
    "Используя описанные подходы можно создавать интерпретируемые разбиения на страты, которые будут снижать дисперсию и повышать чувствтительность А/Б тестов."
   ]
  },
  {
   "cell_type": "code",
   "execution_count": null,
   "metadata": {},
   "outputs": [],
   "source": []
  }
 ],
 "metadata": {
  "kernelspec": {
   "display_name": "Python 3 (ipykernel)",
   "language": "python",
   "name": "python3"
  },
  "language_info": {
   "codemirror_mode": {
    "name": "ipython",
    "version": 3
   },
   "file_extension": ".py",
   "mimetype": "text/x-python",
   "name": "python",
   "nbconvert_exporter": "python",
   "pygments_lexer": "ipython3",
   "version": "3.8.10"
  }
 },
 "nbformat": 4,
 "nbformat_minor": 4
}
